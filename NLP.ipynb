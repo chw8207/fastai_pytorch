{
  "nbformat": 4,
  "nbformat_minor": 0,
  "metadata": {
    "colab": {
      "provenance": [],
      "machine_shape": "hm",
      "gpuType": "A100",
      "mount_file_id": "1r-PY12nh17sM9ELWR7UoelMvSqcx_L2H",
      "authorship_tag": "ABX9TyNNv7MbKJxDw809ugMwG4si",
      "include_colab_link": true
    },
    "kernelspec": {
      "name": "python3",
      "display_name": "Python 3"
    },
    "language_info": {
      "name": "python"
    },
    "accelerator": "GPU"
  },
  "cells": [
    {
      "cell_type": "markdown",
      "metadata": {
        "id": "view-in-github",
        "colab_type": "text"
      },
      "source": [
        "<a href=\"https://colab.research.google.com/github/chw8207/fastai_pytorch/blob/main/NLP.ipynb\" target=\"_parent\"><img src=\"https://colab.research.google.com/assets/colab-badge.svg\" alt=\"Open In Colab\"/></a>"
      ]
    },
    {
      "cell_type": "code",
      "source": [
        "!pip install sentencepiece!=0.1.90,!=0.1.91"
      ],
      "metadata": {
        "id": "ebS9U_30RU8A"
      },
      "execution_count": null,
      "outputs": []
    },
    {
      "cell_type": "code",
      "source": [
        "import tensorflow as tf\n",
        "from fastai.text.all import *"
      ],
      "metadata": {
        "id": "lCXoPeefGL10"
      },
      "execution_count": 1,
      "outputs": []
    },
    {
      "cell_type": "markdown",
      "source": [
        "### GPU 설정"
      ],
      "metadata": {
        "id": "YhubWH6rGMso"
      }
    },
    {
      "cell_type": "code",
      "source": [
        "device_name = tf.test.gpu_device_name()\n",
        "if device_name != '/device:GPU:0' :\n",
        "    raise SystemError('GPU device not found')\n",
        "print(f'Found GPU at: {device_name}')"
      ],
      "metadata": {
        "colab": {
          "base_uri": "https://localhost:8080/"
        },
        "id": "6dCr7ufcGMjU",
        "outputId": "168babbf-386e-4613-98b5-503ddacd0d3a"
      },
      "execution_count": 2,
      "outputs": [
        {
          "output_type": "stream",
          "name": "stdout",
          "text": [
            "Found GPU at: /device:GPU:0\n"
          ]
        }
      ]
    },
    {
      "cell_type": "code",
      "source": [
        "from tensorflow.python.client import device_lib\n",
        "\n",
        "print(device_lib.list_local_devices())"
      ],
      "metadata": {
        "colab": {
          "base_uri": "https://localhost:8080/"
        },
        "id": "vg5AOBitGQ6B",
        "outputId": "517fd9f7-962b-4f01-f6ac-c2ad4013f979"
      },
      "execution_count": 3,
      "outputs": [
        {
          "output_type": "stream",
          "name": "stdout",
          "text": [
            "[name: \"/device:CPU:0\"\n",
            "device_type: \"CPU\"\n",
            "memory_limit: 268435456\n",
            "locality {\n",
            "}\n",
            "incarnation: 6867392105482851747\n",
            "xla_global_id: -1\n",
            ", name: \"/device:GPU:0\"\n",
            "device_type: \"GPU\"\n",
            "memory_limit: 40129593344\n",
            "locality {\n",
            "  bus_id: 1\n",
            "  links {\n",
            "  }\n",
            "}\n",
            "incarnation: 17405535763795452091\n",
            "physical_device_desc: \"device: 0, name: NVIDIA A100-SXM4-40GB, pci bus id: 0000:00:04.0, compute capability: 8.0\"\n",
            "xla_global_id: 416903419\n",
            "]\n"
          ]
        }
      ]
    },
    {
      "cell_type": "markdown",
      "source": [
        "### 텍스트 전처리"
      ],
      "metadata": {
        "id": "8CPYVMWfF9N0"
      }
    },
    {
      "cell_type": "markdown",
      "source": [
        "#### 단어 토큰화"
      ],
      "metadata": {
        "id": "WQE_Vv6zGBCu"
      }
    },
    {
      "cell_type": "code",
      "execution_count": 4,
      "metadata": {
        "colab": {
          "base_uri": "https://localhost:8080/",
          "height": 37
        },
        "id": "1N-tI675F4XV",
        "outputId": "06b8697a-0cab-4ce1-d733-6d4dc8e7418e"
      },
      "outputs": [
        {
          "output_type": "display_data",
          "data": {
            "text/plain": [
              "<IPython.core.display.HTML object>"
            ],
            "text/html": [
              "\n",
              "<style>\n",
              "    /* Turns off some styling */\n",
              "    progress {\n",
              "        /* gets rid of default border in Firefox and Opera. */\n",
              "        border: none;\n",
              "        /* Needs to be in here for Safari polyfill so background images work as expected. */\n",
              "        background-size: auto;\n",
              "    }\n",
              "    progress:not([value]), progress:not([value])::-webkit-progress-bar {\n",
              "        background: repeating-linear-gradient(45deg, #7e7e7e, #7e7e7e 10px, #5c5c5c 10px, #5c5c5c 20px);\n",
              "    }\n",
              "    .progress-bar-interrupted, .progress-bar-interrupted::-webkit-progress-bar {\n",
              "        background: #F44336;\n",
              "    }\n",
              "</style>\n"
            ]
          },
          "metadata": {}
        },
        {
          "output_type": "display_data",
          "data": {
            "text/plain": [
              "<IPython.core.display.HTML object>"
            ],
            "text/html": [
              "\n",
              "    <div>\n",
              "      <progress value='144441344' class='' max='144440600' style='width:300px; height:20px; vertical-align: middle;'></progress>\n",
              "      100.00% [144441344/144440600 00:11&lt;00:00]\n",
              "    </div>\n",
              "    "
            ]
          },
          "metadata": {}
        }
      ],
      "source": [
        "# IMDb 데이터셋\n",
        "path = untar_data(URLs.IMDB)"
      ]
    },
    {
      "cell_type": "code",
      "source": [
        "# 경로 내 모든 텍스트 파일 가져오기\n",
        "files = get_text_files(path, folders=['train','test','unsup'])"
      ],
      "metadata": {
        "id": "-y7kKqbCGmaN"
      },
      "execution_count": 5,
      "outputs": []
    },
    {
      "cell_type": "code",
      "source": [
        "# 토큰화할 영화 리뷰\n",
        "txt = files[0].open().read()\n",
        "txt"
      ],
      "metadata": {
        "colab": {
          "base_uri": "https://localhost:8080/",
          "height": 89
        },
        "id": "s5d-NKt6Gvdp",
        "outputId": "125e60fd-e357-4623-848a-d1c46068dbeb"
      },
      "execution_count": 11,
      "outputs": [
        {
          "output_type": "execute_result",
          "data": {
            "text/plain": [
              "'I remember watching this when it was made and thinking it was brilliant at the time. Watching it for the second time nearly 20 years later, I still think Traffik is brilliant and much better than the US film that was based on this drama.<br /><br />It should also be watched by all our come today gone tomorrow politicians who think they can win the war on drugs, as the issues raised in this film are as pertinent today as they were back then at the end of the 80s, and unless they change their policies, will be so in another 20 years.<br /><br />Well written, well made, beautifully acted and superbly filmed. A thought provoking drama that entertains as well as brings to light some of the hard realities of the criminal drug trade.'"
            ],
            "application/vnd.google.colaboratory.intrinsic+json": {
              "type": "string"
            }
          },
          "metadata": {},
          "execution_count": 11
        }
      ]
    },
    {
      "cell_type": "code",
      "source": [
        "# 토크나이저 사용해보기\n",
        "spacy = WordTokenizer()\n",
        "toks = first(spacy([txt]))\n",
        "print(coll_repr(toks, 30))"
      ],
      "metadata": {
        "colab": {
          "base_uri": "https://localhost:8080/"
        },
        "id": "VaxWzxY_IFaL",
        "outputId": "9569fa35-0b0f-4e85-cd56-803d8acfd9c8"
      },
      "execution_count": 13,
      "outputs": [
        {
          "output_type": "stream",
          "name": "stdout",
          "text": [
            "(#144) ['I','remember','watching','this','when','it','was','made','and','thinking','it','was','brilliant','at','the','time','.','Watching','it','for','the','second','time','nearly','20','years','later',',','I','still'...]\n"
          ]
        }
      ]
    },
    {
      "cell_type": "code",
      "source": [
        "# spaCy 예시\n",
        "first(spacy(['The U.S. dollar #1 is $1.00.']))"
      ],
      "metadata": {
        "colab": {
          "base_uri": "https://localhost:8080/"
        },
        "id": "FpF5123fJEgR",
        "outputId": "302c0ac0-969c-4771-d7ee-7b603be5bced"
      },
      "execution_count": 14,
      "outputs": [
        {
          "output_type": "execute_result",
          "data": {
            "text/plain": [
              "(#9) ['The','U.S.','dollar','#','1','is','$','1.00','.']"
            ]
          },
          "metadata": {},
          "execution_count": 14
        }
      ]
    },
    {
      "cell_type": "markdown",
      "source": [
        "##### 특수 토큰\n",
        "- xxbos : 텍스트의 시작\n",
        "- xxmaj : 다음 단어가 대문자로 시작함\n",
        "- xxunk : 현재 단어가 목록에 없음"
      ],
      "metadata": {
        "id": "nL_AubwHLEV2"
      }
    },
    {
      "cell_type": "code",
      "source": [
        "# 추가 기능 살펴보기\n",
        "# xx~ : 특수 토큰\n",
        "tkn = Tokenizer(spacy)\n",
        "print(coll_repr(tkn(txt),31))"
      ],
      "metadata": {
        "colab": {
          "base_uri": "https://localhost:8080/"
        },
        "id": "iv0PuK58KWKX",
        "outputId": "f2b535e7-34f1-4c06-f8c5-cc902a57f078"
      },
      "execution_count": 15,
      "outputs": [
        {
          "output_type": "stream",
          "name": "stdout",
          "text": [
            "(#152) ['xxbos','i','remember','watching','this','when','it','was','made','and','thinking','it','was','brilliant','at','the','time','.','xxmaj','watching','it','for','the','second','time','nearly','20','years','later',',','i'...]\n"
          ]
        }
      ]
    },
    {
      "cell_type": "code",
      "source": [
        "# 적용된 규칙 확인하기\n",
        "defaults.text_proc_rules"
      ],
      "metadata": {
        "colab": {
          "base_uri": "https://localhost:8080/"
        },
        "id": "HcDlJhvLLPXH",
        "outputId": "6f149a5d-e193-4a18-efdd-4fd47fd6613f"
      },
      "execution_count": 16,
      "outputs": [
        {
          "output_type": "execute_result",
          "data": {
            "text/plain": [
              "[<function fastai.text.core.fix_html(x)>,\n",
              " <function fastai.text.core.replace_rep(t)>,\n",
              " <function fastai.text.core.replace_wrep(t)>,\n",
              " <function fastai.text.core.spec_add_spaces(t)>,\n",
              " <function fastai.text.core.rm_useless_spaces(t)>,\n",
              " <function fastai.text.core.replace_all_caps(t)>,\n",
              " <function fastai.text.core.replace_maj(t)>,\n",
              " <function fastai.text.core.lowercase(t, add_bos=True, add_eos=False)>]"
            ]
          },
          "metadata": {},
          "execution_count": 16
        }
      ]
    },
    {
      "cell_type": "code",
      "source": [
        "# 토큰화에 내부적으로 적용된 함수의 작동 살펴보기\n",
        "coll_repr(tkn('&copy; Fast.ai www.fast.ai/INDEX'),31)"
      ],
      "metadata": {
        "colab": {
          "base_uri": "https://localhost:8080/",
          "height": 35
        },
        "id": "DU4UC3-KLgkv",
        "outputId": "29856778-bcb8-4002-d38e-faf9efcdedda"
      },
      "execution_count": 18,
      "outputs": [
        {
          "output_type": "execute_result",
          "data": {
            "text/plain": [
              "\"(#11) ['xxbos','©','xxmaj','fast.ai','xxrep','3','w','.fast.ai','/','xxup','index']\""
            ],
            "application/vnd.google.colaboratory.intrinsic+json": {
              "type": "string"
            }
          },
          "metadata": {},
          "execution_count": 18
        }
      ]
    },
    {
      "cell_type": "markdown",
      "source": [
        "#### 부분 단어 토큰화"
      ],
      "metadata": {
        "id": "HVkc59UPPG_o"
      }
    },
    {
      "cell_type": "code",
      "source": [
        "# 예시 살펴보기\n",
        "txts = L(o.open().read() for o in files[:2000])"
      ],
      "metadata": {
        "id": "2FLJbgOiPG3-"
      },
      "execution_count": 20,
      "outputs": []
    },
    {
      "cell_type": "code",
      "source": [
        "# setup : 데이터 처리 파이프라인에서 자동으로 호출되는 특별한 fastai메서드\n",
        "# 주어진 vocab 크기에 대해 setup과정을 수행하고, 토크나이저가 토큰화한 결과를 일부 반환하는 함수\n",
        "def subword(sz) :\n",
        "  sp = SubwordTokenizer(vocab_sz=sz)\n",
        "  sp.setup(txts)\n",
        "  return ' '.join(first(sp([txt]))[:40])"
      ],
      "metadata": {
        "id": "0JcRcfJ4Qse4"
      },
      "execution_count": 23,
      "outputs": []
    },
    {
      "cell_type": "code",
      "source": [
        "subword(1000)"
      ],
      "metadata": {
        "colab": {
          "base_uri": "https://localhost:8080/",
          "height": 53
        },
        "id": "ftUiJSTDRH8d",
        "outputId": "20bb4e2c-93a3-46f2-aff3-9e21617fe9e7"
      },
      "execution_count": 26,
      "outputs": [
        {
          "output_type": "display_data",
          "data": {
            "text/plain": [
              "<IPython.core.display.HTML object>"
            ],
            "text/html": [
              "\n",
              "<style>\n",
              "    /* Turns off some styling */\n",
              "    progress {\n",
              "        /* gets rid of default border in Firefox and Opera. */\n",
              "        border: none;\n",
              "        /* Needs to be in here for Safari polyfill so background images work as expected. */\n",
              "        background-size: auto;\n",
              "    }\n",
              "    progress:not([value]), progress:not([value])::-webkit-progress-bar {\n",
              "        background: repeating-linear-gradient(45deg, #7e7e7e, #7e7e7e 10px, #5c5c5c 10px, #5c5c5c 20px);\n",
              "    }\n",
              "    .progress-bar-interrupted, .progress-bar-interrupted::-webkit-progress-bar {\n",
              "        background: #F44336;\n",
              "    }\n",
              "</style>\n"
            ]
          },
          "metadata": {}
        },
        {
          "output_type": "display_data",
          "data": {
            "text/plain": [
              "<IPython.core.display.HTML object>"
            ],
            "text/html": []
          },
          "metadata": {}
        },
        {
          "output_type": "execute_result",
          "data": {
            "text/plain": [
              "'▁I ▁remember ▁watching ▁this ▁when ▁it ▁was ▁made ▁and ▁think ing ▁it ▁was ▁brilliant ▁at ▁the ▁time . ▁W at ch ing ▁it ▁for ▁the ▁second ▁time ▁near ly ▁2 0 ▁years ▁la ter , ▁I ▁still ▁think ▁T ra'"
            ],
            "application/vnd.google.colaboratory.intrinsic+json": {
              "type": "string"
            }
          },
          "metadata": {},
          "execution_count": 26
        }
      ]
    },
    {
      "cell_type": "code",
      "source": [
        "subword(200)"
      ],
      "metadata": {
        "colab": {
          "base_uri": "https://localhost:8080/",
          "height": 35
        },
        "id": "KT_UE1pORelT",
        "outputId": "d0ee8290-3043-4331-9c63-776069b7ae6d"
      },
      "execution_count": 27,
      "outputs": [
        {
          "output_type": "display_data",
          "data": {
            "text/plain": [
              "<IPython.core.display.HTML object>"
            ],
            "text/html": [
              "\n",
              "<style>\n",
              "    /* Turns off some styling */\n",
              "    progress {\n",
              "        /* gets rid of default border in Firefox and Opera. */\n",
              "        border: none;\n",
              "        /* Needs to be in here for Safari polyfill so background images work as expected. */\n",
              "        background-size: auto;\n",
              "    }\n",
              "    progress:not([value]), progress:not([value])::-webkit-progress-bar {\n",
              "        background: repeating-linear-gradient(45deg, #7e7e7e, #7e7e7e 10px, #5c5c5c 10px, #5c5c5c 20px);\n",
              "    }\n",
              "    .progress-bar-interrupted, .progress-bar-interrupted::-webkit-progress-bar {\n",
              "        background: #F44336;\n",
              "    }\n",
              "</style>\n"
            ]
          },
          "metadata": {}
        },
        {
          "output_type": "display_data",
          "data": {
            "text/plain": [
              "<IPython.core.display.HTML object>"
            ],
            "text/html": []
          },
          "metadata": {}
        },
        {
          "output_type": "execute_result",
          "data": {
            "text/plain": [
              "'▁I ▁re m e m b er ▁w at ch ing ▁this ▁w h en ▁it ▁was ▁ma d e ▁and ▁ th in k ing ▁it ▁was ▁b ri ll i an t ▁a t ▁the ▁ t i'"
            ],
            "application/vnd.google.colaboratory.intrinsic+json": {
              "type": "string"
            }
          },
          "metadata": {},
          "execution_count": 27
        }
      ]
    },
    {
      "cell_type": "code",
      "source": [
        "subword(10000)"
      ],
      "metadata": {
        "colab": {
          "base_uri": "https://localhost:8080/",
          "height": 53
        },
        "id": "27k63TbNRkOQ",
        "outputId": "c95a11c8-7cbd-4173-ea24-2bf8cd1345e2"
      },
      "execution_count": 28,
      "outputs": [
        {
          "output_type": "display_data",
          "data": {
            "text/plain": [
              "<IPython.core.display.HTML object>"
            ],
            "text/html": [
              "\n",
              "<style>\n",
              "    /* Turns off some styling */\n",
              "    progress {\n",
              "        /* gets rid of default border in Firefox and Opera. */\n",
              "        border: none;\n",
              "        /* Needs to be in here for Safari polyfill so background images work as expected. */\n",
              "        background-size: auto;\n",
              "    }\n",
              "    progress:not([value]), progress:not([value])::-webkit-progress-bar {\n",
              "        background: repeating-linear-gradient(45deg, #7e7e7e, #7e7e7e 10px, #5c5c5c 10px, #5c5c5c 20px);\n",
              "    }\n",
              "    .progress-bar-interrupted, .progress-bar-interrupted::-webkit-progress-bar {\n",
              "        background: #F44336;\n",
              "    }\n",
              "</style>\n"
            ]
          },
          "metadata": {}
        },
        {
          "output_type": "display_data",
          "data": {
            "text/plain": [
              "<IPython.core.display.HTML object>"
            ],
            "text/html": []
          },
          "metadata": {}
        },
        {
          "output_type": "execute_result",
          "data": {
            "text/plain": [
              "'▁I ▁remember ▁watching ▁this ▁when ▁it ▁was ▁made ▁and ▁thinking ▁it ▁was ▁brilliant ▁at ▁the ▁time . ▁Watch ing ▁it ▁for ▁the ▁second ▁time ▁near ly ▁20 ▁years ▁later , ▁I ▁still ▁think ▁ Traffik ▁is ▁brilliant ▁and ▁much ▁better'"
            ],
            "application/vnd.google.colaboratory.intrinsic+json": {
              "type": "string"
            }
          },
          "metadata": {},
          "execution_count": 28
        }
      ]
    },
    {
      "cell_type": "markdown",
      "source": [
        "#### 토큰 수치화"
      ],
      "metadata": {
        "id": "m_qGlRWjSm7-"
      }
    },
    {
      "cell_type": "code",
      "source": [
        "# 단어 토큰화\n",
        "toks = tkn(txt)\n",
        "print(coll_repr(tkn(txt),31))"
      ],
      "metadata": {
        "colab": {
          "base_uri": "https://localhost:8080/"
        },
        "id": "DUgVNf_dSm0d",
        "outputId": "c1159e80-5586-4dd3-b96d-5c8a1e355649"
      },
      "execution_count": 29,
      "outputs": [
        {
          "output_type": "stream",
          "name": "stdout",
          "text": [
            "(#152) ['xxbos','i','remember','watching','this','when','it','was','made','and','thinking','it','was','brilliant','at','the','time','.','xxmaj','watching','it','for','the','second','time','nearly','20','years','later',',','i'...]\n"
          ]
        }
      ]
    }
  ]
}