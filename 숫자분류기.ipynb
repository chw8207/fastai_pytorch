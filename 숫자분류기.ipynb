{
  "nbformat": 4,
  "nbformat_minor": 0,
  "metadata": {
    "colab": {
      "provenance": [],
      "machine_shape": "hm",
      "gpuType": "A100",
      "mount_file_id": "1_JiOrtOVMCmxrkdx9K_W19In79qAhGKh",
      "authorship_tag": "ABX9TyOvi6jWHAO9tbUqadXvLmRS",
      "include_colab_link": true
    },
    "kernelspec": {
      "name": "python3",
      "display_name": "Python 3"
    },
    "language_info": {
      "name": "python"
    },
    "accelerator": "GPU"
  },
  "cells": [
    {
      "cell_type": "markdown",
      "metadata": {
        "id": "view-in-github",
        "colab_type": "text"
      },
      "source": [
        "<a href=\"https://colab.research.google.com/github/chw8207/fastai_pytorch/blob/main/%EC%88%AB%EC%9E%90%EB%B6%84%EB%A5%98%EA%B8%B0.ipynb\" target=\"_parent\"><img src=\"https://colab.research.google.com/assets/colab-badge.svg\" alt=\"Open In Colab\"/></a>"
      ]
    },
    {
      "cell_type": "code",
      "source": [
        "! [ -e /content ] && pip install -Uqq fastbook\n",
        "import fastbook\n",
        "fastbook.setup_book()"
      ],
      "metadata": {
        "colab": {
          "base_uri": "https://localhost:8080/"
        },
        "id": "n0TcdQZfkcNJ",
        "outputId": "d0ad85a8-3f45-4620-b229-ea0ac3b68797"
      },
      "execution_count": 6,
      "outputs": [
        {
          "output_type": "stream",
          "name": "stdout",
          "text": [
            "\u001b[?25l     \u001b[90m━━━━━━━━━━━━━━━━━━━━━━━━━━━━━━━━━━━━━━━━\u001b[0m \u001b[32m0.0/719.8 kB\u001b[0m \u001b[31m?\u001b[0m eta \u001b[36m-:--:--\u001b[0m\r\u001b[2K     \u001b[91m━━━━\u001b[0m\u001b[91m╸\u001b[0m\u001b[90m━━━━━━━━━━━━━━━━━━━━━━━━━━━━━━━━━━━\u001b[0m \u001b[32m81.9/719.8 kB\u001b[0m \u001b[31m2.3 MB/s\u001b[0m eta \u001b[36m0:00:01\u001b[0m\r\u001b[2K     \u001b[90m━━━━━━━━━━━━━━━━━━━━━━━━━━━━━━━━━━━━━━\u001b[0m \u001b[32m719.8/719.8 kB\u001b[0m \u001b[31m11.0 MB/s\u001b[0m eta \u001b[36m0:00:00\u001b[0m\n",
            "\u001b[2K     \u001b[90m━━━━━━━━━━━━━━━━━━━━━━━━━━━━━━━━━━━━━━━━\u001b[0m \u001b[32m7.4/7.4 MB\u001b[0m \u001b[31m117.3 MB/s\u001b[0m eta \u001b[36m0:00:00\u001b[0m\n",
            "\u001b[2K     \u001b[90m━━━━━━━━━━━━━━━━━━━━━━━━━━━━━━━━━━━━━━\u001b[0m \u001b[32m486.2/486.2 kB\u001b[0m \u001b[31m51.4 MB/s\u001b[0m eta \u001b[36m0:00:00\u001b[0m\n",
            "\u001b[2K     \u001b[90m━━━━━━━━━━━━━━━━━━━━━━━━━━━━━━━━━━━━━━━━\u001b[0m \u001b[32m1.3/1.3 MB\u001b[0m \u001b[31m79.7 MB/s\u001b[0m eta \u001b[36m0:00:00\u001b[0m\n",
            "\u001b[2K     \u001b[90m━━━━━━━━━━━━━━━━━━━━━━━━━━━━━━━━━━━━━━\u001b[0m \u001b[32m110.5/110.5 kB\u001b[0m \u001b[31m14.3 MB/s\u001b[0m eta \u001b[36m0:00:00\u001b[0m\n",
            "\u001b[2K     \u001b[90m━━━━━━━━━━━━━━━━━━━━━━━━━━━━━━━━━━━━━━\u001b[0m \u001b[32m212.5/212.5 kB\u001b[0m \u001b[31m27.6 MB/s\u001b[0m eta \u001b[36m0:00:00\u001b[0m\n",
            "\u001b[2K     \u001b[90m━━━━━━━━━━━━━━━━━━━━━━━━━━━━━━━━━━━━━━\u001b[0m \u001b[32m134.3/134.3 kB\u001b[0m \u001b[31m18.4 MB/s\u001b[0m eta \u001b[36m0:00:00\u001b[0m\n",
            "\u001b[2K     \u001b[90m━━━━━━━━━━━━━━━━━━━━━━━━━━━━━━━━━━━━━━\u001b[0m \u001b[32m268.8/268.8 kB\u001b[0m \u001b[31m31.2 MB/s\u001b[0m eta \u001b[36m0:00:00\u001b[0m\n",
            "\u001b[2K     \u001b[90m━━━━━━━━━━━━━━━━━━━━━━━━━━━━━━━━━━━━━━━━\u001b[0m \u001b[32m7.8/7.8 MB\u001b[0m \u001b[31m101.3 MB/s\u001b[0m eta \u001b[36m0:00:00\u001b[0m\n",
            "\u001b[2K     \u001b[90m━━━━━━━━━━━━━━━━━━━━━━━━━━━━━━━━━━━━━━━━\u001b[0m \u001b[32m1.3/1.3 MB\u001b[0m \u001b[31m82.2 MB/s\u001b[0m eta \u001b[36m0:00:00\u001b[0m\n",
            "\u001b[2K     \u001b[90m━━━━━━━━━━━━━━━━━━━━━━━━━━━━━━━━━━━━━━━━\u001b[0m \u001b[32m1.6/1.6 MB\u001b[0m \u001b[31m92.6 MB/s\u001b[0m eta \u001b[36m0:00:00\u001b[0m\n",
            "\u001b[?25hMounted at /content/gdrive\n"
          ]
        }
      ]
    },
    {
      "cell_type": "code",
      "execution_count": 23,
      "metadata": {
        "id": "JWSSzLaujMJt"
      },
      "outputs": [],
      "source": [
        "import tensorflow as tf\n",
        "from fastai.vision.all import *\n",
        "from fastbook import *\n",
        "import pandas as pd\n",
        "import torch"
      ]
    },
    {
      "cell_type": "markdown",
      "source": [
        "### GPU 설정"
      ],
      "metadata": {
        "id": "m1qTpIldjZiw"
      }
    },
    {
      "cell_type": "code",
      "source": [
        "device_name = tf.test.gpu_device_name()\n",
        "if device_name != '/device:GPU:0' :\n",
        "    raise SystemError('GPU device not found')\n",
        "print(f'Found GPU at: {device_name}')"
      ],
      "metadata": {
        "colab": {
          "base_uri": "https://localhost:8080/"
        },
        "id": "EHpJuiMPjZWW",
        "outputId": "74e8685c-d107-42b7-cb7e-bdfd5e737131"
      },
      "execution_count": 2,
      "outputs": [
        {
          "output_type": "stream",
          "name": "stdout",
          "text": [
            "Found GPU at: /device:GPU:0\n"
          ]
        }
      ]
    },
    {
      "cell_type": "code",
      "source": [
        "from tensorflow.python.client import device_lib\n",
        "\n",
        "print(device_lib.list_local_devices())"
      ],
      "metadata": {
        "colab": {
          "base_uri": "https://localhost:8080/"
        },
        "id": "9XTUefMFjZLF",
        "outputId": "bff3bf81-0775-48fc-8d90-a14215081c3b"
      },
      "execution_count": 3,
      "outputs": [
        {
          "output_type": "stream",
          "name": "stdout",
          "text": [
            "[name: \"/device:CPU:0\"\n",
            "device_type: \"CPU\"\n",
            "memory_limit: 268435456\n",
            "locality {\n",
            "}\n",
            "incarnation: 13080570584924230276\n",
            "xla_global_id: -1\n",
            ", name: \"/device:GPU:0\"\n",
            "device_type: \"GPU\"\n",
            "memory_limit: 40129593344\n",
            "locality {\n",
            "  bus_id: 1\n",
            "  links {\n",
            "  }\n",
            "}\n",
            "incarnation: 5553612440497092106\n",
            "physical_device_desc: \"device: 0, name: NVIDIA A100-SXM4-40GB, pci bus id: 0000:00:04.0, compute capability: 8.0\"\n",
            "xla_global_id: 416903419\n",
            "]\n"
          ]
        }
      ]
    },
    {
      "cell_type": "markdown",
      "source": [
        "### 숫자 3과 7의 이미지 분류하는 모델"
      ],
      "metadata": {
        "id": "oD0kqYqukLbj"
      }
    },
    {
      "cell_type": "code",
      "source": [
        "path = untar_data(URLs.MNIST_SAMPLE)"
      ],
      "metadata": {
        "colab": {
          "base_uri": "https://localhost:8080/",
          "height": 37
        },
        "id": "4kL1xUPKkLSb",
        "outputId": "e8d89708-db3d-4bcf-9a15-3eeaa8df204d"
      },
      "execution_count": 8,
      "outputs": [
        {
          "output_type": "display_data",
          "data": {
            "text/plain": [
              "<IPython.core.display.HTML object>"
            ],
            "text/html": [
              "\n",
              "<style>\n",
              "    /* Turns off some styling */\n",
              "    progress {\n",
              "        /* gets rid of default border in Firefox and Opera. */\n",
              "        border: none;\n",
              "        /* Needs to be in here for Safari polyfill so background images work as expected. */\n",
              "        background-size: auto;\n",
              "    }\n",
              "    progress:not([value]), progress:not([value])::-webkit-progress-bar {\n",
              "        background: repeating-linear-gradient(45deg, #7e7e7e, #7e7e7e 10px, #5c5c5c 10px, #5c5c5c 20px);\n",
              "    }\n",
              "    .progress-bar-interrupted, .progress-bar-interrupted::-webkit-progress-bar {\n",
              "        background: #F44336;\n",
              "    }\n",
              "</style>\n"
            ]
          },
          "metadata": {}
        },
        {
          "output_type": "display_data",
          "data": {
            "text/plain": [
              "<IPython.core.display.HTML object>"
            ],
            "text/html": [
              "\n",
              "    <div>\n",
              "      <progress value='3219456' class='' max='3214948' style='width:300px; height:20px; vertical-align: middle;'></progress>\n",
              "      100.14% [3219456/3214948 00:01&lt;00:00]\n",
              "    </div>\n",
              "    "
            ]
          },
          "metadata": {}
        }
      ]
    },
    {
      "cell_type": "code",
      "source": [
        "# 디렉터리 내용 확인\n",
        "path.ls()"
      ],
      "metadata": {
        "colab": {
          "base_uri": "https://localhost:8080/"
        },
        "id": "fw7eRDcpn_5M",
        "outputId": "5f198fee-78dd-47d8-ad43-8cc58f59147d"
      },
      "execution_count": 9,
      "outputs": [
        {
          "output_type": "execute_result",
          "data": {
            "text/plain": [
              "(#3) [Path('/root/.fastai/data/mnist_sample/train'),Path('/root/.fastai/data/mnist_sample/valid'),Path('/root/.fastai/data/mnist_sample/labels.csv')]"
            ]
          },
          "metadata": {},
          "execution_count": 9
        }
      ]
    },
    {
      "cell_type": "code",
      "source": [
        "# 학습 데이터셋의 폴더 내용 확인\n",
        "(path/'train').ls()"
      ],
      "metadata": {
        "colab": {
          "base_uri": "https://localhost:8080/"
        },
        "id": "HQv-qtp1pwn1",
        "outputId": "8b9e6b7f-fede-4673-b865-65a2e2de80f4"
      },
      "execution_count": 10,
      "outputs": [
        {
          "output_type": "execute_result",
          "data": {
            "text/plain": [
              "(#2) [Path('/root/.fastai/data/mnist_sample/train/7'),Path('/root/.fastai/data/mnist_sample/train/3')]"
            ]
          },
          "metadata": {},
          "execution_count": 10
        }
      ]
    },
    {
      "cell_type": "code",
      "source": [
        "# 파일 순서가 같도록 정렬하기\n",
        "threes = (path/'train'/'3').ls().sorted()\n",
        "sevens = (path/'train'/'7').ls().sorted()"
      ],
      "metadata": {
        "id": "c7ur11QZp6Hq"
      },
      "execution_count": 11,
      "outputs": []
    },
    {
      "cell_type": "code",
      "source": [
        "threes"
      ],
      "metadata": {
        "colab": {
          "base_uri": "https://localhost:8080/"
        },
        "id": "-dhzmIbcqGWF",
        "outputId": "49e92bb9-e718-4cda-c8f8-4132ef4586fb"
      },
      "execution_count": 12,
      "outputs": [
        {
          "output_type": "execute_result",
          "data": {
            "text/plain": [
              "(#6131) [Path('/root/.fastai/data/mnist_sample/train/3/10.png'),Path('/root/.fastai/data/mnist_sample/train/3/10000.png'),Path('/root/.fastai/data/mnist_sample/train/3/10011.png'),Path('/root/.fastai/data/mnist_sample/train/3/10031.png'),Path('/root/.fastai/data/mnist_sample/train/3/10034.png'),Path('/root/.fastai/data/mnist_sample/train/3/10042.png'),Path('/root/.fastai/data/mnist_sample/train/3/10052.png'),Path('/root/.fastai/data/mnist_sample/train/3/1007.png'),Path('/root/.fastai/data/mnist_sample/train/3/10074.png'),Path('/root/.fastai/data/mnist_sample/train/3/10091.png')...]"
            ]
          },
          "metadata": {},
          "execution_count": 12
        }
      ]
    },
    {
      "cell_type": "code",
      "source": [
        "# 손으로 쓴 숫자 3 이미지를 출력하기\n",
        "img3_path = threes[1]\n",
        "img3 = Image.open(img3_path)\n",
        "img3"
      ],
      "metadata": {
        "colab": {
          "base_uri": "https://localhost:8080/",
          "height": 45
        },
        "id": "XEewxsWUqLM_",
        "outputId": "ca702fb9-3dd8-4525-cad7-e6bb7de5667a"
      },
      "execution_count": 14,
      "outputs": [
        {
          "output_type": "execute_result",
          "data": {
            "text/plain": [
              "<PIL.PngImagePlugin.PngImageFile image mode=L size=28x28>"
            ],
            "image/png": "[encoded data removed]"
          },
          "metadata": {},
          "execution_count": 14
        }
      ]
    },
    {
      "cell_type": "code",
      "source": [
        "# 이미지를 구성하는 숫자 확인\n",
        "array(img3)[4:10, 4:10]"
      ],
      "metadata": {
        "colab": {
          "base_uri": "https://localhost:8080/"
        },
        "id": "zegx1AnXqpV0",
        "outputId": "02e92c42-138f-4b8d-9de2-09f45d8c7da9"
      },
      "execution_count": 16,
      "outputs": [
        {
          "output_type": "execute_result",
          "data": {
            "text/plain": [
              "array([[  0,   0,   0,   0,   0,   0],\n",
              "       [  0,   0,   0,   0,   0,  29],\n",
              "       [  0,   0,   0,  48, 166, 224],\n",
              "       [  0,  93, 244, 249, 253, 187],\n",
              "       [  0, 107, 253, 253, 230,  48],\n",
              "       [  0,   3,  20,  20,  15,   0]], dtype=uint8)"
            ]
          },
          "metadata": {},
          "execution_count": 16
        }
      ]
    },
    {
      "cell_type": "code",
      "source": [
        "# 텐서로 표현\n",
        "tensor(img3)[4:10, 4:10]"
      ],
      "metadata": {
        "colab": {
          "base_uri": "https://localhost:8080/"
        },
        "id": "_mcD-7Klq8ev",
        "outputId": "6642f3df-b1f3-4886-bcff-6db7259dc70f"
      },
      "execution_count": 17,
      "outputs": [
        {
          "output_type": "execute_result",
          "data": {
            "text/plain": [
              "tensor([[  0,   0,   0,   0,   0,   0],\n",
              "        [  0,   0,   0,   0,   0,  29],\n",
              "        [  0,   0,   0,  48, 166, 224],\n",
              "        [  0,  93, 244, 249, 253, 187],\n",
              "        [  0, 107, 253, 253, 230,  48],\n",
              "        [  0,   3,  20,  20,  15,   0]], dtype=torch.uint8)"
            ]
          },
          "metadata": {},
          "execution_count": 17
        }
      ]
    },
    {
      "cell_type": "code",
      "source": [
        "# 판다스 데이터프레임으로\n",
        "# 숫자의 값에 따라 색상을\n",
        "# 그라데이션으로 입히는 방법 보여주기\n",
        "img3_t = tensor(img3)\n",
        "df = pd.DataFrame(img3_t[4:15, 4:22])\n",
        "df.style.set_properties(**{'font-size':'6pt'}).background_gradient('Greys')"
      ],
      "metadata": {
        "colab": {
          "base_uri": "https://localhost:8080/",
          "height": 394
        },
        "id": "ciXWqdY5rJR1",
        "outputId": "df07aca7-aa68-4d42-c380-5200dcab6ac4"
      },
      "execution_count": 20,
      "outputs": [
        {
          "output_type": "execute_result",
          "data": {
            "text/plain": [
              "<pandas.io.formats.style.Styler at 0x7b37facd9c30>"
            ],
            "text/html": [
              "<style type=\"text/css\">\n",
              "#T_2cc91_row0_col0, #T_2cc91_row0_col1, #T_2cc91_row0_col2, #T_2cc91_row0_col3, #T_2cc91_row0_col4, #T_2cc91_row0_col5, #T_2cc91_row0_col6, #T_2cc91_row0_col7, #T_2cc91_row0_col8, #T_2cc91_row0_col9, #T_2cc91_row0_col10, #T_2cc91_row0_col11, #T_2cc91_row0_col12, #T_2cc91_row0_col13, #T_2cc91_row0_col14, #T_2cc91_row0_col15, #T_2cc91_row0_col16, #T_2cc91_row0_col17, #T_2cc91_row1_col0, #T_2cc91_row1_col1, #T_2cc91_row1_col2, #T_2cc91_row1_col3, #T_2cc91_row1_col4, #T_2cc91_row1_col15, #T_2cc91_row1_col16, #T_2cc91_row1_col17, #T_2cc91_row2_col0, #T_2cc91_row2_col1, #T_2cc91_row2_col2, #T_2cc91_row2_col15, #T_2cc91_row2_col16, #T_2cc91_row2_col17, #T_2cc91_row3_col0, #T_2cc91_row3_col15, #T_2cc91_row3_col16, #T_2cc91_row3_col17, #T_2cc91_row4_col0, #T_2cc91_row4_col6, #T_2cc91_row4_col7, #T_2cc91_row4_col8, #T_2cc91_row4_col9, #T_2cc91_row4_col10, #T_2cc91_row4_col15, #T_2cc91_row4_col16, #T_2cc91_row4_col17, #T_2cc91_row5_col0, #T_2cc91_row5_col5, #T_2cc91_row5_col6, #T_2cc91_row5_col7, #T_2cc91_row5_col8, #T_2cc91_row5_col9, #T_2cc91_row5_col15, #T_2cc91_row5_col16, #T_2cc91_row5_col17, #T_2cc91_row6_col0, #T_2cc91_row6_col1, #T_2cc91_row6_col2, #T_2cc91_row6_col3, #T_2cc91_row6_col4, #T_2cc91_row6_col5, #T_2cc91_row6_col6, #T_2cc91_row6_col7, #T_2cc91_row6_col8, #T_2cc91_row6_col9, #T_2cc91_row6_col14, #T_2cc91_row6_col15, #T_2cc91_row6_col16, #T_2cc91_row6_col17, #T_2cc91_row7_col0, #T_2cc91_row7_col1, #T_2cc91_row7_col2, #T_2cc91_row7_col3, #T_2cc91_row7_col4, #T_2cc91_row7_col5, #T_2cc91_row7_col6, #T_2cc91_row7_col13, #T_2cc91_row7_col14, #T_2cc91_row7_col15, #T_2cc91_row7_col16, #T_2cc91_row7_col17, #T_2cc91_row8_col0, #T_2cc91_row8_col1, #T_2cc91_row8_col2, #T_2cc91_row8_col3, #T_2cc91_row8_col4, #T_2cc91_row8_col13, #T_2cc91_row8_col14, #T_2cc91_row8_col15, #T_2cc91_row8_col16, #T_2cc91_row8_col17, #T_2cc91_row9_col0, #T_2cc91_row9_col1, #T_2cc91_row9_col2, #T_2cc91_row9_col3, #T_2cc91_row9_col4, #T_2cc91_row9_col16, #T_2cc91_row9_col17, #T_2cc91_row10_col0, #T_2cc91_row10_col1, #T_2cc91_row10_col2, #T_2cc91_row10_col3, #T_2cc91_row10_col4, #T_2cc91_row10_col5, #T_2cc91_row10_col6, #T_2cc91_row10_col17 {\n",
              "  font-size: 6pt;\n",
              "  background-color: #ffffff;\n",
              "  color: #000000;\n",
              "}\n",
              "#T_2cc91_row1_col5 {\n",
              "  font-size: 6pt;\n",
              "  background-color: #efefef;\n",
              "  color: #000000;\n",
              "}\n",
              "#T_2cc91_row1_col6, #T_2cc91_row1_col13 {\n",
              "  font-size: 6pt;\n",
              "  background-color: #7c7c7c;\n",
              "  color: #f1f1f1;\n",
              "}\n",
              "#T_2cc91_row1_col7 {\n",
              "  font-size: 6pt;\n",
              "  background-color: #4a4a4a;\n",
              "  color: #f1f1f1;\n",
              "}\n",
              "#T_2cc91_row1_col8, #T_2cc91_row1_col9, #T_2cc91_row1_col10, #T_2cc91_row2_col5, #T_2cc91_row2_col6, #T_2cc91_row2_col7, #T_2cc91_row2_col11, #T_2cc91_row2_col12, #T_2cc91_row2_col13, #T_2cc91_row3_col4, #T_2cc91_row3_col12, #T_2cc91_row3_col13, #T_2cc91_row4_col1, #T_2cc91_row4_col2, #T_2cc91_row4_col3, #T_2cc91_row4_col12, #T_2cc91_row4_col13, #T_2cc91_row5_col12, #T_2cc91_row6_col11, #T_2cc91_row9_col11, #T_2cc91_row10_col11, #T_2cc91_row10_col12, #T_2cc91_row10_col13, #T_2cc91_row10_col14, #T_2cc91_row10_col15, #T_2cc91_row10_col16 {\n",
              "  font-size: 6pt;\n",
              "  background-color: #000000;\n",
              "  color: #f1f1f1;\n",
              "}\n",
              "#T_2cc91_row1_col11 {\n",
              "  font-size: 6pt;\n",
              "  background-color: #606060;\n",
              "  color: #f1f1f1;\n",
              "}\n",
              "#T_2cc91_row1_col12 {\n",
              "  font-size: 6pt;\n",
              "  background-color: #4d4d4d;\n",
              "  color: #f1f1f1;\n",
              "}\n",
              "#T_2cc91_row1_col14 {\n",
              "  font-size: 6pt;\n",
              "  background-color: #bbbbbb;\n",
              "  color: #000000;\n",
              "}\n",
              "#T_2cc91_row2_col3 {\n",
              "  font-size: 6pt;\n",
              "  background-color: #e4e4e4;\n",
              "  color: #000000;\n",
              "}\n",
              "#T_2cc91_row2_col4, #T_2cc91_row8_col6 {\n",
              "  font-size: 6pt;\n",
              "  background-color: #6b6b6b;\n",
              "  color: #f1f1f1;\n",
              "}\n",
              "#T_2cc91_row2_col8, #T_2cc91_row2_col14, #T_2cc91_row3_col14 {\n",
              "  font-size: 6pt;\n",
              "  background-color: #171717;\n",
              "  color: #f1f1f1;\n",
              "}\n",
              "#T_2cc91_row2_col9, #T_2cc91_row3_col11 {\n",
              "  font-size: 6pt;\n",
              "  background-color: #4b4b4b;\n",
              "  color: #f1f1f1;\n",
              "}\n",
              "#T_2cc91_row2_col10, #T_2cc91_row7_col10, #T_2cc91_row8_col8, #T_2cc91_row8_col10, #T_2cc91_row9_col8, #T_2cc91_row9_col10 {\n",
              "  font-size: 6pt;\n",
              "  background-color: #010101;\n",
              "  color: #f1f1f1;\n",
              "}\n",
              "#T_2cc91_row3_col1 {\n",
              "  font-size: 6pt;\n",
              "  background-color: #272727;\n",
              "  color: #f1f1f1;\n",
              "}\n",
              "#T_2cc91_row3_col2 {\n",
              "  font-size: 6pt;\n",
              "  background-color: #0a0a0a;\n",
              "  color: #f1f1f1;\n",
              "}\n",
              "#T_2cc91_row3_col3 {\n",
              "  font-size: 6pt;\n",
              "  background-color: #050505;\n",
              "  color: #f1f1f1;\n",
              "}\n",
              "#T_2cc91_row3_col5 {\n",
              "  font-size: 6pt;\n",
              "  background-color: #333333;\n",
              "  color: #f1f1f1;\n",
              "}\n",
              "#T_2cc91_row3_col6 {\n",
              "  font-size: 6pt;\n",
              "  background-color: #e6e6e6;\n",
              "  color: #000000;\n",
              "}\n",
              "#T_2cc91_row3_col7, #T_2cc91_row3_col10 {\n",
              "  font-size: 6pt;\n",
              "  background-color: #fafafa;\n",
              "  color: #000000;\n",
              "}\n",
              "#T_2cc91_row3_col8 {\n",
              "  font-size: 6pt;\n",
              "  background-color: #fbfbfb;\n",
              "  color: #000000;\n",
              "}\n",
              "#T_2cc91_row3_col9 {\n",
              "  font-size: 6pt;\n",
              "  background-color: #fdfdfd;\n",
              "  color: #000000;\n",
              "}\n",
              "#T_2cc91_row4_col4 {\n",
              "  font-size: 6pt;\n",
              "  background-color: #1b1b1b;\n",
              "  color: #f1f1f1;\n",
              "}\n",
              "#T_2cc91_row4_col5 {\n",
              "  font-size: 6pt;\n",
              "  background-color: #e0e0e0;\n",
              "  color: #000000;\n",
              "}\n",
              "#T_2cc91_row4_col11 {\n",
              "  font-size: 6pt;\n",
              "  background-color: #4e4e4e;\n",
              "  color: #f1f1f1;\n",
              "}\n",
              "#T_2cc91_row4_col14 {\n",
              "  font-size: 6pt;\n",
              "  background-color: #767676;\n",
              "  color: #f1f1f1;\n",
              "}\n",
              "#T_2cc91_row5_col1 {\n",
              "  font-size: 6pt;\n",
              "  background-color: #fcfcfc;\n",
              "  color: #000000;\n",
              "}\n",
              "#T_2cc91_row5_col2, #T_2cc91_row5_col3 {\n",
              "  font-size: 6pt;\n",
              "  background-color: #f6f6f6;\n",
              "  color: #000000;\n",
              "}\n",
              "#T_2cc91_row5_col4, #T_2cc91_row7_col7 {\n",
              "  font-size: 6pt;\n",
              "  background-color: #f8f8f8;\n",
              "  color: #000000;\n",
              "}\n",
              "#T_2cc91_row5_col10, #T_2cc91_row10_col7 {\n",
              "  font-size: 6pt;\n",
              "  background-color: #e8e8e8;\n",
              "  color: #000000;\n",
              "}\n",
              "#T_2cc91_row5_col11 {\n",
              "  font-size: 6pt;\n",
              "  background-color: #222222;\n",
              "  color: #f1f1f1;\n",
              "}\n",
              "#T_2cc91_row5_col13, #T_2cc91_row6_col12 {\n",
              "  font-size: 6pt;\n",
              "  background-color: #090909;\n",
              "  color: #f1f1f1;\n",
              "}\n",
              "#T_2cc91_row5_col14 {\n",
              "  font-size: 6pt;\n",
              "  background-color: #d0d0d0;\n",
              "  color: #000000;\n",
              "}\n",
              "#T_2cc91_row6_col10, #T_2cc91_row7_col11, #T_2cc91_row9_col6 {\n",
              "  font-size: 6pt;\n",
              "  background-color: #060606;\n",
              "  color: #f1f1f1;\n",
              "}\n",
              "#T_2cc91_row6_col13 {\n",
              "  font-size: 6pt;\n",
              "  background-color: #979797;\n",
              "  color: #f1f1f1;\n",
              "}\n",
              "#T_2cc91_row7_col8 {\n",
              "  font-size: 6pt;\n",
              "  background-color: #b6b6b6;\n",
              "  color: #000000;\n",
              "}\n",
              "#T_2cc91_row7_col9 {\n",
              "  font-size: 6pt;\n",
              "  background-color: #252525;\n",
              "  color: #f1f1f1;\n",
              "}\n",
              "#T_2cc91_row7_col12 {\n",
              "  font-size: 6pt;\n",
              "  background-color: #999999;\n",
              "  color: #f1f1f1;\n",
              "}\n",
              "#T_2cc91_row8_col5 {\n",
              "  font-size: 6pt;\n",
              "  background-color: #f9f9f9;\n",
              "  color: #000000;\n",
              "}\n",
              "#T_2cc91_row8_col7 {\n",
              "  font-size: 6pt;\n",
              "  background-color: #101010;\n",
              "  color: #f1f1f1;\n",
              "}\n",
              "#T_2cc91_row8_col9, #T_2cc91_row9_col9 {\n",
              "  font-size: 6pt;\n",
              "  background-color: #020202;\n",
              "  color: #f1f1f1;\n",
              "}\n",
              "#T_2cc91_row8_col11 {\n",
              "  font-size: 6pt;\n",
              "  background-color: #545454;\n",
              "  color: #f1f1f1;\n",
              "}\n",
              "#T_2cc91_row8_col12 {\n",
              "  font-size: 6pt;\n",
              "  background-color: #f1f1f1;\n",
              "  color: #000000;\n",
              "}\n",
              "#T_2cc91_row9_col5 {\n",
              "  font-size: 6pt;\n",
              "  background-color: #f7f7f7;\n",
              "  color: #000000;\n",
              "}\n",
              "#T_2cc91_row9_col7 {\n",
              "  font-size: 6pt;\n",
              "  background-color: #030303;\n",
              "  color: #f1f1f1;\n",
              "}\n",
              "#T_2cc91_row9_col12 {\n",
              "  font-size: 6pt;\n",
              "  background-color: #181818;\n",
              "  color: #f1f1f1;\n",
              "}\n",
              "#T_2cc91_row9_col13 {\n",
              "  font-size: 6pt;\n",
              "  background-color: #303030;\n",
              "  color: #f1f1f1;\n",
              "}\n",
              "#T_2cc91_row9_col14 {\n",
              "  font-size: 6pt;\n",
              "  background-color: #a9a9a9;\n",
              "  color: #f1f1f1;\n",
              "}\n",
              "#T_2cc91_row9_col15 {\n",
              "  font-size: 6pt;\n",
              "  background-color: #fefefe;\n",
              "  color: #000000;\n",
              "}\n",
              "#T_2cc91_row10_col8, #T_2cc91_row10_col9 {\n",
              "  font-size: 6pt;\n",
              "  background-color: #bababa;\n",
              "  color: #000000;\n",
              "}\n",
              "#T_2cc91_row10_col10 {\n",
              "  font-size: 6pt;\n",
              "  background-color: #393939;\n",
              "  color: #f1f1f1;\n",
              "}\n",
              "</style>\n",
              "<table id=\"T_2cc91\" class=\"dataframe\">\n",
              "  <thead>\n",
              "    <tr>\n",
              "      <th class=\"blank level0\" >&nbsp;</th>\n",
              "      <th id=\"T_2cc91_level0_col0\" class=\"col_heading level0 col0\" >0</th>\n",
              "      <th id=\"T_2cc91_level0_col1\" class=\"col_heading level0 col1\" >1</th>\n",
              "      <th id=\"T_2cc91_level0_col2\" class=\"col_heading level0 col2\" >2</th>\n",
              "      <th id=\"T_2cc91_level0_col3\" class=\"col_heading level0 col3\" >3</th>\n",
              "      <th id=\"T_2cc91_level0_col4\" class=\"col_heading level0 col4\" >4</th>\n",
              "      <th id=\"T_2cc91_level0_col5\" class=\"col_heading level0 col5\" >5</th>\n",
              "      <th id=\"T_2cc91_level0_col6\" class=\"col_heading level0 col6\" >6</th>\n",
              "      <th id=\"T_2cc91_level0_col7\" class=\"col_heading level0 col7\" >7</th>\n",
              "      <th id=\"T_2cc91_level0_col8\" class=\"col_heading level0 col8\" >8</th>\n",
              "      <th id=\"T_2cc91_level0_col9\" class=\"col_heading level0 col9\" >9</th>\n",
              "      <th id=\"T_2cc91_level0_col10\" class=\"col_heading level0 col10\" >10</th>\n",
              "      <th id=\"T_2cc91_level0_col11\" class=\"col_heading level0 col11\" >11</th>\n",
              "      <th id=\"T_2cc91_level0_col12\" class=\"col_heading level0 col12\" >12</th>\n",
              "      <th id=\"T_2cc91_level0_col13\" class=\"col_heading level0 col13\" >13</th>\n",
              "      <th id=\"T_2cc91_level0_col14\" class=\"col_heading level0 col14\" >14</th>\n",
              "      <th id=\"T_2cc91_level0_col15\" class=\"col_heading level0 col15\" >15</th>\n",
              "      <th id=\"T_2cc91_level0_col16\" class=\"col_heading level0 col16\" >16</th>\n",
              "      <th id=\"T_2cc91_level0_col17\" class=\"col_heading level0 col17\" >17</th>\n",
              "    </tr>\n",
              "  </thead>\n",
              "  <tbody>\n",
              "    <tr>\n",
              "      <th id=\"T_2cc91_level0_row0\" class=\"row_heading level0 row0\" >0</th>\n",
              "      <td id=\"T_2cc91_row0_col0\" class=\"data row0 col0\" >0</td>\n",
              "      <td id=\"T_2cc91_row0_col1\" class=\"data row0 col1\" >0</td>\n",
              "      <td id=\"T_2cc91_row0_col2\" class=\"data row0 col2\" >0</td>\n",
              "      <td id=\"T_2cc91_row0_col3\" class=\"data row0 col3\" >0</td>\n",
              "      <td id=\"T_2cc91_row0_col4\" class=\"data row0 col4\" >0</td>\n",
              "      <td id=\"T_2cc91_row0_col5\" class=\"data row0 col5\" >0</td>\n",
              "      <td id=\"T_2cc91_row0_col6\" class=\"data row0 col6\" >0</td>\n",
              "      <td id=\"T_2cc91_row0_col7\" class=\"data row0 col7\" >0</td>\n",
              "      <td id=\"T_2cc91_row0_col8\" class=\"data row0 col8\" >0</td>\n",
              "      <td id=\"T_2cc91_row0_col9\" class=\"data row0 col9\" >0</td>\n",
              "      <td id=\"T_2cc91_row0_col10\" class=\"data row0 col10\" >0</td>\n",
              "      <td id=\"T_2cc91_row0_col11\" class=\"data row0 col11\" >0</td>\n",
              "      <td id=\"T_2cc91_row0_col12\" class=\"data row0 col12\" >0</td>\n",
              "      <td id=\"T_2cc91_row0_col13\" class=\"data row0 col13\" >0</td>\n",
              "      <td id=\"T_2cc91_row0_col14\" class=\"data row0 col14\" >0</td>\n",
              "      <td id=\"T_2cc91_row0_col15\" class=\"data row0 col15\" >0</td>\n",
              "      <td id=\"T_2cc91_row0_col16\" class=\"data row0 col16\" >0</td>\n",
              "      <td id=\"T_2cc91_row0_col17\" class=\"data row0 col17\" >0</td>\n",
              "    </tr>\n",
              "    <tr>\n",
              "      <th id=\"T_2cc91_level0_row1\" class=\"row_heading level0 row1\" >1</th>\n",
              "      <td id=\"T_2cc91_row1_col0\" class=\"data row1 col0\" >0</td>\n",
              "      <td id=\"T_2cc91_row1_col1\" class=\"data row1 col1\" >0</td>\n",
              "      <td id=\"T_2cc91_row1_col2\" class=\"data row1 col2\" >0</td>\n",
              "      <td id=\"T_2cc91_row1_col3\" class=\"data row1 col3\" >0</td>\n",
              "      <td id=\"T_2cc91_row1_col4\" class=\"data row1 col4\" >0</td>\n",
              "      <td id=\"T_2cc91_row1_col5\" class=\"data row1 col5\" >29</td>\n",
              "      <td id=\"T_2cc91_row1_col6\" class=\"data row1 col6\" >150</td>\n",
              "      <td id=\"T_2cc91_row1_col7\" class=\"data row1 col7\" >195</td>\n",
              "      <td id=\"T_2cc91_row1_col8\" class=\"data row1 col8\" >254</td>\n",
              "      <td id=\"T_2cc91_row1_col9\" class=\"data row1 col9\" >255</td>\n",
              "      <td id=\"T_2cc91_row1_col10\" class=\"data row1 col10\" >254</td>\n",
              "      <td id=\"T_2cc91_row1_col11\" class=\"data row1 col11\" >176</td>\n",
              "      <td id=\"T_2cc91_row1_col12\" class=\"data row1 col12\" >193</td>\n",
              "      <td id=\"T_2cc91_row1_col13\" class=\"data row1 col13\" >150</td>\n",
              "      <td id=\"T_2cc91_row1_col14\" class=\"data row1 col14\" >96</td>\n",
              "      <td id=\"T_2cc91_row1_col15\" class=\"data row1 col15\" >0</td>\n",
              "      <td id=\"T_2cc91_row1_col16\" class=\"data row1 col16\" >0</td>\n",
              "      <td id=\"T_2cc91_row1_col17\" class=\"data row1 col17\" >0</td>\n",
              "    </tr>\n",
              "    <tr>\n",
              "      <th id=\"T_2cc91_level0_row2\" class=\"row_heading level0 row2\" >2</th>\n",
              "      <td id=\"T_2cc91_row2_col0\" class=\"data row2 col0\" >0</td>\n",
              "      <td id=\"T_2cc91_row2_col1\" class=\"data row2 col1\" >0</td>\n",
              "      <td id=\"T_2cc91_row2_col2\" class=\"data row2 col2\" >0</td>\n",
              "      <td id=\"T_2cc91_row2_col3\" class=\"data row2 col3\" >48</td>\n",
              "      <td id=\"T_2cc91_row2_col4\" class=\"data row2 col4\" >166</td>\n",
              "      <td id=\"T_2cc91_row2_col5\" class=\"data row2 col5\" >224</td>\n",
              "      <td id=\"T_2cc91_row2_col6\" class=\"data row2 col6\" >253</td>\n",
              "      <td id=\"T_2cc91_row2_col7\" class=\"data row2 col7\" >253</td>\n",
              "      <td id=\"T_2cc91_row2_col8\" class=\"data row2 col8\" >234</td>\n",
              "      <td id=\"T_2cc91_row2_col9\" class=\"data row2 col9\" >196</td>\n",
              "      <td id=\"T_2cc91_row2_col10\" class=\"data row2 col10\" >253</td>\n",
              "      <td id=\"T_2cc91_row2_col11\" class=\"data row2 col11\" >253</td>\n",
              "      <td id=\"T_2cc91_row2_col12\" class=\"data row2 col12\" >253</td>\n",
              "      <td id=\"T_2cc91_row2_col13\" class=\"data row2 col13\" >253</td>\n",
              "      <td id=\"T_2cc91_row2_col14\" class=\"data row2 col14\" >233</td>\n",
              "      <td id=\"T_2cc91_row2_col15\" class=\"data row2 col15\" >0</td>\n",
              "      <td id=\"T_2cc91_row2_col16\" class=\"data row2 col16\" >0</td>\n",
              "      <td id=\"T_2cc91_row2_col17\" class=\"data row2 col17\" >0</td>\n",
              "    </tr>\n",
              "    <tr>\n",
              "      <th id=\"T_2cc91_level0_row3\" class=\"row_heading level0 row3\" >3</th>\n",
              "      <td id=\"T_2cc91_row3_col0\" class=\"data row3 col0\" >0</td>\n",
              "      <td id=\"T_2cc91_row3_col1\" class=\"data row3 col1\" >93</td>\n",
              "      <td id=\"T_2cc91_row3_col2\" class=\"data row3 col2\" >244</td>\n",
              "      <td id=\"T_2cc91_row3_col3\" class=\"data row3 col3\" >249</td>\n",
              "      <td id=\"T_2cc91_row3_col4\" class=\"data row3 col4\" >253</td>\n",
              "      <td id=\"T_2cc91_row3_col5\" class=\"data row3 col5\" >187</td>\n",
              "      <td id=\"T_2cc91_row3_col6\" class=\"data row3 col6\" >46</td>\n",
              "      <td id=\"T_2cc91_row3_col7\" class=\"data row3 col7\" >10</td>\n",
              "      <td id=\"T_2cc91_row3_col8\" class=\"data row3 col8\" >8</td>\n",
              "      <td id=\"T_2cc91_row3_col9\" class=\"data row3 col9\" >4</td>\n",
              "      <td id=\"T_2cc91_row3_col10\" class=\"data row3 col10\" >10</td>\n",
              "      <td id=\"T_2cc91_row3_col11\" class=\"data row3 col11\" >194</td>\n",
              "      <td id=\"T_2cc91_row3_col12\" class=\"data row3 col12\" >253</td>\n",
              "      <td id=\"T_2cc91_row3_col13\" class=\"data row3 col13\" >253</td>\n",
              "      <td id=\"T_2cc91_row3_col14\" class=\"data row3 col14\" >233</td>\n",
              "      <td id=\"T_2cc91_row3_col15\" class=\"data row3 col15\" >0</td>\n",
              "      <td id=\"T_2cc91_row3_col16\" class=\"data row3 col16\" >0</td>\n",
              "      <td id=\"T_2cc91_row3_col17\" class=\"data row3 col17\" >0</td>\n",
              "    </tr>\n",
              "    <tr>\n",
              "      <th id=\"T_2cc91_level0_row4\" class=\"row_heading level0 row4\" >4</th>\n",
              "      <td id=\"T_2cc91_row4_col0\" class=\"data row4 col0\" >0</td>\n",
              "      <td id=\"T_2cc91_row4_col1\" class=\"data row4 col1\" >107</td>\n",
              "      <td id=\"T_2cc91_row4_col2\" class=\"data row4 col2\" >253</td>\n",
              "      <td id=\"T_2cc91_row4_col3\" class=\"data row4 col3\" >253</td>\n",
              "      <td id=\"T_2cc91_row4_col4\" class=\"data row4 col4\" >230</td>\n",
              "      <td id=\"T_2cc91_row4_col5\" class=\"data row4 col5\" >48</td>\n",
              "      <td id=\"T_2cc91_row4_col6\" class=\"data row4 col6\" >0</td>\n",
              "      <td id=\"T_2cc91_row4_col7\" class=\"data row4 col7\" >0</td>\n",
              "      <td id=\"T_2cc91_row4_col8\" class=\"data row4 col8\" >0</td>\n",
              "      <td id=\"T_2cc91_row4_col9\" class=\"data row4 col9\" >0</td>\n",
              "      <td id=\"T_2cc91_row4_col10\" class=\"data row4 col10\" >0</td>\n",
              "      <td id=\"T_2cc91_row4_col11\" class=\"data row4 col11\" >192</td>\n",
              "      <td id=\"T_2cc91_row4_col12\" class=\"data row4 col12\" >253</td>\n",
              "      <td id=\"T_2cc91_row4_col13\" class=\"data row4 col13\" >253</td>\n",
              "      <td id=\"T_2cc91_row4_col14\" class=\"data row4 col14\" >156</td>\n",
              "      <td id=\"T_2cc91_row4_col15\" class=\"data row4 col15\" >0</td>\n",
              "      <td id=\"T_2cc91_row4_col16\" class=\"data row4 col16\" >0</td>\n",
              "      <td id=\"T_2cc91_row4_col17\" class=\"data row4 col17\" >0</td>\n",
              "    </tr>\n",
              "    <tr>\n",
              "      <th id=\"T_2cc91_level0_row5\" class=\"row_heading level0 row5\" >5</th>\n",
              "      <td id=\"T_2cc91_row5_col0\" class=\"data row5 col0\" >0</td>\n",
              "      <td id=\"T_2cc91_row5_col1\" class=\"data row5 col1\" >3</td>\n",
              "      <td id=\"T_2cc91_row5_col2\" class=\"data row5 col2\" >20</td>\n",
              "      <td id=\"T_2cc91_row5_col3\" class=\"data row5 col3\" >20</td>\n",
              "      <td id=\"T_2cc91_row5_col4\" class=\"data row5 col4\" >15</td>\n",
              "      <td id=\"T_2cc91_row5_col5\" class=\"data row5 col5\" >0</td>\n",
              "      <td id=\"T_2cc91_row5_col6\" class=\"data row5 col6\" >0</td>\n",
              "      <td id=\"T_2cc91_row5_col7\" class=\"data row5 col7\" >0</td>\n",
              "      <td id=\"T_2cc91_row5_col8\" class=\"data row5 col8\" >0</td>\n",
              "      <td id=\"T_2cc91_row5_col9\" class=\"data row5 col9\" >0</td>\n",
              "      <td id=\"T_2cc91_row5_col10\" class=\"data row5 col10\" >43</td>\n",
              "      <td id=\"T_2cc91_row5_col11\" class=\"data row5 col11\" >224</td>\n",
              "      <td id=\"T_2cc91_row5_col12\" class=\"data row5 col12\" >253</td>\n",
              "      <td id=\"T_2cc91_row5_col13\" class=\"data row5 col13\" >245</td>\n",
              "      <td id=\"T_2cc91_row5_col14\" class=\"data row5 col14\" >74</td>\n",
              "      <td id=\"T_2cc91_row5_col15\" class=\"data row5 col15\" >0</td>\n",
              "      <td id=\"T_2cc91_row5_col16\" class=\"data row5 col16\" >0</td>\n",
              "      <td id=\"T_2cc91_row5_col17\" class=\"data row5 col17\" >0</td>\n",
              "    </tr>\n",
              "    <tr>\n",
              "      <th id=\"T_2cc91_level0_row6\" class=\"row_heading level0 row6\" >6</th>\n",
              "      <td id=\"T_2cc91_row6_col0\" class=\"data row6 col0\" >0</td>\n",
              "      <td id=\"T_2cc91_row6_col1\" class=\"data row6 col1\" >0</td>\n",
              "      <td id=\"T_2cc91_row6_col2\" class=\"data row6 col2\" >0</td>\n",
              "      <td id=\"T_2cc91_row6_col3\" class=\"data row6 col3\" >0</td>\n",
              "      <td id=\"T_2cc91_row6_col4\" class=\"data row6 col4\" >0</td>\n",
              "      <td id=\"T_2cc91_row6_col5\" class=\"data row6 col5\" >0</td>\n",
              "      <td id=\"T_2cc91_row6_col6\" class=\"data row6 col6\" >0</td>\n",
              "      <td id=\"T_2cc91_row6_col7\" class=\"data row6 col7\" >0</td>\n",
              "      <td id=\"T_2cc91_row6_col8\" class=\"data row6 col8\" >0</td>\n",
              "      <td id=\"T_2cc91_row6_col9\" class=\"data row6 col9\" >0</td>\n",
              "      <td id=\"T_2cc91_row6_col10\" class=\"data row6 col10\" >249</td>\n",
              "      <td id=\"T_2cc91_row6_col11\" class=\"data row6 col11\" >253</td>\n",
              "      <td id=\"T_2cc91_row6_col12\" class=\"data row6 col12\" >245</td>\n",
              "      <td id=\"T_2cc91_row6_col13\" class=\"data row6 col13\" >126</td>\n",
              "      <td id=\"T_2cc91_row6_col14\" class=\"data row6 col14\" >0</td>\n",
              "      <td id=\"T_2cc91_row6_col15\" class=\"data row6 col15\" >0</td>\n",
              "      <td id=\"T_2cc91_row6_col16\" class=\"data row6 col16\" >0</td>\n",
              "      <td id=\"T_2cc91_row6_col17\" class=\"data row6 col17\" >0</td>\n",
              "    </tr>\n",
              "    <tr>\n",
              "      <th id=\"T_2cc91_level0_row7\" class=\"row_heading level0 row7\" >7</th>\n",
              "      <td id=\"T_2cc91_row7_col0\" class=\"data row7 col0\" >0</td>\n",
              "      <td id=\"T_2cc91_row7_col1\" class=\"data row7 col1\" >0</td>\n",
              "      <td id=\"T_2cc91_row7_col2\" class=\"data row7 col2\" >0</td>\n",
              "      <td id=\"T_2cc91_row7_col3\" class=\"data row7 col3\" >0</td>\n",
              "      <td id=\"T_2cc91_row7_col4\" class=\"data row7 col4\" >0</td>\n",
              "      <td id=\"T_2cc91_row7_col5\" class=\"data row7 col5\" >0</td>\n",
              "      <td id=\"T_2cc91_row7_col6\" class=\"data row7 col6\" >0</td>\n",
              "      <td id=\"T_2cc91_row7_col7\" class=\"data row7 col7\" >14</td>\n",
              "      <td id=\"T_2cc91_row7_col8\" class=\"data row7 col8\" >101</td>\n",
              "      <td id=\"T_2cc91_row7_col9\" class=\"data row7 col9\" >223</td>\n",
              "      <td id=\"T_2cc91_row7_col10\" class=\"data row7 col10\" >253</td>\n",
              "      <td id=\"T_2cc91_row7_col11\" class=\"data row7 col11\" >248</td>\n",
              "      <td id=\"T_2cc91_row7_col12\" class=\"data row7 col12\" >124</td>\n",
              "      <td id=\"T_2cc91_row7_col13\" class=\"data row7 col13\" >0</td>\n",
              "      <td id=\"T_2cc91_row7_col14\" class=\"data row7 col14\" >0</td>\n",
              "      <td id=\"T_2cc91_row7_col15\" class=\"data row7 col15\" >0</td>\n",
              "      <td id=\"T_2cc91_row7_col16\" class=\"data row7 col16\" >0</td>\n",
              "      <td id=\"T_2cc91_row7_col17\" class=\"data row7 col17\" >0</td>\n",
              "    </tr>\n",
              "    <tr>\n",
              "      <th id=\"T_2cc91_level0_row8\" class=\"row_heading level0 row8\" >8</th>\n",
              "      <td id=\"T_2cc91_row8_col0\" class=\"data row8 col0\" >0</td>\n",
              "      <td id=\"T_2cc91_row8_col1\" class=\"data row8 col1\" >0</td>\n",
              "      <td id=\"T_2cc91_row8_col2\" class=\"data row8 col2\" >0</td>\n",
              "      <td id=\"T_2cc91_row8_col3\" class=\"data row8 col3\" >0</td>\n",
              "      <td id=\"T_2cc91_row8_col4\" class=\"data row8 col4\" >0</td>\n",
              "      <td id=\"T_2cc91_row8_col5\" class=\"data row8 col5\" >11</td>\n",
              "      <td id=\"T_2cc91_row8_col6\" class=\"data row8 col6\" >166</td>\n",
              "      <td id=\"T_2cc91_row8_col7\" class=\"data row8 col7\" >239</td>\n",
              "      <td id=\"T_2cc91_row8_col8\" class=\"data row8 col8\" >253</td>\n",
              "      <td id=\"T_2cc91_row8_col9\" class=\"data row8 col9\" >253</td>\n",
              "      <td id=\"T_2cc91_row8_col10\" class=\"data row8 col10\" >253</td>\n",
              "      <td id=\"T_2cc91_row8_col11\" class=\"data row8 col11\" >187</td>\n",
              "      <td id=\"T_2cc91_row8_col12\" class=\"data row8 col12\" >30</td>\n",
              "      <td id=\"T_2cc91_row8_col13\" class=\"data row8 col13\" >0</td>\n",
              "      <td id=\"T_2cc91_row8_col14\" class=\"data row8 col14\" >0</td>\n",
              "      <td id=\"T_2cc91_row8_col15\" class=\"data row8 col15\" >0</td>\n",
              "      <td id=\"T_2cc91_row8_col16\" class=\"data row8 col16\" >0</td>\n",
              "      <td id=\"T_2cc91_row8_col17\" class=\"data row8 col17\" >0</td>\n",
              "    </tr>\n",
              "    <tr>\n",
              "      <th id=\"T_2cc91_level0_row9\" class=\"row_heading level0 row9\" >9</th>\n",
              "      <td id=\"T_2cc91_row9_col0\" class=\"data row9 col0\" >0</td>\n",
              "      <td id=\"T_2cc91_row9_col1\" class=\"data row9 col1\" >0</td>\n",
              "      <td id=\"T_2cc91_row9_col2\" class=\"data row9 col2\" >0</td>\n",
              "      <td id=\"T_2cc91_row9_col3\" class=\"data row9 col3\" >0</td>\n",
              "      <td id=\"T_2cc91_row9_col4\" class=\"data row9 col4\" >0</td>\n",
              "      <td id=\"T_2cc91_row9_col5\" class=\"data row9 col5\" >16</td>\n",
              "      <td id=\"T_2cc91_row9_col6\" class=\"data row9 col6\" >248</td>\n",
              "      <td id=\"T_2cc91_row9_col7\" class=\"data row9 col7\" >250</td>\n",
              "      <td id=\"T_2cc91_row9_col8\" class=\"data row9 col8\" >253</td>\n",
              "      <td id=\"T_2cc91_row9_col9\" class=\"data row9 col9\" >253</td>\n",
              "      <td id=\"T_2cc91_row9_col10\" class=\"data row9 col10\" >253</td>\n",
              "      <td id=\"T_2cc91_row9_col11\" class=\"data row9 col11\" >253</td>\n",
              "      <td id=\"T_2cc91_row9_col12\" class=\"data row9 col12\" >232</td>\n",
              "      <td id=\"T_2cc91_row9_col13\" class=\"data row9 col13\" >213</td>\n",
              "      <td id=\"T_2cc91_row9_col14\" class=\"data row9 col14\" >111</td>\n",
              "      <td id=\"T_2cc91_row9_col15\" class=\"data row9 col15\" >2</td>\n",
              "      <td id=\"T_2cc91_row9_col16\" class=\"data row9 col16\" >0</td>\n",
              "      <td id=\"T_2cc91_row9_col17\" class=\"data row9 col17\" >0</td>\n",
              "    </tr>\n",
              "    <tr>\n",
              "      <th id=\"T_2cc91_level0_row10\" class=\"row_heading level0 row10\" >10</th>\n",
              "      <td id=\"T_2cc91_row10_col0\" class=\"data row10 col0\" >0</td>\n",
              "      <td id=\"T_2cc91_row10_col1\" class=\"data row10 col1\" >0</td>\n",
              "      <td id=\"T_2cc91_row10_col2\" class=\"data row10 col2\" >0</td>\n",
              "      <td id=\"T_2cc91_row10_col3\" class=\"data row10 col3\" >0</td>\n",
              "      <td id=\"T_2cc91_row10_col4\" class=\"data row10 col4\" >0</td>\n",
              "      <td id=\"T_2cc91_row10_col5\" class=\"data row10 col5\" >0</td>\n",
              "      <td id=\"T_2cc91_row10_col6\" class=\"data row10 col6\" >0</td>\n",
              "      <td id=\"T_2cc91_row10_col7\" class=\"data row10 col7\" >43</td>\n",
              "      <td id=\"T_2cc91_row10_col8\" class=\"data row10 col8\" >98</td>\n",
              "      <td id=\"T_2cc91_row10_col9\" class=\"data row10 col9\" >98</td>\n",
              "      <td id=\"T_2cc91_row10_col10\" class=\"data row10 col10\" >208</td>\n",
              "      <td id=\"T_2cc91_row10_col11\" class=\"data row10 col11\" >253</td>\n",
              "      <td id=\"T_2cc91_row10_col12\" class=\"data row10 col12\" >253</td>\n",
              "      <td id=\"T_2cc91_row10_col13\" class=\"data row10 col13\" >253</td>\n",
              "      <td id=\"T_2cc91_row10_col14\" class=\"data row10 col14\" >253</td>\n",
              "      <td id=\"T_2cc91_row10_col15\" class=\"data row10 col15\" >187</td>\n",
              "      <td id=\"T_2cc91_row10_col16\" class=\"data row10 col16\" >22</td>\n",
              "      <td id=\"T_2cc91_row10_col17\" class=\"data row10 col17\" >0</td>\n",
              "    </tr>\n",
              "  </tbody>\n",
              "</table>\n"
            ]
          },
          "metadata": {},
          "execution_count": 20
        }
      ]
    },
    {
      "cell_type": "markdown",
      "source": [
        "#### 픽셀 유사성"
      ],
      "metadata": {
        "id": "aZRm9eOZsnFE"
      }
    },
    {
      "cell_type": "code",
      "source": [
        "# 텐서 목록으로 구성된 리스트 생성하기\n",
        "seven_tensors = [tensor(Image.open(o)) for o in sevens]\n",
        "three_tensors = [tensor(Image.open(o)) for o in threes]\n",
        "len(three_tensors), len(seven_tensors)"
      ],
      "metadata": {
        "colab": {
          "base_uri": "https://localhost:8080/"
        },
        "id": "76d_ZvWRsm9l",
        "outputId": "73162101-c3b0-4529-c097-eab38581cfaf"
      },
      "execution_count": 21,
      "outputs": [
        {
          "output_type": "execute_result",
          "data": {
            "text/plain": [
              "(6131, 6265)"
            ]
          },
          "metadata": {},
          "execution_count": 21
        }
      ]
    },
    {
      "cell_type": "code",
      "source": [
        "# 텐서 형태 이미지 출력하기\n",
        "show_image(three_tensors[1]);"
      ],
      "metadata": {
        "colab": {
          "base_uri": "https://localhost:8080/",
          "height": 114
        },
        "id": "xe7KWlRrtUYo",
        "outputId": "e182f9dd-1b66-4a87-cae6-f370bd0ecdff"
      },
      "execution_count": 22,
      "outputs": [
        {
          "output_type": "display_data",
          "data": {
            "text/plain": [
              "<Figure size 100x100 with 1 Axes>"
            ],
            "image/png": "[encoded data removed]"
          },
          "metadata": {}
        }
      ]
    },
    {
      "cell_type": "code",
      "source": [
        "# 3차원 텐서(rank-3 tensor)로 결합하기\n",
        "stacked_sevens = torch.stack(seven_tensors).float()/255\n",
        "stacked_threes = torch.stack(three_tensors).float()/255\n",
        "stacked_threes.shape"
      ],
      "metadata": {
        "colab": {
          "base_uri": "https://localhost:8080/"
        },
        "id": "zeCkiOFMtu_9",
        "outputId": "a57d6d43-0d5e-43f8-be74-3bd390d71e97"
      },
      "execution_count": 24,
      "outputs": [
        {
          "output_type": "execute_result",
          "data": {
            "text/plain": [
              "torch.Size([6131, 28, 28])"
            ]
          },
          "metadata": {},
          "execution_count": 24
        }
      ]
    }
  ]
}