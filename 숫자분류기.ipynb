{
  "nbformat": 4,
  "nbformat_minor": 0,
  "metadata": {
    "colab": {
      "provenance": [],
      "machine_shape": "hm",
      "gpuType": "V100",
      "mount_file_id": "1_JiOrtOVMCmxrkdx9K_W19In79qAhGKh",
      "authorship_tag": "ABX9TyMioARJVwinHCBTuCqj24k0",
      "include_colab_link": true
    },
    "kernelspec": {
      "name": "python3",
      "display_name": "Python 3"
    },
    "language_info": {
      "name": "python"
    },
    "accelerator": "GPU"
  },
  "cells": [
    {
      "cell_type": "markdown",
      "metadata": {
        "id": "view-in-github",
        "colab_type": "text"
      },
      "source": [
        "<a href=\"https://colab.research.google.com/github/chw8207/fastai_pytorch/blob/main/%EC%88%AB%EC%9E%90%EB%B6%84%EB%A5%98%EA%B8%B0.ipynb\" target=\"_parent\"><img src=\"https://colab.research.google.com/assets/colab-badge.svg\" alt=\"Open In Colab\"/></a>"
      ]
    },
    {
      "cell_type": "code",
      "source": [
        "! [ -e /content ] && pip install -Uqq fastbook\n",
        "import fastbook\n",
        "fastbook.setup_book()"
      ],
      "metadata": {
        "colab": {
          "base_uri": "https://localhost:8080/",
          "height": 357
        },
        "id": "n0TcdQZfkcNJ",
        "outputId": "1eeaf908-626e-46cf-eea9-19c9b826de04"
      },
      "execution_count": 6,
      "outputs": [
        {
          "output_type": "error",
          "ename": "OSError",
          "evalue": "ignored",
          "traceback": [
            "\u001b[0;31m---------------------------------------------------------------------------\u001b[0m",
            "\u001b[0;31mOSError\u001b[0m                                   Traceback (most recent call last)",
            "\u001b[0;32m<ipython-input-6-bd7e518827dd>\u001b[0m in \u001b[0;36m<cell line: 3>\u001b[0;34m()\u001b[0m\n\u001b[1;32m      1\u001b[0m \u001b[0mget_ipython\u001b[0m\u001b[0;34m(\u001b[0m\u001b[0;34m)\u001b[0m\u001b[0;34m.\u001b[0m\u001b[0msystem\u001b[0m\u001b[0;34m(\u001b[0m\u001b[0;34m' [ -e /content ] && pip install -Uqq fastbook'\u001b[0m\u001b[0;34m)\u001b[0m\u001b[0;34m\u001b[0m\u001b[0;34m\u001b[0m\u001b[0m\n\u001b[1;32m      2\u001b[0m \u001b[0;32mimport\u001b[0m \u001b[0mfastbook\u001b[0m\u001b[0;34m\u001b[0m\u001b[0;34m\u001b[0m\u001b[0m\n\u001b[0;32m----> 3\u001b[0;31m \u001b[0mfastbook\u001b[0m\u001b[0;34m.\u001b[0m\u001b[0msetup_book\u001b[0m\u001b[0;34m(\u001b[0m\u001b[0;34m)\u001b[0m\u001b[0;34m\u001b[0m\u001b[0;34m\u001b[0m\u001b[0m\n\u001b[0m",
            "\u001b[0;32m/usr/local/lib/python3.10/dist-packages/fastbook/__init__.py\u001b[0m in \u001b[0;36msetup_book\u001b[0;34m()\u001b[0m\n\u001b[1;32m     36\u001b[0m \u001b[0;34m\u001b[0m\u001b[0m\n\u001b[1;32m     37\u001b[0m \u001b[0;32mdef\u001b[0m \u001b[0msetup_book\u001b[0m\u001b[0;34m(\u001b[0m\u001b[0;34m)\u001b[0m\u001b[0;34m:\u001b[0m\u001b[0;34m\u001b[0m\u001b[0;34m\u001b[0m\u001b[0m\n\u001b[0;32m---> 38\u001b[0;31m     \u001b[0;32mif\u001b[0m \u001b[0mIN_COLAB\u001b[0m\u001b[0;34m:\u001b[0m \u001b[0;32mreturn\u001b[0m \u001b[0msetup_colab\u001b[0m\u001b[0;34m(\u001b[0m\u001b[0;34m)\u001b[0m\u001b[0;34m\u001b[0m\u001b[0;34m\u001b[0m\u001b[0m\n\u001b[0m\u001b[1;32m     39\u001b[0m \u001b[0;34m\u001b[0m\u001b[0m\n\u001b[1;32m     40\u001b[0m \u001b[0;32mdef\u001b[0m \u001b[0mgv\u001b[0m\u001b[0;34m(\u001b[0m\u001b[0ms\u001b[0m\u001b[0;34m)\u001b[0m\u001b[0;34m:\u001b[0m \u001b[0;32mreturn\u001b[0m \u001b[0mgraphviz\u001b[0m\u001b[0;34m.\u001b[0m\u001b[0mSource\u001b[0m\u001b[0;34m(\u001b[0m\u001b[0;34m'digraph G{ rankdir=\"LR\"'\u001b[0m \u001b[0;34m+\u001b[0m \u001b[0ms\u001b[0m \u001b[0;34m+\u001b[0m \u001b[0;34m'; }'\u001b[0m\u001b[0;34m)\u001b[0m\u001b[0;34m\u001b[0m\u001b[0;34m\u001b[0m\u001b[0m\n",
            "\u001b[0;32m/usr/local/lib/python3.10/dist-packages/fastbook/__init__.py\u001b[0m in \u001b[0;36msetup_colab\u001b[0;34m()\u001b[0m\n\u001b[1;32m     33\u001b[0m     \u001b[0mgdrive\u001b[0m \u001b[0;34m=\u001b[0m \u001b[0mPath\u001b[0m\u001b[0;34m(\u001b[0m\u001b[0;34m'/content/gdrive/My Drive'\u001b[0m\u001b[0;34m)\u001b[0m\u001b[0;34m\u001b[0m\u001b[0;34m\u001b[0m\u001b[0m\n\u001b[1;32m     34\u001b[0m     \u001b[0;32mfrom\u001b[0m \u001b[0mgoogle\u001b[0m\u001b[0;34m.\u001b[0m\u001b[0mcolab\u001b[0m \u001b[0;32mimport\u001b[0m \u001b[0mdrive\u001b[0m\u001b[0;34m\u001b[0m\u001b[0;34m\u001b[0m\u001b[0m\n\u001b[0;32m---> 35\u001b[0;31m     \u001b[0;32mif\u001b[0m \u001b[0;32mnot\u001b[0m \u001b[0mgdrive\u001b[0m\u001b[0;34m.\u001b[0m\u001b[0mexists\u001b[0m\u001b[0;34m(\u001b[0m\u001b[0;34m)\u001b[0m\u001b[0;34m:\u001b[0m \u001b[0mdrive\u001b[0m\u001b[0;34m.\u001b[0m\u001b[0mmount\u001b[0m\u001b[0;34m(\u001b[0m\u001b[0mstr\u001b[0m\u001b[0;34m(\u001b[0m\u001b[0mgdrive\u001b[0m\u001b[0;34m.\u001b[0m\u001b[0mparent\u001b[0m\u001b[0;34m)\u001b[0m\u001b[0;34m)\u001b[0m\u001b[0;34m\u001b[0m\u001b[0;34m\u001b[0m\u001b[0m\n\u001b[0m\u001b[1;32m     36\u001b[0m \u001b[0;34m\u001b[0m\u001b[0m\n\u001b[1;32m     37\u001b[0m \u001b[0;32mdef\u001b[0m \u001b[0msetup_book\u001b[0m\u001b[0;34m(\u001b[0m\u001b[0;34m)\u001b[0m\u001b[0;34m:\u001b[0m\u001b[0;34m\u001b[0m\u001b[0;34m\u001b[0m\u001b[0m\n",
            "\u001b[0;32m/usr/lib/python3.10/pathlib.py\u001b[0m in \u001b[0;36mexists\u001b[0;34m(self)\u001b[0m\n\u001b[1;32m   1288\u001b[0m         \"\"\"\n\u001b[1;32m   1289\u001b[0m         \u001b[0;32mtry\u001b[0m\u001b[0;34m:\u001b[0m\u001b[0;34m\u001b[0m\u001b[0;34m\u001b[0m\u001b[0m\n\u001b[0;32m-> 1290\u001b[0;31m             \u001b[0mself\u001b[0m\u001b[0;34m.\u001b[0m\u001b[0mstat\u001b[0m\u001b[0;34m(\u001b[0m\u001b[0;34m)\u001b[0m\u001b[0;34m\u001b[0m\u001b[0;34m\u001b[0m\u001b[0m\n\u001b[0m\u001b[1;32m   1291\u001b[0m         \u001b[0;32mexcept\u001b[0m \u001b[0mOSError\u001b[0m \u001b[0;32mas\u001b[0m \u001b[0me\u001b[0m\u001b[0;34m:\u001b[0m\u001b[0;34m\u001b[0m\u001b[0;34m\u001b[0m\u001b[0m\n\u001b[1;32m   1292\u001b[0m             \u001b[0;32mif\u001b[0m \u001b[0;32mnot\u001b[0m \u001b[0m_ignore_error\u001b[0m\u001b[0;34m(\u001b[0m\u001b[0me\u001b[0m\u001b[0;34m)\u001b[0m\u001b[0;34m:\u001b[0m\u001b[0;34m\u001b[0m\u001b[0;34m\u001b[0m\u001b[0m\n",
            "\u001b[0;32m/usr/lib/python3.10/pathlib.py\u001b[0m in \u001b[0;36mstat\u001b[0;34m(self, follow_symlinks)\u001b[0m\n\u001b[1;32m   1095\u001b[0m         \u001b[0mos\u001b[0m\u001b[0;34m.\u001b[0m\u001b[0mstat\u001b[0m\u001b[0;34m(\u001b[0m\u001b[0;34m)\u001b[0m \u001b[0mdoes\u001b[0m\u001b[0;34m.\u001b[0m\u001b[0;34m\u001b[0m\u001b[0;34m\u001b[0m\u001b[0m\n\u001b[1;32m   1096\u001b[0m         \"\"\"\n\u001b[0;32m-> 1097\u001b[0;31m         \u001b[0;32mreturn\u001b[0m \u001b[0mself\u001b[0m\u001b[0;34m.\u001b[0m\u001b[0m_accessor\u001b[0m\u001b[0;34m.\u001b[0m\u001b[0mstat\u001b[0m\u001b[0;34m(\u001b[0m\u001b[0mself\u001b[0m\u001b[0;34m,\u001b[0m \u001b[0mfollow_symlinks\u001b[0m\u001b[0;34m=\u001b[0m\u001b[0mfollow_symlinks\u001b[0m\u001b[0;34m)\u001b[0m\u001b[0;34m\u001b[0m\u001b[0;34m\u001b[0m\u001b[0m\n\u001b[0m\u001b[1;32m   1098\u001b[0m \u001b[0;34m\u001b[0m\u001b[0m\n\u001b[1;32m   1099\u001b[0m     \u001b[0;32mdef\u001b[0m \u001b[0mowner\u001b[0m\u001b[0;34m(\u001b[0m\u001b[0mself\u001b[0m\u001b[0;34m)\u001b[0m\u001b[0;34m:\u001b[0m\u001b[0;34m\u001b[0m\u001b[0;34m\u001b[0m\u001b[0m\n",
            "\u001b[0;31mOSError\u001b[0m: [Errno 107] Transport endpoint is not connected: '/content/gdrive/My Drive'"
          ]
        }
      ]
    },
    {
      "cell_type": "code",
      "execution_count": 7,
      "metadata": {
        "id": "JWSSzLaujMJt"
      },
      "outputs": [],
      "source": [
        "from torch.autograd import functional\n",
        "import tensorflow as tf\n",
        "from fastai.vision.all import *\n",
        "from fastbook import *\n",
        "import pandas as pd\n",
        "import torch\n",
        "import torch.nn.functional as F\n",
        "import matplotlib.pyplot as plt\n",
        "%matplotlib inline"
      ]
    },
    {
      "cell_type": "markdown",
      "source": [
        "### GPU 설정"
      ],
      "metadata": {
        "id": "m1qTpIldjZiw"
      }
    },
    {
      "cell_type": "code",
      "source": [
        "device_name = tf.test.gpu_device_name()\n",
        "if device_name != '/device:GPU:0' :\n",
        "    raise SystemError('GPU device not found')\n",
        "print(f'Found GPU at: {device_name}')"
      ],
      "metadata": {
        "colab": {
          "base_uri": "https://localhost:8080/"
        },
        "id": "EHpJuiMPjZWW",
        "outputId": "38179266-aa41-46b6-97b7-ea8c792da4e5"
      },
      "execution_count": 8,
      "outputs": [
        {
          "output_type": "stream",
          "name": "stdout",
          "text": [
            "Found GPU at: /device:GPU:0\n"
          ]
        }
      ]
    },
    {
      "cell_type": "code",
      "source": [
        "from tensorflow.python.client import device_lib\n",
        "\n",
        "print(device_lib.list_local_devices())"
      ],
      "metadata": {
        "colab": {
          "base_uri": "https://localhost:8080/"
        },
        "id": "9XTUefMFjZLF",
        "outputId": "690fe864-6f01-4bef-a676-fa570d70c69e"
      },
      "execution_count": 9,
      "outputs": [
        {
          "output_type": "stream",
          "name": "stdout",
          "text": [
            "[name: \"/device:CPU:0\"\n",
            "device_type: \"CPU\"\n",
            "memory_limit: 268435456\n",
            "locality {\n",
            "}\n",
            "incarnation: 8859427797460936765\n",
            "xla_global_id: -1\n",
            ", name: \"/device:GPU:0\"\n",
            "device_type: \"GPU\"\n",
            "memory_limit: 13465944064\n",
            "locality {\n",
            "  bus_id: 1\n",
            "  links {\n",
            "  }\n",
            "}\n",
            "incarnation: 13368593622812596560\n",
            "physical_device_desc: \"device: 0, name: Tesla V100-SXM2-16GB, pci bus id: 0000:00:04.0, compute capability: 7.0\"\n",
            "xla_global_id: 416903419\n",
            "]\n"
          ]
        }
      ]
    },
    {
      "cell_type": "markdown",
      "source": [
        "### 숫자 3과 7의 이미지 분류하는 모델"
      ],
      "metadata": {
        "id": "oD0kqYqukLbj"
      }
    },
    {
      "cell_type": "code",
      "source": [
        "path = untar_data(URLs.MNIST_SAMPLE)"
      ],
      "metadata": {
        "id": "4kL1xUPKkLSb"
      },
      "execution_count": 10,
      "outputs": []
    },
    {
      "cell_type": "code",
      "source": [
        "# 디렉터리 내용 확인\n",
        "path.ls()"
      ],
      "metadata": {
        "colab": {
          "base_uri": "https://localhost:8080/"
        },
        "id": "fw7eRDcpn_5M",
        "outputId": "ef322cdb-0bf0-4279-fa78-0889e3021c09"
      },
      "execution_count": 11,
      "outputs": [
        {
          "output_type": "execute_result",
          "data": {
            "text/plain": [
              "(#3) [Path('/root/.fastai/data/mnist_sample/train'),Path('/root/.fastai/data/mnist_sample/valid'),Path('/root/.fastai/data/mnist_sample/labels.csv')]"
            ]
          },
          "metadata": {},
          "execution_count": 11
        }
      ]
    },
    {
      "cell_type": "code",
      "source": [
        "# 학습 데이터셋의 폴더 내용 확인\n",
        "(path/'train').ls()"
      ],
      "metadata": {
        "colab": {
          "base_uri": "https://localhost:8080/"
        },
        "id": "HQv-qtp1pwn1",
        "outputId": "d8d59016-582f-406b-b5cd-7880202bac77"
      },
      "execution_count": 12,
      "outputs": [
        {
          "output_type": "execute_result",
          "data": {
            "text/plain": [
              "(#2) [Path('/root/.fastai/data/mnist_sample/train/7'),Path('/root/.fastai/data/mnist_sample/train/3')]"
            ]
          },
          "metadata": {},
          "execution_count": 12
        }
      ]
    },
    {
      "cell_type": "code",
      "source": [
        "# 파일 순서가 같도록 정렬하기\n",
        "threes = (path/'train'/'3').ls().sorted()\n",
        "sevens = (path/'train'/'7').ls().sorted()"
      ],
      "metadata": {
        "id": "c7ur11QZp6Hq"
      },
      "execution_count": 13,
      "outputs": []
    },
    {
      "cell_type": "code",
      "source": [
        "threes"
      ],
      "metadata": {
        "colab": {
          "base_uri": "https://localhost:8080/"
        },
        "id": "-dhzmIbcqGWF",
        "outputId": "39db943f-1737-4b11-c844-1e59faf405e7"
      },
      "execution_count": 14,
      "outputs": [
        {
          "output_type": "execute_result",
          "data": {
            "text/plain": [
              "(#6131) [Path('/root/.fastai/data/mnist_sample/train/3/10.png'),Path('/root/.fastai/data/mnist_sample/train/3/10000.png'),Path('/root/.fastai/data/mnist_sample/train/3/10011.png'),Path('/root/.fastai/data/mnist_sample/train/3/10031.png'),Path('/root/.fastai/data/mnist_sample/train/3/10034.png'),Path('/root/.fastai/data/mnist_sample/train/3/10042.png'),Path('/root/.fastai/data/mnist_sample/train/3/10052.png'),Path('/root/.fastai/data/mnist_sample/train/3/1007.png'),Path('/root/.fastai/data/mnist_sample/train/3/10074.png'),Path('/root/.fastai/data/mnist_sample/train/3/10091.png')...]"
            ]
          },
          "metadata": {},
          "execution_count": 14
        }
      ]
    },
    {
      "cell_type": "code",
      "source": [
        "# 손으로 쓴 숫자 3 이미지를 출력하기\n",
        "img3_path = threes[1]\n",
        "img3 = Image.open(img3_path)\n",
        "img3"
      ],
      "metadata": {
        "colab": {
          "base_uri": "https://localhost:8080/",
          "height": 45
        },
        "id": "XEewxsWUqLM_",
        "outputId": "4b693683-58af-4b6e-d22d-af0c434fdb4d"
      },
      "execution_count": 15,
      "outputs": [
        {
          "output_type": "execute_result",
          "data": {
            "text/plain": [
              "<PIL.PngImagePlugin.PngImageFile image mode=L size=28x28>"
            ],
            "image/png": "[encoded data removed]"
          },
          "metadata": {},
          "execution_count": 15
        }
      ]
    },
    {
      "cell_type": "code",
      "source": [
        "# 이미지를 구성하는 숫자 확인\n",
        "array(img3)[4:10, 4:10]"
      ],
      "metadata": {
        "colab": {
          "base_uri": "https://localhost:8080/"
        },
        "id": "zegx1AnXqpV0",
        "outputId": "9b86c983-945c-4787-fc36-9b9635d44a33"
      },
      "execution_count": 16,
      "outputs": [
        {
          "output_type": "execute_result",
          "data": {
            "text/plain": [
              "array([[  0,   0,   0,   0,   0,   0],\n",
              "       [  0,   0,   0,   0,   0,  29],\n",
              "       [  0,   0,   0,  48, 166, 224],\n",
              "       [  0,  93, 244, 249, 253, 187],\n",
              "       [  0, 107, 253, 253, 230,  48],\n",
              "       [  0,   3,  20,  20,  15,   0]], dtype=uint8)"
            ]
          },
          "metadata": {},
          "execution_count": 16
        }
      ]
    },
    {
      "cell_type": "code",
      "source": [
        "# 텐서로 표현\n",
        "tensor(img3)[4:10, 4:10]"
      ],
      "metadata": {
        "colab": {
          "base_uri": "https://localhost:8080/"
        },
        "id": "_mcD-7Klq8ev",
        "outputId": "eb3249a0-4502-471e-fea5-dafc34f83e54"
      },
      "execution_count": 17,
      "outputs": [
        {
          "output_type": "execute_result",
          "data": {
            "text/plain": [
              "tensor([[  0,   0,   0,   0,   0,   0],\n",
              "        [  0,   0,   0,   0,   0,  29],\n",
              "        [  0,   0,   0,  48, 166, 224],\n",
              "        [  0,  93, 244, 249, 253, 187],\n",
              "        [  0, 107, 253, 253, 230,  48],\n",
              "        [  0,   3,  20,  20,  15,   0]], dtype=torch.uint8)"
            ]
          },
          "metadata": {},
          "execution_count": 17
        }
      ]
    },
    {
      "cell_type": "code",
      "source": [
        "# 판다스 데이터프레임으로\n",
        "# 숫자의 값에 따라 색상을\n",
        "# 그라데이션으로 입히는 방법 보여주기\n",
        "img3_t = tensor(img3)\n",
        "df = pd.DataFrame(img3_t[4:15, 4:22])\n",
        "df.style.set_properties(**{'font-size':'6pt'}).background_gradient('Greys')"
      ],
      "metadata": {
        "colab": {
          "base_uri": "https://localhost:8080/",
          "height": 394
        },
        "id": "ciXWqdY5rJR1",
        "outputId": "e37db2d0-0f33-450d-9e7f-fd3ebdc17d7c"
      },
      "execution_count": 18,
      "outputs": [
        {
          "output_type": "execute_result",
          "data": {
            "text/plain": [
              "<pandas.io.formats.style.Styler at 0x7c2ffdf21780>"
            ],
            "text/html": [
              "<style type=\"text/css\">\n",
              "#T_82e41_row0_col0, #T_82e41_row0_col1, #T_82e41_row0_col2, #T_82e41_row0_col3, #T_82e41_row0_col4, #T_82e41_row0_col5, #T_82e41_row0_col6, #T_82e41_row0_col7, #T_82e41_row0_col8, #T_82e41_row0_col9, #T_82e41_row0_col10, #T_82e41_row0_col11, #T_82e41_row0_col12, #T_82e41_row0_col13, #T_82e41_row0_col14, #T_82e41_row0_col15, #T_82e41_row0_col16, #T_82e41_row0_col17, #T_82e41_row1_col0, #T_82e41_row1_col1, #T_82e41_row1_col2, #T_82e41_row1_col3, #T_82e41_row1_col4, #T_82e41_row1_col15, #T_82e41_row1_col16, #T_82e41_row1_col17, #T_82e41_row2_col0, #T_82e41_row2_col1, #T_82e41_row2_col2, #T_82e41_row2_col15, #T_82e41_row2_col16, #T_82e41_row2_col17, #T_82e41_row3_col0, #T_82e41_row3_col15, #T_82e41_row3_col16, #T_82e41_row3_col17, #T_82e41_row4_col0, #T_82e41_row4_col6, #T_82e41_row4_col7, #T_82e41_row4_col8, #T_82e41_row4_col9, #T_82e41_row4_col10, #T_82e41_row4_col15, #T_82e41_row4_col16, #T_82e41_row4_col17, #T_82e41_row5_col0, #T_82e41_row5_col5, #T_82e41_row5_col6, #T_82e41_row5_col7, #T_82e41_row5_col8, #T_82e41_row5_col9, #T_82e41_row5_col15, #T_82e41_row5_col16, #T_82e41_row5_col17, #T_82e41_row6_col0, #T_82e41_row6_col1, #T_82e41_row6_col2, #T_82e41_row6_col3, #T_82e41_row6_col4, #T_82e41_row6_col5, #T_82e41_row6_col6, #T_82e41_row6_col7, #T_82e41_row6_col8, #T_82e41_row6_col9, #T_82e41_row6_col14, #T_82e41_row6_col15, #T_82e41_row6_col16, #T_82e41_row6_col17, #T_82e41_row7_col0, #T_82e41_row7_col1, #T_82e41_row7_col2, #T_82e41_row7_col3, #T_82e41_row7_col4, #T_82e41_row7_col5, #T_82e41_row7_col6, #T_82e41_row7_col13, #T_82e41_row7_col14, #T_82e41_row7_col15, #T_82e41_row7_col16, #T_82e41_row7_col17, #T_82e41_row8_col0, #T_82e41_row8_col1, #T_82e41_row8_col2, #T_82e41_row8_col3, #T_82e41_row8_col4, #T_82e41_row8_col13, #T_82e41_row8_col14, #T_82e41_row8_col15, #T_82e41_row8_col16, #T_82e41_row8_col17, #T_82e41_row9_col0, #T_82e41_row9_col1, #T_82e41_row9_col2, #T_82e41_row9_col3, #T_82e41_row9_col4, #T_82e41_row9_col16, #T_82e41_row9_col17, #T_82e41_row10_col0, #T_82e41_row10_col1, #T_82e41_row10_col2, #T_82e41_row10_col3, #T_82e41_row10_col4, #T_82e41_row10_col5, #T_82e41_row10_col6, #T_82e41_row10_col17 {\n",
              "  font-size: 6pt;\n",
              "  background-color: #ffffff;\n",
              "  color: #000000;\n",
              "}\n",
              "#T_82e41_row1_col5 {\n",
              "  font-size: 6pt;\n",
              "  background-color: #efefef;\n",
              "  color: #000000;\n",
              "}\n",
              "#T_82e41_row1_col6, #T_82e41_row1_col13 {\n",
              "  font-size: 6pt;\n",
              "  background-color: #7c7c7c;\n",
              "  color: #f1f1f1;\n",
              "}\n",
              "#T_82e41_row1_col7 {\n",
              "  font-size: 6pt;\n",
              "  background-color: #4a4a4a;\n",
              "  color: #f1f1f1;\n",
              "}\n",
              "#T_82e41_row1_col8, #T_82e41_row1_col9, #T_82e41_row1_col10, #T_82e41_row2_col5, #T_82e41_row2_col6, #T_82e41_row2_col7, #T_82e41_row2_col11, #T_82e41_row2_col12, #T_82e41_row2_col13, #T_82e41_row3_col4, #T_82e41_row3_col12, #T_82e41_row3_col13, #T_82e41_row4_col1, #T_82e41_row4_col2, #T_82e41_row4_col3, #T_82e41_row4_col12, #T_82e41_row4_col13, #T_82e41_row5_col12, #T_82e41_row6_col11, #T_82e41_row9_col11, #T_82e41_row10_col11, #T_82e41_row10_col12, #T_82e41_row10_col13, #T_82e41_row10_col14, #T_82e41_row10_col15, #T_82e41_row10_col16 {\n",
              "  font-size: 6pt;\n",
              "  background-color: #000000;\n",
              "  color: #f1f1f1;\n",
              "}\n",
              "#T_82e41_row1_col11 {\n",
              "  font-size: 6pt;\n",
              "  background-color: #606060;\n",
              "  color: #f1f1f1;\n",
              "}\n",
              "#T_82e41_row1_col12 {\n",
              "  font-size: 6pt;\n",
              "  background-color: #4d4d4d;\n",
              "  color: #f1f1f1;\n",
              "}\n",
              "#T_82e41_row1_col14 {\n",
              "  font-size: 6pt;\n",
              "  background-color: #bbbbbb;\n",
              "  color: #000000;\n",
              "}\n",
              "#T_82e41_row2_col3 {\n",
              "  font-size: 6pt;\n",
              "  background-color: #e4e4e4;\n",
              "  color: #000000;\n",
              "}\n",
              "#T_82e41_row2_col4, #T_82e41_row8_col6 {\n",
              "  font-size: 6pt;\n",
              "  background-color: #6b6b6b;\n",
              "  color: #f1f1f1;\n",
              "}\n",
              "#T_82e41_row2_col8, #T_82e41_row2_col14, #T_82e41_row3_col14 {\n",
              "  font-size: 6pt;\n",
              "  background-color: #171717;\n",
              "  color: #f1f1f1;\n",
              "}\n",
              "#T_82e41_row2_col9, #T_82e41_row3_col11 {\n",
              "  font-size: 6pt;\n",
              "  background-color: #4b4b4b;\n",
              "  color: #f1f1f1;\n",
              "}\n",
              "#T_82e41_row2_col10, #T_82e41_row7_col10, #T_82e41_row8_col8, #T_82e41_row8_col10, #T_82e41_row9_col8, #T_82e41_row9_col10 {\n",
              "  font-size: 6pt;\n",
              "  background-color: #010101;\n",
              "  color: #f1f1f1;\n",
              "}\n",
              "#T_82e41_row3_col1 {\n",
              "  font-size: 6pt;\n",
              "  background-color: #272727;\n",
              "  color: #f1f1f1;\n",
              "}\n",
              "#T_82e41_row3_col2 {\n",
              "  font-size: 6pt;\n",
              "  background-color: #0a0a0a;\n",
              "  color: #f1f1f1;\n",
              "}\n",
              "#T_82e41_row3_col3 {\n",
              "  font-size: 6pt;\n",
              "  background-color: #050505;\n",
              "  color: #f1f1f1;\n",
              "}\n",
              "#T_82e41_row3_col5 {\n",
              "  font-size: 6pt;\n",
              "  background-color: #333333;\n",
              "  color: #f1f1f1;\n",
              "}\n",
              "#T_82e41_row3_col6 {\n",
              "  font-size: 6pt;\n",
              "  background-color: #e6e6e6;\n",
              "  color: #000000;\n",
              "}\n",
              "#T_82e41_row3_col7, #T_82e41_row3_col10 {\n",
              "  font-size: 6pt;\n",
              "  background-color: #fafafa;\n",
              "  color: #000000;\n",
              "}\n",
              "#T_82e41_row3_col8 {\n",
              "  font-size: 6pt;\n",
              "  background-color: #fbfbfb;\n",
              "  color: #000000;\n",
              "}\n",
              "#T_82e41_row3_col9 {\n",
              "  font-size: 6pt;\n",
              "  background-color: #fdfdfd;\n",
              "  color: #000000;\n",
              "}\n",
              "#T_82e41_row4_col4 {\n",
              "  font-size: 6pt;\n",
              "  background-color: #1b1b1b;\n",
              "  color: #f1f1f1;\n",
              "}\n",
              "#T_82e41_row4_col5 {\n",
              "  font-size: 6pt;\n",
              "  background-color: #e0e0e0;\n",
              "  color: #000000;\n",
              "}\n",
              "#T_82e41_row4_col11 {\n",
              "  font-size: 6pt;\n",
              "  background-color: #4e4e4e;\n",
              "  color: #f1f1f1;\n",
              "}\n",
              "#T_82e41_row4_col14 {\n",
              "  font-size: 6pt;\n",
              "  background-color: #767676;\n",
              "  color: #f1f1f1;\n",
              "}\n",
              "#T_82e41_row5_col1 {\n",
              "  font-size: 6pt;\n",
              "  background-color: #fcfcfc;\n",
              "  color: #000000;\n",
              "}\n",
              "#T_82e41_row5_col2, #T_82e41_row5_col3 {\n",
              "  font-size: 6pt;\n",
              "  background-color: #f6f6f6;\n",
              "  color: #000000;\n",
              "}\n",
              "#T_82e41_row5_col4, #T_82e41_row7_col7 {\n",
              "  font-size: 6pt;\n",
              "  background-color: #f8f8f8;\n",
              "  color: #000000;\n",
              "}\n",
              "#T_82e41_row5_col10, #T_82e41_row10_col7 {\n",
              "  font-size: 6pt;\n",
              "  background-color: #e8e8e8;\n",
              "  color: #000000;\n",
              "}\n",
              "#T_82e41_row5_col11 {\n",
              "  font-size: 6pt;\n",
              "  background-color: #222222;\n",
              "  color: #f1f1f1;\n",
              "}\n",
              "#T_82e41_row5_col13, #T_82e41_row6_col12 {\n",
              "  font-size: 6pt;\n",
              "  background-color: #090909;\n",
              "  color: #f1f1f1;\n",
              "}\n",
              "#T_82e41_row5_col14 {\n",
              "  font-size: 6pt;\n",
              "  background-color: #d0d0d0;\n",
              "  color: #000000;\n",
              "}\n",
              "#T_82e41_row6_col10, #T_82e41_row7_col11, #T_82e41_row9_col6 {\n",
              "  font-size: 6pt;\n",
              "  background-color: #060606;\n",
              "  color: #f1f1f1;\n",
              "}\n",
              "#T_82e41_row6_col13 {\n",
              "  font-size: 6pt;\n",
              "  background-color: #979797;\n",
              "  color: #f1f1f1;\n",
              "}\n",
              "#T_82e41_row7_col8 {\n",
              "  font-size: 6pt;\n",
              "  background-color: #b6b6b6;\n",
              "  color: #000000;\n",
              "}\n",
              "#T_82e41_row7_col9 {\n",
              "  font-size: 6pt;\n",
              "  background-color: #252525;\n",
              "  color: #f1f1f1;\n",
              "}\n",
              "#T_82e41_row7_col12 {\n",
              "  font-size: 6pt;\n",
              "  background-color: #999999;\n",
              "  color: #f1f1f1;\n",
              "}\n",
              "#T_82e41_row8_col5 {\n",
              "  font-size: 6pt;\n",
              "  background-color: #f9f9f9;\n",
              "  color: #000000;\n",
              "}\n",
              "#T_82e41_row8_col7 {\n",
              "  font-size: 6pt;\n",
              "  background-color: #101010;\n",
              "  color: #f1f1f1;\n",
              "}\n",
              "#T_82e41_row8_col9, #T_82e41_row9_col9 {\n",
              "  font-size: 6pt;\n",
              "  background-color: #020202;\n",
              "  color: #f1f1f1;\n",
              "}\n",
              "#T_82e41_row8_col11 {\n",
              "  font-size: 6pt;\n",
              "  background-color: #545454;\n",
              "  color: #f1f1f1;\n",
              "}\n",
              "#T_82e41_row8_col12 {\n",
              "  font-size: 6pt;\n",
              "  background-color: #f1f1f1;\n",
              "  color: #000000;\n",
              "}\n",
              "#T_82e41_row9_col5 {\n",
              "  font-size: 6pt;\n",
              "  background-color: #f7f7f7;\n",
              "  color: #000000;\n",
              "}\n",
              "#T_82e41_row9_col7 {\n",
              "  font-size: 6pt;\n",
              "  background-color: #030303;\n",
              "  color: #f1f1f1;\n",
              "}\n",
              "#T_82e41_row9_col12 {\n",
              "  font-size: 6pt;\n",
              "  background-color: #181818;\n",
              "  color: #f1f1f1;\n",
              "}\n",
              "#T_82e41_row9_col13 {\n",
              "  font-size: 6pt;\n",
              "  background-color: #303030;\n",
              "  color: #f1f1f1;\n",
              "}\n",
              "#T_82e41_row9_col14 {\n",
              "  font-size: 6pt;\n",
              "  background-color: #a9a9a9;\n",
              "  color: #f1f1f1;\n",
              "}\n",
              "#T_82e41_row9_col15 {\n",
              "  font-size: 6pt;\n",
              "  background-color: #fefefe;\n",
              "  color: #000000;\n",
              "}\n",
              "#T_82e41_row10_col8, #T_82e41_row10_col9 {\n",
              "  font-size: 6pt;\n",
              "  background-color: #bababa;\n",
              "  color: #000000;\n",
              "}\n",
              "#T_82e41_row10_col10 {\n",
              "  font-size: 6pt;\n",
              "  background-color: #393939;\n",
              "  color: #f1f1f1;\n",
              "}\n",
              "</style>\n",
              "<table id=\"T_82e41\" class=\"dataframe\">\n",
              "  <thead>\n",
              "    <tr>\n",
              "      <th class=\"blank level0\" >&nbsp;</th>\n",
              "      <th id=\"T_82e41_level0_col0\" class=\"col_heading level0 col0\" >0</th>\n",
              "      <th id=\"T_82e41_level0_col1\" class=\"col_heading level0 col1\" >1</th>\n",
              "      <th id=\"T_82e41_level0_col2\" class=\"col_heading level0 col2\" >2</th>\n",
              "      <th id=\"T_82e41_level0_col3\" class=\"col_heading level0 col3\" >3</th>\n",
              "      <th id=\"T_82e41_level0_col4\" class=\"col_heading level0 col4\" >4</th>\n",
              "      <th id=\"T_82e41_level0_col5\" class=\"col_heading level0 col5\" >5</th>\n",
              "      <th id=\"T_82e41_level0_col6\" class=\"col_heading level0 col6\" >6</th>\n",
              "      <th id=\"T_82e41_level0_col7\" class=\"col_heading level0 col7\" >7</th>\n",
              "      <th id=\"T_82e41_level0_col8\" class=\"col_heading level0 col8\" >8</th>\n",
              "      <th id=\"T_82e41_level0_col9\" class=\"col_heading level0 col9\" >9</th>\n",
              "      <th id=\"T_82e41_level0_col10\" class=\"col_heading level0 col10\" >10</th>\n",
              "      <th id=\"T_82e41_level0_col11\" class=\"col_heading level0 col11\" >11</th>\n",
              "      <th id=\"T_82e41_level0_col12\" class=\"col_heading level0 col12\" >12</th>\n",
              "      <th id=\"T_82e41_level0_col13\" class=\"col_heading level0 col13\" >13</th>\n",
              "      <th id=\"T_82e41_level0_col14\" class=\"col_heading level0 col14\" >14</th>\n",
              "      <th id=\"T_82e41_level0_col15\" class=\"col_heading level0 col15\" >15</th>\n",
              "      <th id=\"T_82e41_level0_col16\" class=\"col_heading level0 col16\" >16</th>\n",
              "      <th id=\"T_82e41_level0_col17\" class=\"col_heading level0 col17\" >17</th>\n",
              "    </tr>\n",
              "  </thead>\n",
              "  <tbody>\n",
              "    <tr>\n",
              "      <th id=\"T_82e41_level0_row0\" class=\"row_heading level0 row0\" >0</th>\n",
              "      <td id=\"T_82e41_row0_col0\" class=\"data row0 col0\" >0</td>\n",
              "      <td id=\"T_82e41_row0_col1\" class=\"data row0 col1\" >0</td>\n",
              "      <td id=\"T_82e41_row0_col2\" class=\"data row0 col2\" >0</td>\n",
              "      <td id=\"T_82e41_row0_col3\" class=\"data row0 col3\" >0</td>\n",
              "      <td id=\"T_82e41_row0_col4\" class=\"data row0 col4\" >0</td>\n",
              "      <td id=\"T_82e41_row0_col5\" class=\"data row0 col5\" >0</td>\n",
              "      <td id=\"T_82e41_row0_col6\" class=\"data row0 col6\" >0</td>\n",
              "      <td id=\"T_82e41_row0_col7\" class=\"data row0 col7\" >0</td>\n",
              "      <td id=\"T_82e41_row0_col8\" class=\"data row0 col8\" >0</td>\n",
              "      <td id=\"T_82e41_row0_col9\" class=\"data row0 col9\" >0</td>\n",
              "      <td id=\"T_82e41_row0_col10\" class=\"data row0 col10\" >0</td>\n",
              "      <td id=\"T_82e41_row0_col11\" class=\"data row0 col11\" >0</td>\n",
              "      <td id=\"T_82e41_row0_col12\" class=\"data row0 col12\" >0</td>\n",
              "      <td id=\"T_82e41_row0_col13\" class=\"data row0 col13\" >0</td>\n",
              "      <td id=\"T_82e41_row0_col14\" class=\"data row0 col14\" >0</td>\n",
              "      <td id=\"T_82e41_row0_col15\" class=\"data row0 col15\" >0</td>\n",
              "      <td id=\"T_82e41_row0_col16\" class=\"data row0 col16\" >0</td>\n",
              "      <td id=\"T_82e41_row0_col17\" class=\"data row0 col17\" >0</td>\n",
              "    </tr>\n",
              "    <tr>\n",
              "      <th id=\"T_82e41_level0_row1\" class=\"row_heading level0 row1\" >1</th>\n",
              "      <td id=\"T_82e41_row1_col0\" class=\"data row1 col0\" >0</td>\n",
              "      <td id=\"T_82e41_row1_col1\" class=\"data row1 col1\" >0</td>\n",
              "      <td id=\"T_82e41_row1_col2\" class=\"data row1 col2\" >0</td>\n",
              "      <td id=\"T_82e41_row1_col3\" class=\"data row1 col3\" >0</td>\n",
              "      <td id=\"T_82e41_row1_col4\" class=\"data row1 col4\" >0</td>\n",
              "      <td id=\"T_82e41_row1_col5\" class=\"data row1 col5\" >29</td>\n",
              "      <td id=\"T_82e41_row1_col6\" class=\"data row1 col6\" >150</td>\n",
              "      <td id=\"T_82e41_row1_col7\" class=\"data row1 col7\" >195</td>\n",
              "      <td id=\"T_82e41_row1_col8\" class=\"data row1 col8\" >254</td>\n",
              "      <td id=\"T_82e41_row1_col9\" class=\"data row1 col9\" >255</td>\n",
              "      <td id=\"T_82e41_row1_col10\" class=\"data row1 col10\" >254</td>\n",
              "      <td id=\"T_82e41_row1_col11\" class=\"data row1 col11\" >176</td>\n",
              "      <td id=\"T_82e41_row1_col12\" class=\"data row1 col12\" >193</td>\n",
              "      <td id=\"T_82e41_row1_col13\" class=\"data row1 col13\" >150</td>\n",
              "      <td id=\"T_82e41_row1_col14\" class=\"data row1 col14\" >96</td>\n",
              "      <td id=\"T_82e41_row1_col15\" class=\"data row1 col15\" >0</td>\n",
              "      <td id=\"T_82e41_row1_col16\" class=\"data row1 col16\" >0</td>\n",
              "      <td id=\"T_82e41_row1_col17\" class=\"data row1 col17\" >0</td>\n",
              "    </tr>\n",
              "    <tr>\n",
              "      <th id=\"T_82e41_level0_row2\" class=\"row_heading level0 row2\" >2</th>\n",
              "      <td id=\"T_82e41_row2_col0\" class=\"data row2 col0\" >0</td>\n",
              "      <td id=\"T_82e41_row2_col1\" class=\"data row2 col1\" >0</td>\n",
              "      <td id=\"T_82e41_row2_col2\" class=\"data row2 col2\" >0</td>\n",
              "      <td id=\"T_82e41_row2_col3\" class=\"data row2 col3\" >48</td>\n",
              "      <td id=\"T_82e41_row2_col4\" class=\"data row2 col4\" >166</td>\n",
              "      <td id=\"T_82e41_row2_col5\" class=\"data row2 col5\" >224</td>\n",
              "      <td id=\"T_82e41_row2_col6\" class=\"data row2 col6\" >253</td>\n",
              "      <td id=\"T_82e41_row2_col7\" class=\"data row2 col7\" >253</td>\n",
              "      <td id=\"T_82e41_row2_col8\" class=\"data row2 col8\" >234</td>\n",
              "      <td id=\"T_82e41_row2_col9\" class=\"data row2 col9\" >196</td>\n",
              "      <td id=\"T_82e41_row2_col10\" class=\"data row2 col10\" >253</td>\n",
              "      <td id=\"T_82e41_row2_col11\" class=\"data row2 col11\" >253</td>\n",
              "      <td id=\"T_82e41_row2_col12\" class=\"data row2 col12\" >253</td>\n",
              "      <td id=\"T_82e41_row2_col13\" class=\"data row2 col13\" >253</td>\n",
              "      <td id=\"T_82e41_row2_col14\" class=\"data row2 col14\" >233</td>\n",
              "      <td id=\"T_82e41_row2_col15\" class=\"data row2 col15\" >0</td>\n",
              "      <td id=\"T_82e41_row2_col16\" class=\"data row2 col16\" >0</td>\n",
              "      <td id=\"T_82e41_row2_col17\" class=\"data row2 col17\" >0</td>\n",
              "    </tr>\n",
              "    <tr>\n",
              "      <th id=\"T_82e41_level0_row3\" class=\"row_heading level0 row3\" >3</th>\n",
              "      <td id=\"T_82e41_row3_col0\" class=\"data row3 col0\" >0</td>\n",
              "      <td id=\"T_82e41_row3_col1\" class=\"data row3 col1\" >93</td>\n",
              "      <td id=\"T_82e41_row3_col2\" class=\"data row3 col2\" >244</td>\n",
              "      <td id=\"T_82e41_row3_col3\" class=\"data row3 col3\" >249</td>\n",
              "      <td id=\"T_82e41_row3_col4\" class=\"data row3 col4\" >253</td>\n",
              "      <td id=\"T_82e41_row3_col5\" class=\"data row3 col5\" >187</td>\n",
              "      <td id=\"T_82e41_row3_col6\" class=\"data row3 col6\" >46</td>\n",
              "      <td id=\"T_82e41_row3_col7\" class=\"data row3 col7\" >10</td>\n",
              "      <td id=\"T_82e41_row3_col8\" class=\"data row3 col8\" >8</td>\n",
              "      <td id=\"T_82e41_row3_col9\" class=\"data row3 col9\" >4</td>\n",
              "      <td id=\"T_82e41_row3_col10\" class=\"data row3 col10\" >10</td>\n",
              "      <td id=\"T_82e41_row3_col11\" class=\"data row3 col11\" >194</td>\n",
              "      <td id=\"T_82e41_row3_col12\" class=\"data row3 col12\" >253</td>\n",
              "      <td id=\"T_82e41_row3_col13\" class=\"data row3 col13\" >253</td>\n",
              "      <td id=\"T_82e41_row3_col14\" class=\"data row3 col14\" >233</td>\n",
              "      <td id=\"T_82e41_row3_col15\" class=\"data row3 col15\" >0</td>\n",
              "      <td id=\"T_82e41_row3_col16\" class=\"data row3 col16\" >0</td>\n",
              "      <td id=\"T_82e41_row3_col17\" class=\"data row3 col17\" >0</td>\n",
              "    </tr>\n",
              "    <tr>\n",
              "      <th id=\"T_82e41_level0_row4\" class=\"row_heading level0 row4\" >4</th>\n",
              "      <td id=\"T_82e41_row4_col0\" class=\"data row4 col0\" >0</td>\n",
              "      <td id=\"T_82e41_row4_col1\" class=\"data row4 col1\" >107</td>\n",
              "      <td id=\"T_82e41_row4_col2\" class=\"data row4 col2\" >253</td>\n",
              "      <td id=\"T_82e41_row4_col3\" class=\"data row4 col3\" >253</td>\n",
              "      <td id=\"T_82e41_row4_col4\" class=\"data row4 col4\" >230</td>\n",
              "      <td id=\"T_82e41_row4_col5\" class=\"data row4 col5\" >48</td>\n",
              "      <td id=\"T_82e41_row4_col6\" class=\"data row4 col6\" >0</td>\n",
              "      <td id=\"T_82e41_row4_col7\" class=\"data row4 col7\" >0</td>\n",
              "      <td id=\"T_82e41_row4_col8\" class=\"data row4 col8\" >0</td>\n",
              "      <td id=\"T_82e41_row4_col9\" class=\"data row4 col9\" >0</td>\n",
              "      <td id=\"T_82e41_row4_col10\" class=\"data row4 col10\" >0</td>\n",
              "      <td id=\"T_82e41_row4_col11\" class=\"data row4 col11\" >192</td>\n",
              "      <td id=\"T_82e41_row4_col12\" class=\"data row4 col12\" >253</td>\n",
              "      <td id=\"T_82e41_row4_col13\" class=\"data row4 col13\" >253</td>\n",
              "      <td id=\"T_82e41_row4_col14\" class=\"data row4 col14\" >156</td>\n",
              "      <td id=\"T_82e41_row4_col15\" class=\"data row4 col15\" >0</td>\n",
              "      <td id=\"T_82e41_row4_col16\" class=\"data row4 col16\" >0</td>\n",
              "      <td id=\"T_82e41_row4_col17\" class=\"data row4 col17\" >0</td>\n",
              "    </tr>\n",
              "    <tr>\n",
              "      <th id=\"T_82e41_level0_row5\" class=\"row_heading level0 row5\" >5</th>\n",
              "      <td id=\"T_82e41_row5_col0\" class=\"data row5 col0\" >0</td>\n",
              "      <td id=\"T_82e41_row5_col1\" class=\"data row5 col1\" >3</td>\n",
              "      <td id=\"T_82e41_row5_col2\" class=\"data row5 col2\" >20</td>\n",
              "      <td id=\"T_82e41_row5_col3\" class=\"data row5 col3\" >20</td>\n",
              "      <td id=\"T_82e41_row5_col4\" class=\"data row5 col4\" >15</td>\n",
              "      <td id=\"T_82e41_row5_col5\" class=\"data row5 col5\" >0</td>\n",
              "      <td id=\"T_82e41_row5_col6\" class=\"data row5 col6\" >0</td>\n",
              "      <td id=\"T_82e41_row5_col7\" class=\"data row5 col7\" >0</td>\n",
              "      <td id=\"T_82e41_row5_col8\" class=\"data row5 col8\" >0</td>\n",
              "      <td id=\"T_82e41_row5_col9\" class=\"data row5 col9\" >0</td>\n",
              "      <td id=\"T_82e41_row5_col10\" class=\"data row5 col10\" >43</td>\n",
              "      <td id=\"T_82e41_row5_col11\" class=\"data row5 col11\" >224</td>\n",
              "      <td id=\"T_82e41_row5_col12\" class=\"data row5 col12\" >253</td>\n",
              "      <td id=\"T_82e41_row5_col13\" class=\"data row5 col13\" >245</td>\n",
              "      <td id=\"T_82e41_row5_col14\" class=\"data row5 col14\" >74</td>\n",
              "      <td id=\"T_82e41_row5_col15\" class=\"data row5 col15\" >0</td>\n",
              "      <td id=\"T_82e41_row5_col16\" class=\"data row5 col16\" >0</td>\n",
              "      <td id=\"T_82e41_row5_col17\" class=\"data row5 col17\" >0</td>\n",
              "    </tr>\n",
              "    <tr>\n",
              "      <th id=\"T_82e41_level0_row6\" class=\"row_heading level0 row6\" >6</th>\n",
              "      <td id=\"T_82e41_row6_col0\" class=\"data row6 col0\" >0</td>\n",
              "      <td id=\"T_82e41_row6_col1\" class=\"data row6 col1\" >0</td>\n",
              "      <td id=\"T_82e41_row6_col2\" class=\"data row6 col2\" >0</td>\n",
              "      <td id=\"T_82e41_row6_col3\" class=\"data row6 col3\" >0</td>\n",
              "      <td id=\"T_82e41_row6_col4\" class=\"data row6 col4\" >0</td>\n",
              "      <td id=\"T_82e41_row6_col5\" class=\"data row6 col5\" >0</td>\n",
              "      <td id=\"T_82e41_row6_col6\" class=\"data row6 col6\" >0</td>\n",
              "      <td id=\"T_82e41_row6_col7\" class=\"data row6 col7\" >0</td>\n",
              "      <td id=\"T_82e41_row6_col8\" class=\"data row6 col8\" >0</td>\n",
              "      <td id=\"T_82e41_row6_col9\" class=\"data row6 col9\" >0</td>\n",
              "      <td id=\"T_82e41_row6_col10\" class=\"data row6 col10\" >249</td>\n",
              "      <td id=\"T_82e41_row6_col11\" class=\"data row6 col11\" >253</td>\n",
              "      <td id=\"T_82e41_row6_col12\" class=\"data row6 col12\" >245</td>\n",
              "      <td id=\"T_82e41_row6_col13\" class=\"data row6 col13\" >126</td>\n",
              "      <td id=\"T_82e41_row6_col14\" class=\"data row6 col14\" >0</td>\n",
              "      <td id=\"T_82e41_row6_col15\" class=\"data row6 col15\" >0</td>\n",
              "      <td id=\"T_82e41_row6_col16\" class=\"data row6 col16\" >0</td>\n",
              "      <td id=\"T_82e41_row6_col17\" class=\"data row6 col17\" >0</td>\n",
              "    </tr>\n",
              "    <tr>\n",
              "      <th id=\"T_82e41_level0_row7\" class=\"row_heading level0 row7\" >7</th>\n",
              "      <td id=\"T_82e41_row7_col0\" class=\"data row7 col0\" >0</td>\n",
              "      <td id=\"T_82e41_row7_col1\" class=\"data row7 col1\" >0</td>\n",
              "      <td id=\"T_82e41_row7_col2\" class=\"data row7 col2\" >0</td>\n",
              "      <td id=\"T_82e41_row7_col3\" class=\"data row7 col3\" >0</td>\n",
              "      <td id=\"T_82e41_row7_col4\" class=\"data row7 col4\" >0</td>\n",
              "      <td id=\"T_82e41_row7_col5\" class=\"data row7 col5\" >0</td>\n",
              "      <td id=\"T_82e41_row7_col6\" class=\"data row7 col6\" >0</td>\n",
              "      <td id=\"T_82e41_row7_col7\" class=\"data row7 col7\" >14</td>\n",
              "      <td id=\"T_82e41_row7_col8\" class=\"data row7 col8\" >101</td>\n",
              "      <td id=\"T_82e41_row7_col9\" class=\"data row7 col9\" >223</td>\n",
              "      <td id=\"T_82e41_row7_col10\" class=\"data row7 col10\" >253</td>\n",
              "      <td id=\"T_82e41_row7_col11\" class=\"data row7 col11\" >248</td>\n",
              "      <td id=\"T_82e41_row7_col12\" class=\"data row7 col12\" >124</td>\n",
              "      <td id=\"T_82e41_row7_col13\" class=\"data row7 col13\" >0</td>\n",
              "      <td id=\"T_82e41_row7_col14\" class=\"data row7 col14\" >0</td>\n",
              "      <td id=\"T_82e41_row7_col15\" class=\"data row7 col15\" >0</td>\n",
              "      <td id=\"T_82e41_row7_col16\" class=\"data row7 col16\" >0</td>\n",
              "      <td id=\"T_82e41_row7_col17\" class=\"data row7 col17\" >0</td>\n",
              "    </tr>\n",
              "    <tr>\n",
              "      <th id=\"T_82e41_level0_row8\" class=\"row_heading level0 row8\" >8</th>\n",
              "      <td id=\"T_82e41_row8_col0\" class=\"data row8 col0\" >0</td>\n",
              "      <td id=\"T_82e41_row8_col1\" class=\"data row8 col1\" >0</td>\n",
              "      <td id=\"T_82e41_row8_col2\" class=\"data row8 col2\" >0</td>\n",
              "      <td id=\"T_82e41_row8_col3\" class=\"data row8 col3\" >0</td>\n",
              "      <td id=\"T_82e41_row8_col4\" class=\"data row8 col4\" >0</td>\n",
              "      <td id=\"T_82e41_row8_col5\" class=\"data row8 col5\" >11</td>\n",
              "      <td id=\"T_82e41_row8_col6\" class=\"data row8 col6\" >166</td>\n",
              "      <td id=\"T_82e41_row8_col7\" class=\"data row8 col7\" >239</td>\n",
              "      <td id=\"T_82e41_row8_col8\" class=\"data row8 col8\" >253</td>\n",
              "      <td id=\"T_82e41_row8_col9\" class=\"data row8 col9\" >253</td>\n",
              "      <td id=\"T_82e41_row8_col10\" class=\"data row8 col10\" >253</td>\n",
              "      <td id=\"T_82e41_row8_col11\" class=\"data row8 col11\" >187</td>\n",
              "      <td id=\"T_82e41_row8_col12\" class=\"data row8 col12\" >30</td>\n",
              "      <td id=\"T_82e41_row8_col13\" class=\"data row8 col13\" >0</td>\n",
              "      <td id=\"T_82e41_row8_col14\" class=\"data row8 col14\" >0</td>\n",
              "      <td id=\"T_82e41_row8_col15\" class=\"data row8 col15\" >0</td>\n",
              "      <td id=\"T_82e41_row8_col16\" class=\"data row8 col16\" >0</td>\n",
              "      <td id=\"T_82e41_row8_col17\" class=\"data row8 col17\" >0</td>\n",
              "    </tr>\n",
              "    <tr>\n",
              "      <th id=\"T_82e41_level0_row9\" class=\"row_heading level0 row9\" >9</th>\n",
              "      <td id=\"T_82e41_row9_col0\" class=\"data row9 col0\" >0</td>\n",
              "      <td id=\"T_82e41_row9_col1\" class=\"data row9 col1\" >0</td>\n",
              "      <td id=\"T_82e41_row9_col2\" class=\"data row9 col2\" >0</td>\n",
              "      <td id=\"T_82e41_row9_col3\" class=\"data row9 col3\" >0</td>\n",
              "      <td id=\"T_82e41_row9_col4\" class=\"data row9 col4\" >0</td>\n",
              "      <td id=\"T_82e41_row9_col5\" class=\"data row9 col5\" >16</td>\n",
              "      <td id=\"T_82e41_row9_col6\" class=\"data row9 col6\" >248</td>\n",
              "      <td id=\"T_82e41_row9_col7\" class=\"data row9 col7\" >250</td>\n",
              "      <td id=\"T_82e41_row9_col8\" class=\"data row9 col8\" >253</td>\n",
              "      <td id=\"T_82e41_row9_col9\" class=\"data row9 col9\" >253</td>\n",
              "      <td id=\"T_82e41_row9_col10\" class=\"data row9 col10\" >253</td>\n",
              "      <td id=\"T_82e41_row9_col11\" class=\"data row9 col11\" >253</td>\n",
              "      <td id=\"T_82e41_row9_col12\" class=\"data row9 col12\" >232</td>\n",
              "      <td id=\"T_82e41_row9_col13\" class=\"data row9 col13\" >213</td>\n",
              "      <td id=\"T_82e41_row9_col14\" class=\"data row9 col14\" >111</td>\n",
              "      <td id=\"T_82e41_row9_col15\" class=\"data row9 col15\" >2</td>\n",
              "      <td id=\"T_82e41_row9_col16\" class=\"data row9 col16\" >0</td>\n",
              "      <td id=\"T_82e41_row9_col17\" class=\"data row9 col17\" >0</td>\n",
              "    </tr>\n",
              "    <tr>\n",
              "      <th id=\"T_82e41_level0_row10\" class=\"row_heading level0 row10\" >10</th>\n",
              "      <td id=\"T_82e41_row10_col0\" class=\"data row10 col0\" >0</td>\n",
              "      <td id=\"T_82e41_row10_col1\" class=\"data row10 col1\" >0</td>\n",
              "      <td id=\"T_82e41_row10_col2\" class=\"data row10 col2\" >0</td>\n",
              "      <td id=\"T_82e41_row10_col3\" class=\"data row10 col3\" >0</td>\n",
              "      <td id=\"T_82e41_row10_col4\" class=\"data row10 col4\" >0</td>\n",
              "      <td id=\"T_82e41_row10_col5\" class=\"data row10 col5\" >0</td>\n",
              "      <td id=\"T_82e41_row10_col6\" class=\"data row10 col6\" >0</td>\n",
              "      <td id=\"T_82e41_row10_col7\" class=\"data row10 col7\" >43</td>\n",
              "      <td id=\"T_82e41_row10_col8\" class=\"data row10 col8\" >98</td>\n",
              "      <td id=\"T_82e41_row10_col9\" class=\"data row10 col9\" >98</td>\n",
              "      <td id=\"T_82e41_row10_col10\" class=\"data row10 col10\" >208</td>\n",
              "      <td id=\"T_82e41_row10_col11\" class=\"data row10 col11\" >253</td>\n",
              "      <td id=\"T_82e41_row10_col12\" class=\"data row10 col12\" >253</td>\n",
              "      <td id=\"T_82e41_row10_col13\" class=\"data row10 col13\" >253</td>\n",
              "      <td id=\"T_82e41_row10_col14\" class=\"data row10 col14\" >253</td>\n",
              "      <td id=\"T_82e41_row10_col15\" class=\"data row10 col15\" >187</td>\n",
              "      <td id=\"T_82e41_row10_col16\" class=\"data row10 col16\" >22</td>\n",
              "      <td id=\"T_82e41_row10_col17\" class=\"data row10 col17\" >0</td>\n",
              "    </tr>\n",
              "  </tbody>\n",
              "</table>\n"
            ]
          },
          "metadata": {},
          "execution_count": 18
        }
      ]
    },
    {
      "cell_type": "markdown",
      "source": [
        "#### 픽셀 유사성"
      ],
      "metadata": {
        "id": "aZRm9eOZsnFE"
      }
    },
    {
      "cell_type": "code",
      "source": [
        "# 텐서 목록으로 구성된 리스트 생성하기\n",
        "seven_tensors = [tensor(Image.open(o)) for o in sevens]\n",
        "three_tensors = [tensor(Image.open(o)) for o in threes]\n",
        "len(three_tensors), len(seven_tensors)"
      ],
      "metadata": {
        "colab": {
          "base_uri": "https://localhost:8080/"
        },
        "id": "76d_ZvWRsm9l",
        "outputId": "65d2517a-948c-4ad3-963c-afc996d33efe"
      },
      "execution_count": 19,
      "outputs": [
        {
          "output_type": "execute_result",
          "data": {
            "text/plain": [
              "(6131, 6265)"
            ]
          },
          "metadata": {},
          "execution_count": 19
        }
      ]
    },
    {
      "cell_type": "code",
      "source": [
        "# 텐서 형태 이미지 출력하기\n",
        "show_image(three_tensors[1]);"
      ],
      "metadata": {
        "colab": {
          "base_uri": "https://localhost:8080/",
          "height": 114
        },
        "id": "xe7KWlRrtUYo",
        "outputId": "11f9ac35-4696-464a-fd17-d5b478dbc768"
      },
      "execution_count": 20,
      "outputs": [
        {
          "output_type": "display_data",
          "data": {
            "text/plain": [
              "<Figure size 100x100 with 1 Axes>"
            ],
            "image/png": "[encoded data removed]"
          },
          "metadata": {}
        }
      ]
    },
    {
      "cell_type": "code",
      "source": [
        "# 3차원 텐서(rank-3 tensor)로 결합하기\n",
        "stacked_sevens = torch.stack(seven_tensors).float()/255\n",
        "stacked_threes = torch.stack(three_tensors).float()/255\n",
        "stacked_threes.shape"
      ],
      "metadata": {
        "colab": {
          "base_uri": "https://localhost:8080/"
        },
        "id": "zeCkiOFMtu_9",
        "outputId": "b9b3d09d-5ef7-4f4d-b1ef-b3617a57aacf"
      },
      "execution_count": 21,
      "outputs": [
        {
          "output_type": "execute_result",
          "data": {
            "text/plain": [
              "torch.Size([6131, 28, 28])"
            ]
          },
          "metadata": {},
          "execution_count": 21
        }
      ]
    },
    {
      "cell_type": "code",
      "source": [
        "# 랭크 확인하기\n",
        "len(stacked_threes.shape)"
      ],
      "metadata": {
        "colab": {
          "base_uri": "https://localhost:8080/"
        },
        "id": "UO0tyKB85Fyf",
        "outputId": "c4b5ed45-3c36-4dd7-e036-9a218c171474"
      },
      "execution_count": 22,
      "outputs": [
        {
          "output_type": "execute_result",
          "data": {
            "text/plain": [
              "3"
            ]
          },
          "metadata": {},
          "execution_count": 22
        }
      ]
    },
    {
      "cell_type": "code",
      "source": [
        "stacked_threes.ndim"
      ],
      "metadata": {
        "colab": {
          "base_uri": "https://localhost:8080/"
        },
        "id": "mrd2-k2J5dKj",
        "outputId": "f41b4123-bb54-46d4-c072-e5627665efce"
      },
      "execution_count": 23,
      "outputs": [
        {
          "output_type": "execute_result",
          "data": {
            "text/plain": [
              "3"
            ]
          },
          "metadata": {},
          "execution_count": 23
        }
      ]
    },
    {
      "cell_type": "code",
      "source": [
        "# 0번째 차원의 평균으로 모든 이미지 텐서의 평균 구하기\n",
        "# 0번째 차원 : 이미지를 색인함.\n",
        "mean3 = stacked_threes.mean(0)\n",
        "show_image(mean3);"
      ],
      "metadata": {
        "colab": {
          "base_uri": "https://localhost:8080/",
          "height": 114
        },
        "id": "q2i6JFWs5kLQ",
        "outputId": "bdae3113-efe5-4a17-c93c-52853310c8ad"
      },
      "execution_count": 24,
      "outputs": [
        {
          "output_type": "display_data",
          "data": {
            "text/plain": [
              "<Figure size 100x100 with 1 Axes>"
            ],
            "image/png": "[encoded data removed]"
          },
          "metadata": {}
        }
      ]
    },
    {
      "cell_type": "code",
      "source": [
        "mean7 = stacked_sevens.mean(0)\n",
        "show_image(mean7);"
      ],
      "metadata": {
        "colab": {
          "base_uri": "https://localhost:8080/",
          "height": 114
        },
        "id": "p2KvUJRR7M1B",
        "outputId": "81a43239-9379-4e5c-f45c-d66f368d22ec"
      },
      "execution_count": 25,
      "outputs": [
        {
          "output_type": "display_data",
          "data": {
            "text/plain": [
              "<Figure size 100x100 with 1 Axes>"
            ],
            "image/png": "[encoded data removed]"
          },
          "metadata": {}
        }
      ]
    },
    {
      "cell_type": "markdown",
      "source": [
        "#### 거리 유사성 측정하기"
      ],
      "metadata": {
        "id": "npycfhbJAf0c"
      }
    },
    {
      "cell_type": "code",
      "source": [
        "# 임의로 선택한 숫자3 샘플\n",
        "a_3 = stacked_threes[1]\n",
        "show_image(a_3);"
      ],
      "metadata": {
        "colab": {
          "base_uri": "https://localhost:8080/",
          "height": 114
        },
        "id": "XV8msYcZAfsZ",
        "outputId": "043fc4c0-61e2-4e50-ba59-9f2321aa6231"
      },
      "execution_count": 26,
      "outputs": [
        {
          "output_type": "display_data",
          "data": {
            "text/plain": [
              "<Figure size 100x100 with 1 Axes>"
            ],
            "image/png": "[encoded data removed]"
          },
          "metadata": {}
        }
      ]
    },
    {
      "cell_type": "code",
      "source": [
        "# RMSE, MAD 모두 시행해보기\n",
        "dist_3_abs = (a_3 - mean3).abs().mean()\n",
        "dist_3_sqr = ((a_3 - mean3)**2).mean().sqrt()\n",
        "dist_3_abs, dist_3_sqr"
      ],
      "metadata": {
        "colab": {
          "base_uri": "https://localhost:8080/"
        },
        "id": "tB3K_MZ9A67D",
        "outputId": "9fdd9105-955c-4310-b5ca-de59bc4da2b5"
      },
      "execution_count": 27,
      "outputs": [
        {
          "output_type": "execute_result",
          "data": {
            "text/plain": [
              "(tensor(0.1114), tensor(0.2021))"
            ]
          },
          "metadata": {},
          "execution_count": 27
        }
      ]
    },
    {
      "cell_type": "code",
      "source": [
        "dist_7_abs = (a_3 - mean7).abs().mean()\n",
        "dist_7_sqr = ((a_3 - mean7)**2).mean().sqrt()\n",
        "dist_7_abs, dist_7_sqr"
      ],
      "metadata": {
        "colab": {
          "base_uri": "https://localhost:8080/"
        },
        "id": "DDAxOiFgBVFg",
        "outputId": "22024481-df0b-49d2-a6fd-c7d84079cb80"
      },
      "execution_count": 28,
      "outputs": [
        {
          "output_type": "execute_result",
          "data": {
            "text/plain": [
              "(tensor(0.1586), tensor(0.3021))"
            ]
          },
          "metadata": {},
          "execution_count": 28
        }
      ]
    },
    {
      "cell_type": "code",
      "source": [
        "# 손실함수\n",
        "F.l1_loss(a_3.float(), mean7), F.mse_loss(a_3, mean7).sqrt()"
      ],
      "metadata": {
        "colab": {
          "base_uri": "https://localhost:8080/"
        },
        "id": "XUkbOKQsBrTr",
        "outputId": "6e6bf152-2344-41b3-c694-115b009c7a77"
      },
      "execution_count": 29,
      "outputs": [
        {
          "output_type": "execute_result",
          "data": {
            "text/plain": [
              "(tensor(0.1586), tensor(0.3021))"
            ]
          },
          "metadata": {},
          "execution_count": 29
        }
      ]
    },
    {
      "cell_type": "markdown",
      "source": [
        "#### 넘파이 배열과 파이토치 텐서"
      ],
      "metadata": {
        "id": "nhu3EnvWEOQN"
      }
    },
    {
      "cell_type": "code",
      "source": [
        "# 리스트로 배열/텐서 생성하기\n",
        "data = [[1,2,3],[4,5,6]]\n",
        "arr = array(data)\n",
        "tns = tensor(data)"
      ],
      "metadata": {
        "id": "cHkMY3yAEOFu"
      },
      "execution_count": 30,
      "outputs": []
    },
    {
      "cell_type": "code",
      "source": [
        "# 넘파이\n",
        "arr"
      ],
      "metadata": {
        "colab": {
          "base_uri": "https://localhost:8080/"
        },
        "id": "_5Y2v2SqFK6U",
        "outputId": "997d7bd1-2d1b-4da2-b53d-a1a240210eb4"
      },
      "execution_count": 31,
      "outputs": [
        {
          "output_type": "execute_result",
          "data": {
            "text/plain": [
              "array([[1, 2, 3],\n",
              "       [4, 5, 6]])"
            ]
          },
          "metadata": {},
          "execution_count": 31
        }
      ]
    },
    {
      "cell_type": "code",
      "source": [
        "# 파이토치\n",
        "tns"
      ],
      "metadata": {
        "colab": {
          "base_uri": "https://localhost:8080/"
        },
        "id": "ZoeoTZOlFNAA",
        "outputId": "c852c836-b520-435c-d6c6-6def47e9b882"
      },
      "execution_count": 32,
      "outputs": [
        {
          "output_type": "execute_result",
          "data": {
            "text/plain": [
              "tensor([[1, 2, 3],\n",
              "        [4, 5, 6]])"
            ]
          },
          "metadata": {},
          "execution_count": 32
        }
      ]
    },
    {
      "cell_type": "code",
      "source": [
        "tns[1]"
      ],
      "metadata": {
        "colab": {
          "base_uri": "https://localhost:8080/"
        },
        "id": "XVJbu3VkFQ4c",
        "outputId": "1ee586ba-dc96-4a10-fbad-1d38d60aa61c"
      },
      "execution_count": 33,
      "outputs": [
        {
          "output_type": "execute_result",
          "data": {
            "text/plain": [
              "tensor([4, 5, 6])"
            ]
          },
          "metadata": {},
          "execution_count": 33
        }
      ]
    },
    {
      "cell_type": "code",
      "source": [
        "tns[:,1]"
      ],
      "metadata": {
        "colab": {
          "base_uri": "https://localhost:8080/"
        },
        "id": "2J-Eyw14FVfe",
        "outputId": "01c619a6-a69d-44f6-bc48-14ca8a0fcbb1"
      },
      "execution_count": 34,
      "outputs": [
        {
          "output_type": "execute_result",
          "data": {
            "text/plain": [
              "tensor([2, 5])"
            ]
          },
          "metadata": {},
          "execution_count": 34
        }
      ]
    },
    {
      "cell_type": "code",
      "source": [
        "# 행/열의 일부분을 자유롭게 선택할 수 있음\n",
        "tns[1,1:3]"
      ],
      "metadata": {
        "colab": {
          "base_uri": "https://localhost:8080/"
        },
        "id": "oPTCOSIMFi-p",
        "outputId": "fed711d5-46f7-481a-8b4b-41c8d9034be4"
      },
      "execution_count": 35,
      "outputs": [
        {
          "output_type": "execute_result",
          "data": {
            "text/plain": [
              "tensor([5, 6])"
            ]
          },
          "metadata": {},
          "execution_count": 35
        }
      ]
    },
    {
      "cell_type": "code",
      "source": [
        "# 표준 연산자\n",
        "tns+1"
      ],
      "metadata": {
        "colab": {
          "base_uri": "https://localhost:8080/"
        },
        "id": "_3vdM0-dFroo",
        "outputId": "28b98414-affe-4fe0-9178-69bea74388a5"
      },
      "execution_count": 36,
      "outputs": [
        {
          "output_type": "execute_result",
          "data": {
            "text/plain": [
              "tensor([[2, 3, 4],\n",
              "        [5, 6, 7]])"
            ]
          },
          "metadata": {},
          "execution_count": 36
        }
      ]
    },
    {
      "cell_type": "code",
      "source": [
        "# 자료형 확인\n",
        "tns.type()"
      ],
      "metadata": {
        "colab": {
          "base_uri": "https://localhost:8080/",
          "height": 35
        },
        "id": "sMVclNfRFvTQ",
        "outputId": "9485ea56-0034-496d-ed08-3d3dab0fd204"
      },
      "execution_count": 37,
      "outputs": [
        {
          "output_type": "execute_result",
          "data": {
            "text/plain": [
              "'torch.LongTensor'"
            ],
            "application/vnd.google.colaboratory.intrinsic+json": {
              "type": "string"
            }
          },
          "metadata": {},
          "execution_count": 37
        }
      ]
    },
    {
      "cell_type": "code",
      "source": [
        "# 자료형 자동으로 바꾸기(정수>부동소수점)\n",
        "tns * 1.5"
      ],
      "metadata": {
        "colab": {
          "base_uri": "https://localhost:8080/"
        },
        "id": "38HguhLjFzwd",
        "outputId": "d756cd4d-eb00-402c-aaac-f5123528eb6e"
      },
      "execution_count": 38,
      "outputs": [
        {
          "output_type": "execute_result",
          "data": {
            "text/plain": [
              "tensor([[1.5000, 3.0000, 4.5000],\n",
              "        [6.0000, 7.5000, 9.0000]])"
            ]
          },
          "metadata": {},
          "execution_count": 38
        }
      ]
    },
    {
      "cell_type": "markdown",
      "source": [
        "### 브로드캐스팅으로 평가지표 계산하기\n",
        "- 브로드캐스팅 : 더 낮은 랭크의 텐서를 더 높은 텐서와 같은 크기로 자동 확장"
      ],
      "metadata": {
        "id": "SSjWVdqjF_BT"
      }
    },
    {
      "cell_type": "code",
      "source": [
        "valid_3_tens = torch.stack([tensor(Image.open(o)) for o in (path/'valid'/'3').ls()])\n",
        "valid_3_tens = valid_3_tens.float()/255\n",
        "valid_7_tens = torch.stack([tensor(Image.open(o)) for o in (path/'valid'/'7').ls()])\n",
        "valid_7_tens = valid_7_tens.float()/255\n",
        "# 크기(모양) 확인\n",
        "valid_3_tens.shape, valid_7_tens.shape"
      ],
      "metadata": {
        "colab": {
          "base_uri": "https://localhost:8080/"
        },
        "id": "Me3BYt2dF-y7",
        "outputId": "f52a0cc5-0722-4e84-cba8-e6a10e8e675a"
      },
      "execution_count": 39,
      "outputs": [
        {
          "output_type": "execute_result",
          "data": {
            "text/plain": [
              "(torch.Size([1010, 28, 28]), torch.Size([1028, 28, 28]))"
            ]
          },
          "metadata": {},
          "execution_count": 39
        }
      ]
    },
    {
      "cell_type": "code",
      "source": [
        "# 평균절대오차를 계산하는 함수 구현\n",
        "def mnist_distance(a,b) :\n",
        "  return (a-b).abs().mean((-1,-2))\n",
        "\n",
        "mnist_distance(a_3, mean3)"
      ],
      "metadata": {
        "colab": {
          "base_uri": "https://localhost:8080/"
        },
        "id": "ITq-f5dFhyU4",
        "outputId": "7acc0ca8-27ec-456a-c4b6-e5ccd80779cb"
      },
      "execution_count": 40,
      "outputs": [
        {
          "output_type": "execute_result",
          "data": {
            "text/plain": [
              "tensor(0.1114)"
            ]
          },
          "metadata": {},
          "execution_count": 40
        }
      ]
    },
    {
      "cell_type": "code",
      "source": [
        "# 검증용 데이터셋 모두에 대해 거리 적용하기\n",
        "valid_3_dist = mnist_distance(valid_3_tens, mean3)\n",
        "valid_3_dist, valid_3_dist.shape"
      ],
      "metadata": {
        "colab": {
          "base_uri": "https://localhost:8080/"
        },
        "id": "EUmfn3RyjXto",
        "outputId": "222a9979-cb54-4589-9575-633c5a946670"
      },
      "execution_count": 41,
      "outputs": [
        {
          "output_type": "execute_result",
          "data": {
            "text/plain": [
              "(tensor([0.1590, 0.1102, 0.1366,  ..., 0.1344, 0.1599, 0.1160]),\n",
              " torch.Size([1010]))"
            ]
          },
          "metadata": {},
          "execution_count": 41
        }
      ]
    },
    {
      "cell_type": "code",
      "source": [
        "# 브로드캐스팅 예시\n",
        "tensor([1,2,3]) + tensor(1)"
      ],
      "metadata": {
        "colab": {
          "base_uri": "https://localhost:8080/"
        },
        "id": "fapLAvDKj32F",
        "outputId": "11a5a0dc-5f8f-4d03-9447-c6a6ca13fb4c"
      },
      "execution_count": 42,
      "outputs": [
        {
          "output_type": "execute_result",
          "data": {
            "text/plain": [
              "tensor([2, 3, 4])"
            ]
          },
          "metadata": {},
          "execution_count": 42
        }
      ]
    },
    {
      "cell_type": "code",
      "source": [
        "(valid_3_tens-mean3).shape"
      ],
      "metadata": {
        "colab": {
          "base_uri": "https://localhost:8080/"
        },
        "id": "nBSTrUVFk7KQ",
        "outputId": "c8fb95a5-a447-4c6e-f9fe-3cdcb5f5a7c2"
      },
      "execution_count": 43,
      "outputs": [
        {
          "output_type": "execute_result",
          "data": {
            "text/plain": [
              "torch.Size([1010, 28, 28])"
            ]
          },
          "metadata": {},
          "execution_count": 43
        }
      ]
    },
    {
      "cell_type": "code",
      "source": [
        "# is_3() 구현하기\n",
        "def is_3(x) :\n",
        "  return mnist_distance(x, mean3) < mnist_distance(x, mean7)"
      ],
      "metadata": {
        "id": "dxxTFWk_lvIl"
      },
      "execution_count": 44,
      "outputs": []
    },
    {
      "cell_type": "code",
      "source": [
        "# 실험해보기\n",
        "is_3(a_3), is_3(a_3).float()"
      ],
      "metadata": {
        "colab": {
          "base_uri": "https://localhost:8080/"
        },
        "id": "jvzhAZJBl8k7",
        "outputId": "adaaeb88-c642-4af6-f538-541d4a6dcf5e"
      },
      "execution_count": 45,
      "outputs": [
        {
          "output_type": "execute_result",
          "data": {
            "text/plain": [
              "(tensor(True), tensor(1.))"
            ]
          },
          "metadata": {},
          "execution_count": 45
        }
      ]
    },
    {
      "cell_type": "code",
      "source": [
        "# 검증용 데이터셋에서 실험\n",
        "is_3(valid_3_tens)"
      ],
      "metadata": {
        "colab": {
          "base_uri": "https://localhost:8080/"
        },
        "id": "BSy0gCkCmHvC",
        "outputId": "466a5ad3-a7eb-42d4-f49b-8b2b432dba86"
      },
      "execution_count": 46,
      "outputs": [
        {
          "output_type": "execute_result",
          "data": {
            "text/plain": [
              "tensor([ True,  True,  True,  ...,  True, False,  True])"
            ]
          },
          "metadata": {},
          "execution_count": 46
        }
      ]
    },
    {
      "cell_type": "code",
      "source": [
        "# 정확도 계산하기\n",
        "accuracy_3s = is_3(valid_3_tens).float().mean()\n",
        "accuracy_7s = (1 - is_3(valid_7_tens).float()).mean()\n",
        "\n",
        "accuracy_3s, accuracy_7s, (accuracy_3s+accuracy_7s)/2"
      ],
      "metadata": {
        "colab": {
          "base_uri": "https://localhost:8080/"
        },
        "id": "7Sp-DAc2owb3",
        "outputId": "d4594dac-16f4-48eb-b9ba-84fe55693311"
      },
      "execution_count": 47,
      "outputs": [
        {
          "output_type": "execute_result",
          "data": {
            "text/plain": [
              "(tensor(0.9168), tensor(0.9854), tensor(0.9511))"
            ]
          },
          "metadata": {},
          "execution_count": 47
        }
      ]
    },
    {
      "cell_type": "markdown",
      "source": [
        "### 확률적 경사 하강법"
      ],
      "metadata": {
        "id": "I27z4b2tpVdC"
      }
    },
    {
      "cell_type": "code",
      "source": [
        "# 숫자 3이 될 확률\n",
        "def pr_three(x,w) :\n",
        "  return (x*w).sum()"
      ],
      "metadata": {
        "id": "pGYyfEZJpUAk"
      },
      "execution_count": 48,
      "outputs": []
    },
    {
      "cell_type": "markdown",
      "source": [
        "#### 간단한 예시"
      ],
      "metadata": {
        "id": "kl6WurpZskil"
      }
    },
    {
      "cell_type": "code",
      "source": [
        "# 2차 함수 정의\n",
        "def f(x) :\n",
        "  return x**2"
      ],
      "metadata": {
        "id": "JsJ2k9rSsh6P"
      },
      "execution_count": 49,
      "outputs": []
    },
    {
      "cell_type": "code",
      "source": [
        "# 그래프 그리기\n",
        "plot_function(f, 'x', 'x**2')"
      ],
      "metadata": {
        "colab": {
          "base_uri": "https://localhost:8080/",
          "height": 396
        },
        "id": "tLjJG729srCB",
        "outputId": "871ce428-b48f-40d3-b2ce-ea62fbeace76"
      },
      "execution_count": 50,
      "outputs": [
        {
          "output_type": "display_data",
          "data": {
            "text/plain": [
              "<Figure size 600x400 with 1 Axes>"
            ],
            "image/png": "[encoded data removed]"
          },
          "metadata": {}
        }
      ]
    },
    {
      "cell_type": "code",
      "source": [
        "# 임의의 파라미터 값을 선택하고 손실값을 계산\n",
        "plot_function(f, 'x', 'x**2')\n",
        "plt.scatter(-1.5, f(-1.5), color='red');"
      ],
      "metadata": {
        "colab": {
          "base_uri": "https://localhost:8080/",
          "height": 396
        },
        "id": "DxHtwLW4sxh0",
        "outputId": "a5a2ecb8-c9a8-4a1d-bf98-0e842e8549c8"
      },
      "execution_count": 51,
      "outputs": [
        {
          "output_type": "display_data",
          "data": {
            "text/plain": [
              "<Figure size 600x400 with 1 Axes>"
            ],
            "image/png": "[encoded data removed]"
          },
          "metadata": {}
        }
      ]
    },
    {
      "cell_type": "markdown",
      "source": [
        "#### 파이토치 자동미분"
      ],
      "metadata": {
        "id": "FK07DIS_zYJ8"
      }
    },
    {
      "cell_type": "code",
      "source": [
        "xt = tensor(3.).requires_grad_()"
      ],
      "metadata": {
        "id": "OWmadsAdzYB6"
      },
      "execution_count": 52,
      "outputs": []
    },
    {
      "cell_type": "code",
      "source": [
        "yt = f(xt)\n",
        "yt"
      ],
      "metadata": {
        "colab": {
          "base_uri": "https://localhost:8080/"
        },
        "id": "vSO5fX1A0wir",
        "outputId": "db13f254-7563-4645-bed4-645ca1361c45"
      },
      "execution_count": 53,
      "outputs": [
        {
          "output_type": "execute_result",
          "data": {
            "text/plain": [
              "tensor(9., grad_fn=<PowBackward0>)"
            ]
          },
          "metadata": {},
          "execution_count": 53
        }
      ]
    },
    {
      "cell_type": "code",
      "source": [
        "# 그레디언트 계산\n",
        "yt.backward()"
      ],
      "metadata": {
        "id": "p-J5Qiw0010i"
      },
      "execution_count": 54,
      "outputs": []
    },
    {
      "cell_type": "code",
      "source": [
        "# 계산된 그레디언트 확인\n",
        "xt.grad"
      ],
      "metadata": {
        "colab": {
          "base_uri": "https://localhost:8080/"
        },
        "id": "sfLiucSW0_pN",
        "outputId": "a9680a75-5acf-42c9-b590-4df87620cdad"
      },
      "execution_count": 55,
      "outputs": [
        {
          "output_type": "execute_result",
          "data": {
            "text/plain": [
              "tensor(6.)"
            ]
          },
          "metadata": {},
          "execution_count": 55
        }
      ]
    },
    {
      "cell_type": "code",
      "source": [
        "# 벡터를 입력해서 그레디언트 구하기\n",
        "xt = tensor([3.,4.,10.]).requires_grad_()\n",
        "xt"
      ],
      "metadata": {
        "colab": {
          "base_uri": "https://localhost:8080/"
        },
        "id": "fyeHWfNn1JtY",
        "outputId": "80683c2a-8526-4703-9db9-ae2b17f58bee"
      },
      "execution_count": 56,
      "outputs": [
        {
          "output_type": "execute_result",
          "data": {
            "text/plain": [
              "tensor([ 3.,  4., 10.], requires_grad=True)"
            ]
          },
          "metadata": {},
          "execution_count": 56
        }
      ]
    },
    {
      "cell_type": "code",
      "source": [
        "# 벡터가 입력되었을 때 스칼라값을 출력하는 함수\n",
        "def f(x) :\n",
        "  return (x**2).sum()"
      ],
      "metadata": {
        "id": "xZbNpGz55SYh"
      },
      "execution_count": 57,
      "outputs": []
    },
    {
      "cell_type": "code",
      "source": [
        "yt = f(xt)\n",
        "yt"
      ],
      "metadata": {
        "colab": {
          "base_uri": "https://localhost:8080/"
        },
        "id": "aEVc58io5hPU",
        "outputId": "75b39e40-11c3-44e3-ab1a-0279dd08a9d1"
      },
      "execution_count": 58,
      "outputs": [
        {
          "output_type": "execute_result",
          "data": {
            "text/plain": [
              "tensor(125., grad_fn=<SumBackward0>)"
            ]
          },
          "metadata": {},
          "execution_count": 58
        }
      ]
    },
    {
      "cell_type": "code",
      "source": [
        "# 그레디언트 구하기\n",
        "yt.backward()\n",
        "xt.grad"
      ],
      "metadata": {
        "colab": {
          "base_uri": "https://localhost:8080/"
        },
        "id": "3-krSPgL5zTr",
        "outputId": "82f395ec-556d-4fba-9d52-3319cc616861"
      },
      "execution_count": 59,
      "outputs": [
        {
          "output_type": "execute_result",
          "data": {
            "text/plain": [
              "tensor([ 6.,  8., 20.])"
            ]
          },
          "metadata": {},
          "execution_count": 59
        }
      ]
    },
    {
      "cell_type": "markdown",
      "source": [
        "#### SGD를 활용해보기"
      ],
      "metadata": {
        "id": "O_qNU2-N6GW1"
      }
    },
    {
      "cell_type": "code",
      "source": [
        "# 20초 동안 매초에 수작업으로 속력을 측정\n",
        "time = torch.arange(0,20).float();\n",
        "time"
      ],
      "metadata": {
        "colab": {
          "base_uri": "https://localhost:8080/"
        },
        "id": "TguKgodD6GQu",
        "outputId": "cac5d5ef-a865-4393-fa39-818c60e398dd"
      },
      "execution_count": 60,
      "outputs": [
        {
          "output_type": "execute_result",
          "data": {
            "text/plain": [
              "tensor([ 0.,  1.,  2.,  3.,  4.,  5.,  6.,  7.,  8.,  9., 10., 11., 12., 13., 14., 15., 16., 17., 18., 19.])"
            ]
          },
          "metadata": {},
          "execution_count": 60
        }
      ]
    },
    {
      "cell_type": "code",
      "source": [
        "# 임의의 노이즈 추가\n",
        "speed = torch.randn(20) * 3 + 0.75 * (time-9.5)**2 + 1\n",
        "plt.scatter(time, speed);"
      ],
      "metadata": {
        "colab": {
          "base_uri": "https://localhost:8080/",
          "height": 434
        },
        "id": "nUZcbxxZbKlf",
        "outputId": "83f3ab51-d0a6-4120-f5b9-b31e1f007d0c"
      },
      "execution_count": 61,
      "outputs": [
        {
          "output_type": "display_data",
          "data": {
            "text/plain": [
              "<Figure size 640x480 with 1 Axes>"
            ],
            "image/png": "[encoded data removed]"
          },
          "metadata": {}
        }
      ]
    },
    {
      "cell_type": "code",
      "source": [
        "# 모든 파라미터는 하나의 함수 인자로 담기\n",
        "def f(t, params) :\n",
        "  a,b,c = params\n",
        "  return a*(t**2) + (b*t) + c"
      ],
      "metadata": {
        "id": "0rI2FfkJba3C"
      },
      "execution_count": 62,
      "outputs": []
    },
    {
      "cell_type": "code",
      "source": [
        "# 손실 함수 정의\n",
        "def mse(preds, targets) :\n",
        "  return ((preds-targets)**2).mean().sqrt()"
      ],
      "metadata": {
        "id": "Shsfw4yFdkzx"
      },
      "execution_count": 63,
      "outputs": []
    },
    {
      "cell_type": "markdown",
      "source": [
        "##### 1. 파라미터 초기화"
      ],
      "metadata": {
        "id": "yaa4cUbJduRE"
      }
    },
    {
      "cell_type": "code",
      "source": [
        "params = torch.randn(3).requires_grad_()"
      ],
      "metadata": {
        "id": "SO3Y8jCMduHd"
      },
      "execution_count": 64,
      "outputs": []
    },
    {
      "cell_type": "markdown",
      "source": [
        "##### 2. 예측 계산"
      ],
      "metadata": {
        "id": "ZcdKpUmgd_s7"
      }
    },
    {
      "cell_type": "code",
      "source": [
        "preds = f(time, params)"
      ],
      "metadata": {
        "id": "3YI8-yOTdyHN"
      },
      "execution_count": 65,
      "outputs": []
    },
    {
      "cell_type": "code",
      "source": [
        "# 예측과 실제 타깃의 유사도를 그래프로 그리는 함수\n",
        "def show_preds(preds, ax=None) :\n",
        "  if ax is None :\n",
        "    ax=plt.subplots()[1]\n",
        "  ax.scatter(time, speed)\n",
        "  ax.scatter(time, to_np(preds), color='red')\n",
        "  ax.set_ylim(-300,100)"
      ],
      "metadata": {
        "id": "dC4Y4pKXeJh-"
      },
      "execution_count": 66,
      "outputs": []
    },
    {
      "cell_type": "code",
      "source": [
        "show_preds(preds)"
      ],
      "metadata": {
        "colab": {
          "base_uri": "https://localhost:8080/",
          "height": 441
        },
        "id": "wB9Hvl7SeXxS",
        "outputId": "f67cd83c-72a9-4000-ee84-b01678abbce7"
      },
      "execution_count": 67,
      "outputs": [
        {
          "output_type": "display_data",
          "data": {
            "text/plain": [
              "<Figure size 640x480 with 1 Axes>"
            ],
            "image/png": "[encoded data removed]"
          },
          "metadata": {}
        }
      ]
    },
    {
      "cell_type": "markdown",
      "source": [
        "##### 3. 손실 계산"
      ],
      "metadata": {
        "id": "6q71jpMrkQDM"
      }
    },
    {
      "cell_type": "code",
      "source": [
        "loss = mse(preds, speed)\n",
        "loss"
      ],
      "metadata": {
        "colab": {
          "base_uri": "https://localhost:8080/"
        },
        "id": "tyjrqwv5kP8L",
        "outputId": "5d8b0cd1-e0b1-42dd-801b-c4a6b4b562e0"
      },
      "execution_count": 68,
      "outputs": [
        {
          "output_type": "execute_result",
          "data": {
            "text/plain": [
              "tensor(160.6979, grad_fn=<SqrtBackward0>)"
            ]
          },
          "metadata": {},
          "execution_count": 68
        }
      ]
    },
    {
      "cell_type": "markdown",
      "source": [
        "##### 4. 그레디언트 계산"
      ],
      "metadata": {
        "id": "j6QFkFWNklJE"
      }
    },
    {
      "cell_type": "code",
      "source": [
        "loss.backward()\n",
        "params.grad"
      ],
      "metadata": {
        "colab": {
          "base_uri": "https://localhost:8080/"
        },
        "id": "fvZj9SoyklBq",
        "outputId": "a112d608-ac76-499d-ba83-711e4192d24d"
      },
      "execution_count": 69,
      "outputs": [
        {
          "output_type": "execute_result",
          "data": {
            "text/plain": [
              "tensor([-165.5151,  -10.6402,   -0.7900])"
            ]
          },
          "metadata": {},
          "execution_count": 69
        }
      ]
    },
    {
      "cell_type": "code",
      "source": [
        "# 학습률 적용 : 계산된 그레디언트로 파라미터 개선\n",
        "params.grad * 1e-5"
      ],
      "metadata": {
        "colab": {
          "base_uri": "https://localhost:8080/"
        },
        "id": "mdxz1LveksTh",
        "outputId": "ea89dd91-c7a3-4082-d31d-8ebec7ca5482"
      },
      "execution_count": 70,
      "outputs": [
        {
          "output_type": "execute_result",
          "data": {
            "text/plain": [
              "tensor([-1.6552e-03, -1.0640e-04, -7.8996e-06])"
            ]
          },
          "metadata": {},
          "execution_count": 70
        }
      ]
    },
    {
      "cell_type": "code",
      "source": [
        "params"
      ],
      "metadata": {
        "colab": {
          "base_uri": "https://localhost:8080/"
        },
        "id": "GEGIrucFk5sw",
        "outputId": "ffd7efae-b4f0-42dd-b47e-11f507517275"
      },
      "execution_count": 71,
      "outputs": [
        {
          "output_type": "execute_result",
          "data": {
            "text/plain": [
              "tensor([-0.7658, -0.7506,  1.3525], requires_grad=True)"
            ]
          },
          "metadata": {},
          "execution_count": 71
        }
      ]
    },
    {
      "cell_type": "markdown",
      "source": [
        "##### 5. 가중치를 한 단계 계산하기"
      ],
      "metadata": {
        "id": "BrXzvefJlJKX"
      }
    },
    {
      "cell_type": "code",
      "source": [
        "lr = 1e-5\n",
        "params.data -= lr * params.grad.data\n",
        "params.grad = None"
      ],
      "metadata": {
        "id": "vzgO7W5yk9P4"
      },
      "execution_count": 72,
      "outputs": []
    },
    {
      "cell_type": "code",
      "source": [
        "# 손실 개선 확인하기\n",
        "preds = f(time, params)\n",
        "mse(preds, speed)"
      ],
      "metadata": {
        "colab": {
          "base_uri": "https://localhost:8080/"
        },
        "id": "6dJH3ofrmVbl",
        "outputId": "58f24145-cd21-4a76-f6ef-abcee7d9e718"
      },
      "execution_count": 73,
      "outputs": [
        {
          "output_type": "execute_result",
          "data": {
            "text/plain": [
              "tensor(160.4228, grad_fn=<SqrtBackward0>)"
            ]
          },
          "metadata": {},
          "execution_count": 73
        }
      ]
    },
    {
      "cell_type": "code",
      "source": [
        "show_preds(preds)"
      ],
      "metadata": {
        "colab": {
          "base_uri": "https://localhost:8080/",
          "height": 441
        },
        "id": "BoZ7csgdmen5",
        "outputId": "a8572a21-2d2f-4c4d-85d3-13b11a1a0296"
      },
      "execution_count": 74,
      "outputs": [
        {
          "output_type": "display_data",
          "data": {
            "text/plain": [
              "<Figure size 640x480 with 1 Axes>"
            ],
            "image/png": "[encoded data removed]"
          },
          "metadata": {}
        }
      ]
    },
    {
      "cell_type": "code",
      "source": [
        "# 모든 과정을 담은 함수 만들기\n",
        "def apply_step(params, prn=True) :\n",
        "  preds = f(time, params)\n",
        "  loss = mse(preds, speed)\n",
        "  loss.backward()\n",
        "  params.data -= params.grad.data\n",
        "  params.grad = None\n",
        "  if prn :\n",
        "    print(loss.item())\n",
        "  return preds"
      ],
      "metadata": {
        "id": "BI44rCr6m0Ca"
      },
      "execution_count": 75,
      "outputs": []
    },
    {
      "cell_type": "markdown",
      "source": [
        "##### 6. 과정 반복하기"
      ],
      "metadata": {
        "id": "pOZxADZbnUGw"
      }
    },
    {
      "cell_type": "code",
      "source": [
        "for i in range(10) :\n",
        "  apply_step(params)"
      ],
      "metadata": {
        "colab": {
          "base_uri": "https://localhost:8080/"
        },
        "id": "nbrACaiPnT_a",
        "outputId": "a7646552-6192-401b-c6b9-8df0968c765c"
      },
      "execution_count": 76,
      "outputs": [
        {
          "output_type": "stream",
          "name": "stdout",
          "text": [
            "160.42279052734375\n",
            "27717.353515625\n",
            "532.9634399414062\n",
            "27683.748046875\n",
            "566.5306396484375\n",
            "27654.02734375\n",
            "596.2177124023438\n",
            "27627.21484375\n",
            "623.0078735351562\n",
            "27602.669921875\n"
          ]
        }
      ]
    },
    {
      "cell_type": "code",
      "source": [
        "# 시각화\n",
        "_, axs = plt.subplots(1,4, figsize=(12,3))\n",
        "for ax in axs :\n",
        "  show_preds(apply_step(params, False), ax)\n",
        "plt.tight_layout()"
      ],
      "metadata": {
        "colab": {
          "base_uri": "https://localhost:8080/",
          "height": 300
        },
        "id": "5efUO8vApAw2",
        "outputId": "c0d21a15-0744-4f4f-ad73-6d967f123e20"
      },
      "execution_count": 77,
      "outputs": [
        {
          "output_type": "display_data",
          "data": {
            "text/plain": [
              "<Figure size 1200x300 with 4 Axes>"
            ],
            "image/png": "[encoded data removed]"
          },
          "metadata": {}
        }
      ]
    },
    {
      "cell_type": "markdown",
      "source": [
        "### MNIST 손실함수"
      ],
      "metadata": {
        "id": "ofQbCB9sp0T1"
      }
    },
    {
      "cell_type": "code",
      "source": [
        "train_x = torch.cat([stacked_threes, stacked_sevens]).view(-1, 28*28)"
      ],
      "metadata": {
        "id": "4CsX2jVKp0Mv"
      },
      "execution_count": 78,
      "outputs": []
    },
    {
      "cell_type": "code",
      "source": [
        "# 각 이미지의 레이블(3:1, 7:0)\n",
        "train_y = tensor([1]*len(threes) + [0]*len(sevens)).unsqueeze(1)\n",
        "train_x.shape, train_y.shape"
      ],
      "metadata": {
        "colab": {
          "base_uri": "https://localhost:8080/"
        },
        "id": "fMTjiR0stbCj",
        "outputId": "092e5180-310d-4772-f1e8-d3b5c57f0183"
      },
      "execution_count": 79,
      "outputs": [
        {
          "output_type": "execute_result",
          "data": {
            "text/plain": [
              "(torch.Size([12396, 784]), torch.Size([12396, 1]))"
            ]
          },
          "metadata": {},
          "execution_count": 79
        }
      ]
    },
    {
      "cell_type": "code",
      "source": [
        "# zip()함수를 list와 함께 사용하면 튜플을 간단히 구성할 수 있음.\n",
        "dset = list(zip(train_x, train_y))\n",
        "x, y = dset[0]\n",
        "x.shape, y"
      ],
      "metadata": {
        "colab": {
          "base_uri": "https://localhost:8080/"
        },
        "id": "GO6XEvK7t6CT",
        "outputId": "b58c3e72-15f8-44e0-f159-f326eb272ab7"
      },
      "execution_count": 80,
      "outputs": [
        {
          "output_type": "execute_result",
          "data": {
            "text/plain": [
              "(torch.Size([784]), tensor([1]))"
            ]
          },
          "metadata": {},
          "execution_count": 80
        }
      ]
    },
    {
      "cell_type": "code",
      "source": [
        "# 검증용 데이터\n",
        "valid_x = torch.cat([valid_3_tens, valid_7_tens]).view(-1, 28*28)\n",
        "valid_y = tensor([1]*len(valid_3_tens) + [0]*len(valid_7_tens)).unsqueeze(1)\n",
        "valid_x.shape, valid_y.shape"
      ],
      "metadata": {
        "colab": {
          "base_uri": "https://localhost:8080/"
        },
        "id": "imwA9qSbuy6V",
        "outputId": "e7728eff-b0ef-4c47-c717-5ee3444c06dd"
      },
      "execution_count": 81,
      "outputs": [
        {
          "output_type": "execute_result",
          "data": {
            "text/plain": [
              "(torch.Size([2038, 784]), torch.Size([2038, 1]))"
            ]
          },
          "metadata": {},
          "execution_count": 81
        }
      ]
    },
    {
      "cell_type": "code",
      "source": [
        "valid_dset = list(zip(valid_x, valid_y))"
      ],
      "metadata": {
        "id": "O2upVNQ2vxP4"
      },
      "execution_count": 82,
      "outputs": []
    },
    {
      "cell_type": "code",
      "source": [
        "# 각 픽셀에 임의로 초기화된 가중치가 필요함\n",
        "def init_params(size, std=1.0) :\n",
        "  return (torch.randn(size)*std).requires_grad_()\n",
        "\n",
        "weights = init_params((28*28,1))"
      ],
      "metadata": {
        "id": "6wdNeMOiv5O4"
      },
      "execution_count": 83,
      "outputs": []
    },
    {
      "cell_type": "code",
      "source": [
        "# 편향(b)초기화\n",
        "bias = init_params(1)"
      ],
      "metadata": {
        "id": "HT_LuDIvwWro"
      },
      "execution_count": 84,
      "outputs": []
    },
    {
      "cell_type": "code",
      "source": [
        "# 단일 이미지에 대한 예측\n",
        "(train_x[0]*weights.T).sum() + bias"
      ],
      "metadata": {
        "colab": {
          "base_uri": "https://localhost:8080/"
        },
        "id": "mVlcDq40zQ_x",
        "outputId": "2d16d9e4-09f6-4fbe-ceaf-ff7f76674423"
      },
      "execution_count": 85,
      "outputs": [
        {
          "output_type": "execute_result",
          "data": {
            "text/plain": [
              "tensor([20.2336], grad_fn=<AddBackward0>)"
            ]
          },
          "metadata": {},
          "execution_count": 85
        }
      ]
    },
    {
      "cell_type": "code",
      "source": [
        "# 행렬곱셈 시행\n",
        "def linear1(xb) :\n",
        "  return xb@weights + bias\n",
        "\n",
        "preds = linear1(train_x)\n",
        "preds"
      ],
      "metadata": {
        "colab": {
          "base_uri": "https://localhost:8080/"
        },
        "id": "vBw_v1yfzU3h",
        "outputId": "350c4173-937d-4331-9ebd-c51040a3229c"
      },
      "execution_count": 86,
      "outputs": [
        {
          "output_type": "execute_result",
          "data": {
            "text/plain": [
              "tensor([[20.2336],\n",
              "        [17.0644],\n",
              "        [15.2384],\n",
              "        ...,\n",
              "        [18.3804],\n",
              "        [23.8567],\n",
              "        [28.6816]], grad_fn=<AddBackward0>)"
            ]
          },
          "metadata": {},
          "execution_count": 86
        }
      ]
    },
    {
      "cell_type": "code",
      "source": [
        "# 정확도 검사\n",
        "corrects = (preds>0.5).float() == train_y\n",
        "corrects"
      ],
      "metadata": {
        "colab": {
          "base_uri": "https://localhost:8080/"
        },
        "id": "J_Z3j87u0NXI",
        "outputId": "8805ee25-1a0a-477d-a05d-8e5fcc8ac4b3"
      },
      "execution_count": 87,
      "outputs": [
        {
          "output_type": "execute_result",
          "data": {
            "text/plain": [
              "tensor([[ True],\n",
              "        [ True],\n",
              "        [ True],\n",
              "        ...,\n",
              "        [False],\n",
              "        [False],\n",
              "        [False]])"
            ]
          },
          "metadata": {},
          "execution_count": 87
        }
      ]
    },
    {
      "cell_type": "code",
      "source": [
        "corrects.float().mean().item()"
      ],
      "metadata": {
        "colab": {
          "base_uri": "https://localhost:8080/"
        },
        "id": "sQFBZP430ZAy",
        "outputId": "ff286c29-e89a-45f5-fbeb-a613d75d540b"
      },
      "execution_count": 88,
      "outputs": [
        {
          "output_type": "execute_result",
          "data": {
            "text/plain": [
              "0.49080348014831543"
            ]
          },
          "metadata": {},
          "execution_count": 88
        }
      ]
    },
    {
      "cell_type": "code",
      "source": [
        "# 가중치의 변화\n",
        "# 기울기 계산을 비활성화한 후 가중치 업데이트\n",
        "with torch.no_grad() :\n",
        "  weights[0] *= 1.0001"
      ],
      "metadata": {
        "id": "OMyygCnS00aW"
      },
      "execution_count": 89,
      "outputs": []
    },
    {
      "cell_type": "code",
      "source": [
        "preds = linear1(train_x)\n",
        "((preds>0.5).float() == train_y).float().mean().item()"
      ],
      "metadata": {
        "colab": {
          "base_uri": "https://localhost:8080/"
        },
        "id": "NmO4rO9X278m",
        "outputId": "abbd0094-bcb6-476e-ad97-e2c5b39a76f7"
      },
      "execution_count": 90,
      "outputs": [
        {
          "output_type": "execute_result",
          "data": {
            "text/plain": [
              "0.49080348014831543"
            ]
          },
          "metadata": {},
          "execution_count": 90
        }
      ]
    },
    {
      "cell_type": "code",
      "source": [
        "# 손실함수 입력값\n",
        "trgts = tensor([1,0,1])\n",
        "prds = tensor([0.9,0.4,0.2])"
      ],
      "metadata": {
        "id": "XuxRi_Yo_SEJ"
      },
      "execution_count": 91,
      "outputs": []
    },
    {
      "cell_type": "code",
      "source": [
        "# 예측값-실제값 사이 거리 측정하는 함수\n",
        "def mnist_loss(predictions, targets) :\n",
        "  return torch.where(targets==1, 1-predictions, predictions).mean()"
      ],
      "metadata": {
        "id": "tnUJy1us_b9D"
      },
      "execution_count": 92,
      "outputs": []
    },
    {
      "cell_type": "code",
      "source": [
        "torch.where(trgts==1, 1-prds, prds)"
      ],
      "metadata": {
        "colab": {
          "base_uri": "https://localhost:8080/"
        },
        "id": "8SVdCsJ9Cahp",
        "outputId": "ab2c44fc-cdce-4ff8-d352-648cbf250731"
      },
      "execution_count": 93,
      "outputs": [
        {
          "output_type": "execute_result",
          "data": {
            "text/plain": [
              "tensor([0.1000, 0.4000, 0.8000])"
            ]
          },
          "metadata": {},
          "execution_count": 93
        }
      ]
    },
    {
      "cell_type": "code",
      "source": [
        "mnist_loss(prds, trgts)"
      ],
      "metadata": {
        "colab": {
          "base_uri": "https://localhost:8080/"
        },
        "id": "20QMquq1CqIp",
        "outputId": "2ab2f605-950f-45a4-8dac-56a6af46ef55"
      },
      "execution_count": 94,
      "outputs": [
        {
          "output_type": "execute_result",
          "data": {
            "text/plain": [
              "tensor(0.4333)"
            ]
          },
          "metadata": {},
          "execution_count": 94
        }
      ]
    },
    {
      "cell_type": "code",
      "source": [
        "# 거짓 타겟 예측을 0.8로 바꿔보기\n",
        "mnist_loss(tensor([0.9,0.4,0.8]), trgts)"
      ],
      "metadata": {
        "colab": {
          "base_uri": "https://localhost:8080/"
        },
        "id": "XPAr-QCGFuiV",
        "outputId": "52cc0817-acdb-43ae-c433-9cd70488da37"
      },
      "execution_count": 95,
      "outputs": [
        {
          "output_type": "execute_result",
          "data": {
            "text/plain": [
              "tensor(0.2333)"
            ]
          },
          "metadata": {},
          "execution_count": 95
        }
      ]
    },
    {
      "cell_type": "markdown",
      "source": [
        "#### 시그모이드"
      ],
      "metadata": {
        "id": "3ua5XnloGh7q"
      }
    },
    {
      "cell_type": "code",
      "source": [
        "# 시그모이드 함수 정의\n",
        "def sigmoid(x) :\n",
        "  return 1/(1+torch.exp(-x))"
      ],
      "metadata": {
        "id": "a07WNLwpGh1u"
      },
      "execution_count": 96,
      "outputs": []
    },
    {
      "cell_type": "code",
      "source": [
        "# 시그모이드 함수 그래프\n",
        "plot_function(torch.sigmoid, title='sigmoid', min=-4, max=4)"
      ],
      "metadata": {
        "colab": {
          "base_uri": "https://localhost:8080/",
          "height": 396
        },
        "id": "MMwzReKGGstO",
        "outputId": "45a372d0-869f-4d6a-b847-fc7f8334ac5e"
      },
      "execution_count": 97,
      "outputs": [
        {
          "output_type": "display_data",
          "data": {
            "text/plain": [
              "<Figure size 600x400 with 1 Axes>"
            ],
            "image/png": "[encoded data removed]"
          },
          "metadata": {}
        }
      ]
    },
    {
      "cell_type": "code",
      "source": [
        "# 앞선 함수에서 시그모이드 적용해보기\n",
        "def mnist_loss(predictions, targets) :\n",
        "  predictions = predictions.sigmoid()\n",
        "  return torch.where(targets==1, 1-predictions, predictions).mean()"
      ],
      "metadata": {
        "id": "JkwJURb1G5he"
      },
      "execution_count": 98,
      "outputs": []
    },
    {
      "cell_type": "markdown",
      "source": [
        "#### SGD와 미니배치"
      ],
      "metadata": {
        "id": "IJyGhv8xHiv9"
      }
    },
    {
      "cell_type": "code",
      "source": [
        "coll = range(15)\n",
        "dl = DataLoader(coll, batch_size=5, shuffle=True)\n",
        "list(dl)"
      ],
      "metadata": {
        "colab": {
          "base_uri": "https://localhost:8080/"
        },
        "id": "vr5Hn5LkHin5",
        "outputId": "87365978-5010-46cf-be26-99dc44079516"
      },
      "execution_count": 99,
      "outputs": [
        {
          "output_type": "execute_result",
          "data": {
            "text/plain": [
              "[tensor([ 3, 12,  8, 10,  2]),\n",
              " tensor([ 9,  4,  7, 14,  5]),\n",
              " tensor([ 1, 13,  0,  6, 11])]"
            ]
          },
          "metadata": {},
          "execution_count": 99
        }
      ]
    },
    {
      "cell_type": "code",
      "source": [
        "# Dataset : 독립변수/종속변수 쌍을 다룸\n",
        "# Dataset 예시\n",
        "ds = L(enumerate(string.ascii_lowercase))\n",
        "ds"
      ],
      "metadata": {
        "colab": {
          "base_uri": "https://localhost:8080/"
        },
        "id": "xdTpDtloIPP4",
        "outputId": "6f4ea214-5706-49d2-da79-700de030ef68"
      },
      "execution_count": 100,
      "outputs": [
        {
          "output_type": "execute_result",
          "data": {
            "text/plain": [
              "(#26) [(0, 'a'),(1, 'b'),(2, 'c'),(3, 'd'),(4, 'e'),(5, 'f'),(6, 'g'),(7, 'h'),(8, 'i'),(9, 'j')...]"
            ]
          },
          "metadata": {},
          "execution_count": 100
        }
      ]
    },
    {
      "cell_type": "code",
      "source": [
        "dl = DataLoader(ds, batch_size=6, shuffle=True)\n",
        "list(dl)"
      ],
      "metadata": {
        "colab": {
          "base_uri": "https://localhost:8080/"
        },
        "id": "tbRatyK9JGxY",
        "outputId": "3427d3a7-580a-49bf-af10-17c450cb5a4a"
      },
      "execution_count": 101,
      "outputs": [
        {
          "output_type": "execute_result",
          "data": {
            "text/plain": [
              "[(tensor([17, 18, 10, 22,  8, 14]), ('r', 's', 'k', 'w', 'i', 'o')),\n",
              " (tensor([20, 15,  9, 13, 21, 12]), ('u', 'p', 'j', 'n', 'v', 'm')),\n",
              " (tensor([ 7, 25,  6,  5, 11, 23]), ('h', 'z', 'g', 'f', 'l', 'x')),\n",
              " (tensor([ 1,  3,  0, 24, 19, 16]), ('b', 'd', 'a', 'y', 't', 'q')),\n",
              " (tensor([2, 4]), ('c', 'e'))]"
            ]
          },
          "metadata": {},
          "execution_count": 101
        }
      ]
    },
    {
      "cell_type": "markdown",
      "source": [
        "### 경사 하강의 과정"
      ],
      "metadata": {
        "id": "IQcYQZkdJY2x"
      }
    },
    {
      "cell_type": "code",
      "source": [
        "# 매 에포크에 구현되어야 할 과정\n",
        "# for x,y in dl :\n",
        "#   pred = model(x)\n",
        "#   loss = loss_func(pred, y)\n",
        "#   loss.backward()\n",
        "#   parameters -= parameters.grad * lr"
      ],
      "metadata": {
        "id": "jI4kh2iAJYu3"
      },
      "execution_count": 102,
      "outputs": []
    },
    {
      "cell_type": "code",
      "source": [
        "# 파라미터 초기화하기\n",
        "weights = init_params((28*28, 1))\n",
        "bias = init_params(1)"
      ],
      "metadata": {
        "id": "I6L81VxFJ5DR"
      },
      "execution_count": 103,
      "outputs": []
    },
    {
      "cell_type": "code",
      "source": [
        "# first() : 객체에서 첫번째 배치를 가져옴\n",
        "dl = DataLoader(dset, batch_size=256)\n",
        "xb,yb = first(dl)\n",
        "xb.shape, yb.shape"
      ],
      "metadata": {
        "colab": {
          "base_uri": "https://localhost:8080/"
        },
        "id": "NTGjSUlZLebd",
        "outputId": "d86e7ce3-08dc-4ce1-b924-449c9c697085"
      },
      "execution_count": 104,
      "outputs": [
        {
          "output_type": "execute_result",
          "data": {
            "text/plain": [
              "(torch.Size([256, 784]), torch.Size([256, 1]))"
            ]
          },
          "metadata": {},
          "execution_count": 104
        }
      ]
    },
    {
      "cell_type": "code",
      "source": [
        "# 검증용 데이터셋\n",
        "valid_dl = DataLoader(valid_dset, batch_size=256)"
      ],
      "metadata": {
        "id": "0vsEPBP6Mxix"
      },
      "execution_count": 105,
      "outputs": []
    },
    {
      "cell_type": "code",
      "source": [
        "# 크기가 4인 미니배치를 만들어서 검사해보기\n",
        "batch = train_x[:4]\n",
        "batch.shape"
      ],
      "metadata": {
        "colab": {
          "base_uri": "https://localhost:8080/"
        },
        "id": "eCskSbDZM4us",
        "outputId": "b438a1de-8c36-4aa4-8a4e-a524f17ddec9"
      },
      "execution_count": 106,
      "outputs": [
        {
          "output_type": "execute_result",
          "data": {
            "text/plain": [
              "torch.Size([4, 784])"
            ]
          },
          "metadata": {},
          "execution_count": 106
        }
      ]
    },
    {
      "cell_type": "code",
      "source": [
        "preds = linear1(batch)\n",
        "preds"
      ],
      "metadata": {
        "colab": {
          "base_uri": "https://localhost:8080/"
        },
        "id": "FnXXwu8rNCJX",
        "outputId": "e57ba9f6-b79b-4f7b-f6e0-13341db3d4a9"
      },
      "execution_count": 107,
      "outputs": [
        {
          "output_type": "execute_result",
          "data": {
            "text/plain": [
              "tensor([[-2.1876],\n",
              "        [-8.3973],\n",
              "        [ 2.5000],\n",
              "        [-4.9473]], grad_fn=<AddBackward0>)"
            ]
          },
          "metadata": {},
          "execution_count": 107
        }
      ]
    },
    {
      "cell_type": "code",
      "source": [
        "loss = mnist_loss(preds, train_y[:4])\n",
        "loss"
      ],
      "metadata": {
        "colab": {
          "base_uri": "https://localhost:8080/"
        },
        "id": "KV-JCjHNNG62",
        "outputId": "85fd1e5d-770b-4f92-d874-c9f06e5df3ba"
      },
      "execution_count": 108,
      "outputs": [
        {
          "output_type": "execute_result",
          "data": {
            "text/plain": [
              "tensor(0.7419, grad_fn=<MeanBackward0>)"
            ]
          },
          "metadata": {},
          "execution_count": 108
        }
      ]
    },
    {
      "cell_type": "code",
      "source": [
        "# 그레디언트 계산하기\n",
        "loss.backward()\n",
        "weights.grad.shape, weights.grad.mean(), bias.grad"
      ],
      "metadata": {
        "colab": {
          "base_uri": "https://localhost:8080/"
        },
        "id": "dKStUcbrNYtO",
        "outputId": "fe9e6c0e-d412-4905-ac2f-4c3876e3a320"
      },
      "execution_count": 109,
      "outputs": [
        {
          "output_type": "execute_result",
          "data": {
            "text/plain": [
              "(torch.Size([784, 1]), tensor(-0.0061), tensor([-0.0420]))"
            ]
          },
          "metadata": {},
          "execution_count": 109
        }
      ]
    },
    {
      "cell_type": "code",
      "source": [
        "# 구현 내용 하나의 함수로 만들기\n",
        "def calc_grad(xb, yb, model) :\n",
        "  preds = model(xb)\n",
        "  loss = mnist_loss(preds, yb)\n",
        "  loss.backward()"
      ],
      "metadata": {
        "id": "U-zVDPNIN6hy"
      },
      "execution_count": 110,
      "outputs": []
    },
    {
      "cell_type": "code",
      "source": [
        "# 함수 검사해보기\n",
        "calc_grad(batch, train_y[:4], linear1)\n",
        "weights.grad.mean(), bias.grad"
      ],
      "metadata": {
        "colab": {
          "base_uri": "https://localhost:8080/"
        },
        "id": "v3Cx3327OFWr",
        "outputId": "ed10e998-f7d1-497a-d53d-ea9dc0145034"
      },
      "execution_count": 111,
      "outputs": [
        {
          "output_type": "execute_result",
          "data": {
            "text/plain": [
              "(tensor(-0.0121), tensor([-0.0840]))"
            ]
          },
          "metadata": {},
          "execution_count": 111
        }
      ]
    },
    {
      "cell_type": "code",
      "source": [
        "# 이전 그레디언트 0으로 설정\n",
        "weights.grad.zero_()\n",
        "bias.grad.zero_()"
      ],
      "metadata": {
        "colab": {
          "base_uri": "https://localhost:8080/"
        },
        "id": "pP1hV-0COg7n",
        "outputId": "fe7aea05-8620-4d55-e2d9-749f16d549f6"
      },
      "execution_count": 112,
      "outputs": [
        {
          "output_type": "execute_result",
          "data": {
            "text/plain": [
              "tensor([0.])"
            ]
          },
          "metadata": {},
          "execution_count": 112
        }
      ]
    },
    {
      "cell_type": "code",
      "source": [
        "# 한 에포크에서 수행되는 학습 루프\n",
        "def train_epoch(model, lr, params) :\n",
        "  for xb, yb in dl :\n",
        "    calc_grad(xb, yb, model)\n",
        "    for p in params :\n",
        "      p.data -= p.grad*lr\n",
        "      p.grad.zero_()"
      ],
      "metadata": {
        "id": "IFwudrLYJMtD"
      },
      "execution_count": 113,
      "outputs": []
    },
    {
      "cell_type": "code",
      "source": [
        "# 검증용 데이터셋\n",
        "(preds>0.5).float() == train_y[:4]"
      ],
      "metadata": {
        "colab": {
          "base_uri": "https://localhost:8080/"
        },
        "id": "3RerJQCEL8m2",
        "outputId": "f8178003-4564-4879-b744-6ace3c79eff3"
      },
      "execution_count": 114,
      "outputs": [
        {
          "output_type": "execute_result",
          "data": {
            "text/plain": [
              "tensor([[False],\n",
              "        [False],\n",
              "        [ True],\n",
              "        [False]])"
            ]
          },
          "metadata": {},
          "execution_count": 114
        }
      ]
    },
    {
      "cell_type": "code",
      "source": [
        "# 배치 단위의 평균 정확도를 계산하는 함수 만들기\n",
        "def batch_accuracy(xb, yb) :\n",
        "  preds = xb.sigmoid()\n",
        "  correct = (preds>0.5) == yb\n",
        "  return correct.float().mean()"
      ],
      "metadata": {
        "id": "RLLjoxo0MPT4"
      },
      "execution_count": 115,
      "outputs": []
    },
    {
      "cell_type": "code",
      "source": [
        "batch_accuracy(linear1(batch), train_y[:4])"
      ],
      "metadata": {
        "colab": {
          "base_uri": "https://localhost:8080/"
        },
        "id": "7ba6C1TbMhlz",
        "outputId": "4a1e7a7f-933b-4b1a-e2ae-0ae0de1d178c"
      },
      "execution_count": 116,
      "outputs": [
        {
          "output_type": "execute_result",
          "data": {
            "text/plain": [
              "tensor(0.2500)"
            ]
          },
          "metadata": {},
          "execution_count": 116
        }
      ]
    },
    {
      "cell_type": "code",
      "source": [
        "# 검증용 데이터셋의 모든 배치에 함수 적용하기\n",
        "def validate_epoch(model) :\n",
        "  accs = [batch_accuracy(model(xb), yb) for xb, yb in valid_dl]\n",
        "  return round(torch.stack(accs).mean().item(), 4)"
      ],
      "metadata": {
        "id": "ZWe6FU6KM7X_"
      },
      "execution_count": 117,
      "outputs": []
    },
    {
      "cell_type": "code",
      "source": [
        "validate_epoch(linear1)"
      ],
      "metadata": {
        "colab": {
          "base_uri": "https://localhost:8080/"
        },
        "id": "6D-jbfKjNRXS",
        "outputId": "11aad0e2-79aa-44bd-aa1c-d734ab55330a"
      },
      "execution_count": 118,
      "outputs": [
        {
          "output_type": "execute_result",
          "data": {
            "text/plain": [
              "0.5264"
            ]
          },
          "metadata": {},
          "execution_count": 118
        }
      ]
    },
    {
      "cell_type": "code",
      "source": [
        "# 한 에포크 동안 모델을 학습시킨 다음 정확도 개선 여부 확인하기\n",
        "lr = 1.\n",
        "params = weights, bias\n",
        "train_epoch(linear1, lr, params)\n",
        "validate_epoch(linear1)"
      ],
      "metadata": {
        "colab": {
          "base_uri": "https://localhost:8080/"
        },
        "id": "t59kY59OOpmV",
        "outputId": "ed809d88-f6c9-4ac7-f5d9-cc83cc875e63"
      },
      "execution_count": 119,
      "outputs": [
        {
          "output_type": "execute_result",
          "data": {
            "text/plain": [
              "0.6663"
            ]
          },
          "metadata": {},
          "execution_count": 119
        }
      ]
    },
    {
      "cell_type": "code",
      "source": [
        "# 에포크 여러 번 반복하기\n",
        "for i in range(20) :\n",
        "  train_epoch(linear1, lr, params)\n",
        "  print(validate_epoch(linear1), end=' ')"
      ],
      "metadata": {
        "colab": {
          "base_uri": "https://localhost:8080/"
        },
        "id": "T1sgLYVPPAB3",
        "outputId": "7a6bab21-cb2a-4ca7-b26a-5289acac51db"
      },
      "execution_count": 120,
      "outputs": [
        {
          "output_type": "stream",
          "name": "stdout",
          "text": [
            "0.8265 0.89 0.9183 0.9275 0.9397 0.9466 0.9505 0.9524 0.9559 0.9578 0.9598 0.9608 0.9612 0.9618 0.9632 0.9637 0.9647 0.9657 0.9671 0.9676 "
          ]
        }
      ]
    },
    {
      "cell_type": "markdown",
      "source": [
        "#### 옵티마이저 만들기"
      ],
      "metadata": {
        "id": "3mCrGiH7PtEH"
      }
    },
    {
      "cell_type": "code",
      "source": [
        "# nn.Linear로 모델 만들기\n",
        "linear_model = nn.Linear(28*28,1)"
      ],
      "metadata": {
        "id": "V6e-iGhePs7X"
      },
      "execution_count": 121,
      "outputs": []
    },
    {
      "cell_type": "code",
      "source": [
        "# 파라미터 목록에 접근하기\n",
        "w,b = linear_model.parameters()\n",
        "w.shape, b.shape"
      ],
      "metadata": {
        "colab": {
          "base_uri": "https://localhost:8080/"
        },
        "id": "x_8IE9CIQG6d",
        "outputId": "a4f36361-060e-4dcd-b92c-9a03e37d8a94"
      },
      "execution_count": 122,
      "outputs": [
        {
          "output_type": "execute_result",
          "data": {
            "text/plain": [
              "(torch.Size([1, 784]), torch.Size([1]))"
            ]
          },
          "metadata": {},
          "execution_count": 122
        }
      ]
    },
    {
      "cell_type": "code",
      "source": [
        "# 파라미터 정보 활용하여 옵티마이저 정의하기\n",
        "class BasicOptim :\n",
        "  def __init__(self, params, lr) :\n",
        "    self.params, self.lr = list(params), lr\n",
        "\n",
        "  def step(self, *args, **kwargs) :\n",
        "    for p in self.params :\n",
        "      p.data -= p.grad.data * self.lr\n",
        "\n",
        "  def zero_grad(self, *args, **kwargs) :\n",
        "    for p in self.params :\n",
        "      p.grad = None"
      ],
      "metadata": {
        "id": "aZfIP0h5QXy-"
      },
      "execution_count": 123,
      "outputs": []
    },
    {
      "cell_type": "code",
      "source": [
        "# 해당 옵티마이저 객체 생성하기\n",
        "opt = BasicOptim(linear_model.parameters(), lr)"
      ],
      "metadata": {
        "id": "ejs0SIILt4G-"
      },
      "execution_count": 125,
      "outputs": []
    },
    {
      "cell_type": "code",
      "source": [
        "# 학습루프 간소화하기\n",
        "def train_epoch(model) :\n",
        "  for xb, yb in dl :\n",
        "    calc_grad(xb, yb, model)\n",
        "    opt.step()\n",
        "    opt.zero_grad()"
      ],
      "metadata": {
        "id": "IKiUXbDxw6OH"
      },
      "execution_count": 126,
      "outputs": []
    },
    {
      "cell_type": "code",
      "source": [
        "# 검증용 데이터셋의 정확도\n",
        "validate_epoch(linear_model)"
      ],
      "metadata": {
        "colab": {
          "base_uri": "https://localhost:8080/"
        },
        "id": "9ygwsmdjxTH0",
        "outputId": "fdc78f44-f8b5-4f67-8052-587ce7b316bc"
      },
      "execution_count": 128,
      "outputs": [
        {
          "output_type": "execute_result",
          "data": {
            "text/plain": [
              "0.4606"
            ]
          },
          "metadata": {},
          "execution_count": 128
        }
      ]
    },
    {
      "cell_type": "code",
      "source": [
        "# 학습 루프 및 검증용 데이터셋의 정확도 구하는 함수\n",
        "def train_model(model, epochs) :\n",
        "  for i in range(epochs) :\n",
        "    train_epoch(model)\n",
        "    print(validate_epoch(model), end=' ')"
      ],
      "metadata": {
        "id": "GOYFj1Wix4j1"
      },
      "execution_count": 129,
      "outputs": []
    },
    {
      "cell_type": "code",
      "source": [
        "# 결과 확인\n",
        "train_model(linear_model, 20)"
      ],
      "metadata": {
        "colab": {
          "base_uri": "https://localhost:8080/"
        },
        "id": "PNNuxKe94Ugl",
        "outputId": "5e9cc9f8-e788-420b-d960-630d8f2bba9f"
      },
      "execution_count": 130,
      "outputs": [
        {
          "output_type": "stream",
          "name": "stdout",
          "text": [
            "0.4932 0.7686 0.8554 0.9136 0.9346 0.9482 0.957 0.9633 0.9658 0.9677 0.9697 0.9716 0.9736 0.9745 0.976 0.977 0.9775 0.9775 0.978 0.9785 "
          ]
        }
      ]
    },
    {
      "cell_type": "code",
      "source": [
        "# fastai SGD클래스 : BasicOptim과 정확히 같은 방식으로 작동함\n",
        "linear_model = nn.Linear(28*28,1)\n",
        "opt = SGD(linear_model.parameters(), lr)\n",
        "train_model(linear_model,20)"
      ],
      "metadata": {
        "colab": {
          "base_uri": "https://localhost:8080/"
        },
        "id": "rDdqj_G-4790",
        "outputId": "7b367172-e5c9-46aa-91c3-903cc4a8c957"
      },
      "execution_count": 131,
      "outputs": [
        {
          "output_type": "stream",
          "name": "stdout",
          "text": [
            "0.4932 0.855 0.8359 0.9111 0.9321 0.9462 0.955 0.9628 0.9658 0.9667 0.9692 0.9711 0.9731 0.9746 0.976 0.977 0.9775 0.9775 0.978 0.979 "
          ]
        }
      ]
    },
    {
      "cell_type": "markdown",
      "source": [
        "##### Learner.fit()사용"
      ],
      "metadata": {
        "id": "2VDy10xl6_EX"
      }
    },
    {
      "cell_type": "code",
      "source": [
        "# DataLoaders 생성\n",
        "dls = DataLoaders(dl, valid_dl)"
      ],
      "metadata": {
        "id": "nCq3mFnE5Qle"
      },
      "execution_count": 132,
      "outputs": []
    },
    {
      "cell_type": "code",
      "source": [
        "# Learner 생성하기\n",
        "learn = Learner(dls, nn.Linear(28*28,1), opt_func=SGD,\n",
        "                loss_func=mnist_loss, metrics=batch_accuracy)"
      ],
      "metadata": {
        "id": "MINWJDpu7i3d"
      },
      "execution_count": 133,
      "outputs": []
    },
    {
      "cell_type": "code",
      "source": [
        "# fit메서드 호출\n",
        "learn.fit(10, lr=lr)"
      ],
      "metadata": {
        "colab": {
          "base_uri": "https://localhost:8080/",
          "height": 362
        },
        "id": "Pl34sF7976Rf",
        "outputId": "a88122c0-8a6c-44ec-924b-2a4976769fa0"
      },
      "execution_count": 134,
      "outputs": [
        {
          "output_type": "display_data",
          "data": {
            "text/plain": [
              "<IPython.core.display.HTML object>"
            ],
            "text/html": [
              "\n",
              "<style>\n",
              "    /* Turns off some styling */\n",
              "    progress {\n",
              "        /* gets rid of default border in Firefox and Opera. */\n",
              "        border: none;\n",
              "        /* Needs to be in here for Safari polyfill so background images work as expected. */\n",
              "        background-size: auto;\n",
              "    }\n",
              "    progress:not([value]), progress:not([value])::-webkit-progress-bar {\n",
              "        background: repeating-linear-gradient(45deg, #7e7e7e, #7e7e7e 10px, #5c5c5c 10px, #5c5c5c 20px);\n",
              "    }\n",
              "    .progress-bar-interrupted, .progress-bar-interrupted::-webkit-progress-bar {\n",
              "        background: #F44336;\n",
              "    }\n",
              "</style>\n"
            ]
          },
          "metadata": {}
        },
        {
          "output_type": "display_data",
          "data": {
            "text/plain": [
              "<IPython.core.display.HTML object>"
            ],
            "text/html": [
              "<table border=\"1\" class=\"dataframe\">\n",
              "  <thead>\n",
              "    <tr style=\"text-align: left;\">\n",
              "      <th>epoch</th>\n",
              "      <th>train_loss</th>\n",
              "      <th>valid_loss</th>\n",
              "      <th>batch_accuracy</th>\n",
              "      <th>time</th>\n",
              "    </tr>\n",
              "  </thead>\n",
              "  <tbody>\n",
              "    <tr>\n",
              "      <td>0</td>\n",
              "      <td>0.636325</td>\n",
              "      <td>0.503246</td>\n",
              "      <td>0.495584</td>\n",
              "      <td>00:00</td>\n",
              "    </tr>\n",
              "    <tr>\n",
              "      <td>1</td>\n",
              "      <td>0.451432</td>\n",
              "      <td>0.236693</td>\n",
              "      <td>0.789500</td>\n",
              "      <td>00:00</td>\n",
              "    </tr>\n",
              "    <tr>\n",
              "      <td>2</td>\n",
              "      <td>0.168857</td>\n",
              "      <td>0.159305</td>\n",
              "      <td>0.858685</td>\n",
              "      <td>00:00</td>\n",
              "    </tr>\n",
              "    <tr>\n",
              "      <td>3</td>\n",
              "      <td>0.075659</td>\n",
              "      <td>0.099148</td>\n",
              "      <td>0.916585</td>\n",
              "      <td>00:00</td>\n",
              "    </tr>\n",
              "    <tr>\n",
              "      <td>4</td>\n",
              "      <td>0.041181</td>\n",
              "      <td>0.073948</td>\n",
              "      <td>0.936703</td>\n",
              "      <td>00:00</td>\n",
              "    </tr>\n",
              "    <tr>\n",
              "      <td>5</td>\n",
              "      <td>0.027617</td>\n",
              "      <td>0.059897</td>\n",
              "      <td>0.950442</td>\n",
              "      <td>00:00</td>\n",
              "    </tr>\n",
              "    <tr>\n",
              "      <td>6</td>\n",
              "      <td>0.021996</td>\n",
              "      <td>0.051021</td>\n",
              "      <td>0.956330</td>\n",
              "      <td>00:00</td>\n",
              "    </tr>\n",
              "    <tr>\n",
              "      <td>7</td>\n",
              "      <td>0.019468</td>\n",
              "      <td>0.045069</td>\n",
              "      <td>0.963199</td>\n",
              "      <td>00:00</td>\n",
              "    </tr>\n",
              "    <tr>\n",
              "      <td>8</td>\n",
              "      <td>0.018165</td>\n",
              "      <td>0.040868</td>\n",
              "      <td>0.965653</td>\n",
              "      <td>00:00</td>\n",
              "    </tr>\n",
              "    <tr>\n",
              "      <td>9</td>\n",
              "      <td>0.017368</td>\n",
              "      <td>0.037766</td>\n",
              "      <td>0.968106</td>\n",
              "      <td>00:00</td>\n",
              "    </tr>\n",
              "  </tbody>\n",
              "</table>"
            ]
          },
          "metadata": {}
        }
      ]
    }
  ]
}