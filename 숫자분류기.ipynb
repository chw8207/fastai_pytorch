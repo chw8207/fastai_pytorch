{
  "nbformat": 4,
  "nbformat_minor": 0,
  "metadata": {
    "colab": {
      "provenance": [],
      "machine_shape": "hm",
      "gpuType": "V100",
      "mount_file_id": "1_JiOrtOVMCmxrkdx9K_W19In79qAhGKh",
      "authorship_tag": "ABX9TyNpFagwHYQXHbZYxSeM0j31",
      "include_colab_link": true
    },
    "kernelspec": {
      "name": "python3",
      "display_name": "Python 3"
    },
    "language_info": {
      "name": "python"
    },
    "accelerator": "GPU"
  },
  "cells": [
    {
      "cell_type": "markdown",
      "metadata": {
        "id": "view-in-github",
        "colab_type": "text"
      },
      "source": [
        "<a href=\"https://colab.research.google.com/github/chw8207/fastai_pytorch/blob/main/%EC%88%AB%EC%9E%90%EB%B6%84%EB%A5%98%EA%B8%B0.ipynb\" target=\"_parent\"><img src=\"https://colab.research.google.com/assets/colab-badge.svg\" alt=\"Open In Colab\"/></a>"
      ]
    },
    {
      "cell_type": "code",
      "source": [
        "! [ -e /content ] && pip install -Uqq fastbook\n",
        "import fastbook\n",
        "fastbook.setup_book()"
      ],
      "metadata": {
        "colab": {
          "base_uri": "https://localhost:8080/"
        },
        "id": "n0TcdQZfkcNJ",
        "outputId": "634cc264-e9a0-440d-fe61-053e9435e26e"
      },
      "execution_count": 1,
      "outputs": [
        {
          "output_type": "stream",
          "name": "stdout",
          "text": [
            "\u001b[2K     \u001b[90m━━━━━━━━━━━━━━━━━━━━━━━━━━━━━━━━━━━━━━━\u001b[0m \u001b[32m719.8/719.8 kB\u001b[0m \u001b[31m8.7 MB/s\u001b[0m eta \u001b[36m0:00:00\u001b[0m\n",
            "\u001b[2K     \u001b[90m━━━━━━━━━━━━━━━━━━━━━━━━━━━━━━━━━━━━━━━━\u001b[0m \u001b[32m7.4/7.4 MB\u001b[0m \u001b[31m39.2 MB/s\u001b[0m eta \u001b[36m0:00:00\u001b[0m\n",
            "\u001b[2K     \u001b[90m━━━━━━━━━━━━━━━━━━━━━━━━━━━━━━━━━━━━━━\u001b[0m \u001b[32m486.2/486.2 kB\u001b[0m \u001b[31m38.7 MB/s\u001b[0m eta \u001b[36m0:00:00\u001b[0m\n",
            "\u001b[2K     \u001b[90m━━━━━━━━━━━━━━━━━━━━━━━━━━━━━━━━━━━━━━━━\u001b[0m \u001b[32m1.3/1.3 MB\u001b[0m \u001b[31m58.4 MB/s\u001b[0m eta \u001b[36m0:00:00\u001b[0m\n",
            "\u001b[2K     \u001b[90m━━━━━━━━━━━━━━━━━━━━━━━━━━━━━━━━━━━━━━\u001b[0m \u001b[32m110.5/110.5 kB\u001b[0m \u001b[31m14.7 MB/s\u001b[0m eta \u001b[36m0:00:00\u001b[0m\n",
            "\u001b[2K     \u001b[90m━━━━━━━━━━━━━━━━━━━━━━━━━━━━━━━━━━━━━━\u001b[0m \u001b[32m212.5/212.5 kB\u001b[0m \u001b[31m26.0 MB/s\u001b[0m eta \u001b[36m0:00:00\u001b[0m\n",
            "\u001b[2K     \u001b[90m━━━━━━━━━━━━━━━━━━━━━━━━━━━━━━━━━━━━━━\u001b[0m \u001b[32m134.8/134.8 kB\u001b[0m \u001b[31m18.0 MB/s\u001b[0m eta \u001b[36m0:00:00\u001b[0m\n",
            "\u001b[2K     \u001b[90m━━━━━━━━━━━━━━━━━━━━━━━━━━━━━━━━━━━━━━\u001b[0m \u001b[32m268.8/268.8 kB\u001b[0m \u001b[31m30.3 MB/s\u001b[0m eta \u001b[36m0:00:00\u001b[0m\n",
            "\u001b[2K     \u001b[90m━━━━━━━━━━━━━━━━━━━━━━━━━━━━━━━━━━━━━━━━\u001b[0m \u001b[32m7.8/7.8 MB\u001b[0m \u001b[31m90.3 MB/s\u001b[0m eta \u001b[36m0:00:00\u001b[0m\n",
            "\u001b[2K     \u001b[90m━━━━━━━━━━━━━━━━━━━━━━━━━━━━━━━━━━━━━━━━\u001b[0m \u001b[32m1.3/1.3 MB\u001b[0m \u001b[31m69.8 MB/s\u001b[0m eta \u001b[36m0:00:00\u001b[0m\n",
            "\u001b[2K     \u001b[90m━━━━━━━━━━━━━━━━━━━━━━━━━━━━━━━━━━━━━━━━\u001b[0m \u001b[32m1.6/1.6 MB\u001b[0m \u001b[31m75.7 MB/s\u001b[0m eta \u001b[36m0:00:00\u001b[0m\n",
            "\u001b[2K     \u001b[90m━━━━━━━━━━━━━━━━━━━━━━━━━━━━━━━━━━━━━━\u001b[0m \u001b[32m134.3/134.3 kB\u001b[0m \u001b[31m14.3 MB/s\u001b[0m eta \u001b[36m0:00:00\u001b[0m\n",
            "\u001b[?25hMounted at /content/gdrive\n"
          ]
        }
      ]
    },
    {
      "cell_type": "code",
      "execution_count": 2,
      "metadata": {
        "id": "JWSSzLaujMJt"
      },
      "outputs": [],
      "source": [
        "from torch.autograd import functional\n",
        "import tensorflow as tf\n",
        "from fastai.vision.all import *\n",
        "from fastbook import *\n",
        "import pandas as pd\n",
        "import torch\n",
        "import torch.nn.functional as F\n",
        "import matplotlib.pyplot as plt\n",
        "%matplotlib inline"
      ]
    },
    {
      "cell_type": "markdown",
      "source": [
        "### GPU 설정"
      ],
      "metadata": {
        "id": "m1qTpIldjZiw"
      }
    },
    {
      "cell_type": "code",
      "source": [
        "device_name = tf.test.gpu_device_name()\n",
        "if device_name != '/device:GPU:0' :\n",
        "    raise SystemError('GPU device not found')\n",
        "print(f'Found GPU at: {device_name}')"
      ],
      "metadata": {
        "colab": {
          "base_uri": "https://localhost:8080/"
        },
        "id": "EHpJuiMPjZWW",
        "outputId": "d47c5503-14b8-4540-d8ab-577afd2e8532"
      },
      "execution_count": 3,
      "outputs": [
        {
          "output_type": "stream",
          "name": "stdout",
          "text": [
            "Found GPU at: /device:GPU:0\n"
          ]
        }
      ]
    },
    {
      "cell_type": "code",
      "source": [
        "from tensorflow.python.client import device_lib\n",
        "\n",
        "print(device_lib.list_local_devices())"
      ],
      "metadata": {
        "colab": {
          "base_uri": "https://localhost:8080/"
        },
        "id": "9XTUefMFjZLF",
        "outputId": "6d43d8eb-100c-4b52-d455-71e5102d0147"
      },
      "execution_count": 4,
      "outputs": [
        {
          "output_type": "stream",
          "name": "stdout",
          "text": [
            "[name: \"/device:CPU:0\"\n",
            "device_type: \"CPU\"\n",
            "memory_limit: 268435456\n",
            "locality {\n",
            "}\n",
            "incarnation: 6669715156962102300\n",
            "xla_global_id: -1\n",
            ", name: \"/device:GPU:0\"\n",
            "device_type: \"GPU\"\n",
            "memory_limit: 14648737792\n",
            "locality {\n",
            "  bus_id: 1\n",
            "  links {\n",
            "  }\n",
            "}\n",
            "incarnation: 16175611283034275231\n",
            "physical_device_desc: \"device: 0, name: Tesla V100-SXM2-16GB, pci bus id: 0000:00:04.0, compute capability: 7.0\"\n",
            "xla_global_id: 416903419\n",
            "]\n"
          ]
        }
      ]
    },
    {
      "cell_type": "markdown",
      "source": [
        "### 숫자 3과 7의 이미지 분류하는 모델"
      ],
      "metadata": {
        "id": "oD0kqYqukLbj"
      }
    },
    {
      "cell_type": "code",
      "source": [
        "path = untar_data(URLs.MNIST_SAMPLE)"
      ],
      "metadata": {
        "colab": {
          "base_uri": "https://localhost:8080/",
          "height": 37
        },
        "id": "4kL1xUPKkLSb",
        "outputId": "80617363-daad-4f72-f519-613ccbcdd7f5"
      },
      "execution_count": 5,
      "outputs": [
        {
          "output_type": "display_data",
          "data": {
            "text/plain": [
              "<IPython.core.display.HTML object>"
            ],
            "text/html": [
              "\n",
              "<style>\n",
              "    /* Turns off some styling */\n",
              "    progress {\n",
              "        /* gets rid of default border in Firefox and Opera. */\n",
              "        border: none;\n",
              "        /* Needs to be in here for Safari polyfill so background images work as expected. */\n",
              "        background-size: auto;\n",
              "    }\n",
              "    progress:not([value]), progress:not([value])::-webkit-progress-bar {\n",
              "        background: repeating-linear-gradient(45deg, #7e7e7e, #7e7e7e 10px, #5c5c5c 10px, #5c5c5c 20px);\n",
              "    }\n",
              "    .progress-bar-interrupted, .progress-bar-interrupted::-webkit-progress-bar {\n",
              "        background: #F44336;\n",
              "    }\n",
              "</style>\n"
            ]
          },
          "metadata": {}
        },
        {
          "output_type": "display_data",
          "data": {
            "text/plain": [
              "<IPython.core.display.HTML object>"
            ],
            "text/html": [
              "\n",
              "    <div>\n",
              "      <progress value='3219456' class='' max='3214948' style='width:300px; height:20px; vertical-align: middle;'></progress>\n",
              "      100.14% [3219456/3214948 00:00&lt;00:00]\n",
              "    </div>\n",
              "    "
            ]
          },
          "metadata": {}
        }
      ]
    },
    {
      "cell_type": "code",
      "source": [
        "# 디렉터리 내용 확인\n",
        "path.ls()"
      ],
      "metadata": {
        "colab": {
          "base_uri": "https://localhost:8080/"
        },
        "id": "fw7eRDcpn_5M",
        "outputId": "123fbb3c-2af5-4c63-a5cf-e7898756b452"
      },
      "execution_count": 6,
      "outputs": [
        {
          "output_type": "execute_result",
          "data": {
            "text/plain": [
              "(#3) [Path('/root/.fastai/data/mnist_sample/train'),Path('/root/.fastai/data/mnist_sample/valid'),Path('/root/.fastai/data/mnist_sample/labels.csv')]"
            ]
          },
          "metadata": {},
          "execution_count": 6
        }
      ]
    },
    {
      "cell_type": "code",
      "source": [
        "# 학습 데이터셋의 폴더 내용 확인\n",
        "(path/'train').ls()"
      ],
      "metadata": {
        "colab": {
          "base_uri": "https://localhost:8080/"
        },
        "id": "HQv-qtp1pwn1",
        "outputId": "9f928cf4-0e49-412c-90e0-14c99c1f570a"
      },
      "execution_count": 7,
      "outputs": [
        {
          "output_type": "execute_result",
          "data": {
            "text/plain": [
              "(#2) [Path('/root/.fastai/data/mnist_sample/train/7'),Path('/root/.fastai/data/mnist_sample/train/3')]"
            ]
          },
          "metadata": {},
          "execution_count": 7
        }
      ]
    },
    {
      "cell_type": "code",
      "source": [
        "# 파일 순서가 같도록 정렬하기\n",
        "threes = (path/'train'/'3').ls().sorted()\n",
        "sevens = (path/'train'/'7').ls().sorted()"
      ],
      "metadata": {
        "id": "c7ur11QZp6Hq"
      },
      "execution_count": 8,
      "outputs": []
    },
    {
      "cell_type": "code",
      "source": [
        "threes"
      ],
      "metadata": {
        "colab": {
          "base_uri": "https://localhost:8080/"
        },
        "id": "-dhzmIbcqGWF",
        "outputId": "f78a8153-8aca-4d0a-b3b3-42e1d5774ce7"
      },
      "execution_count": 9,
      "outputs": [
        {
          "output_type": "execute_result",
          "data": {
            "text/plain": [
              "(#6131) [Path('/root/.fastai/data/mnist_sample/train/3/10.png'),Path('/root/.fastai/data/mnist_sample/train/3/10000.png'),Path('/root/.fastai/data/mnist_sample/train/3/10011.png'),Path('/root/.fastai/data/mnist_sample/train/3/10031.png'),Path('/root/.fastai/data/mnist_sample/train/3/10034.png'),Path('/root/.fastai/data/mnist_sample/train/3/10042.png'),Path('/root/.fastai/data/mnist_sample/train/3/10052.png'),Path('/root/.fastai/data/mnist_sample/train/3/1007.png'),Path('/root/.fastai/data/mnist_sample/train/3/10074.png'),Path('/root/.fastai/data/mnist_sample/train/3/10091.png')...]"
            ]
          },
          "metadata": {},
          "execution_count": 9
        }
      ]
    },
    {
      "cell_type": "code",
      "source": [
        "# 손으로 쓴 숫자 3 이미지를 출력하기\n",
        "img3_path = threes[1]\n",
        "img3 = Image.open(img3_path)\n",
        "img3"
      ],
      "metadata": {
        "colab": {
          "base_uri": "https://localhost:8080/",
          "height": 45
        },
        "id": "XEewxsWUqLM_",
        "outputId": "426f7a84-780a-451a-de1b-de5b8cfb6c50"
      },
      "execution_count": 10,
      "outputs": [
        {
          "output_type": "execute_result",
          "data": {
            "text/plain": [
              "<PIL.PngImagePlugin.PngImageFile image mode=L size=28x28>"
            ],
            "image/png": "[encoded data removed]"
          },
          "metadata": {},
          "execution_count": 10
        }
      ]
    },
    {
      "cell_type": "code",
      "source": [
        "# 이미지를 구성하는 숫자 확인\n",
        "array(img3)[4:10, 4:10]"
      ],
      "metadata": {
        "colab": {
          "base_uri": "https://localhost:8080/"
        },
        "id": "zegx1AnXqpV0",
        "outputId": "a3d82a0b-5c94-4ca8-8118-79b7acfd4bc5"
      },
      "execution_count": 11,
      "outputs": [
        {
          "output_type": "execute_result",
          "data": {
            "text/plain": [
              "array([[  0,   0,   0,   0,   0,   0],\n",
              "       [  0,   0,   0,   0,   0,  29],\n",
              "       [  0,   0,   0,  48, 166, 224],\n",
              "       [  0,  93, 244, 249, 253, 187],\n",
              "       [  0, 107, 253, 253, 230,  48],\n",
              "       [  0,   3,  20,  20,  15,   0]], dtype=uint8)"
            ]
          },
          "metadata": {},
          "execution_count": 11
        }
      ]
    },
    {
      "cell_type": "code",
      "source": [
        "# 텐서로 표현\n",
        "tensor(img3)[4:10, 4:10]"
      ],
      "metadata": {
        "colab": {
          "base_uri": "https://localhost:8080/"
        },
        "id": "_mcD-7Klq8ev",
        "outputId": "e01b9579-4ffa-4b5a-c1aa-bf5bd65374cd"
      },
      "execution_count": 12,
      "outputs": [
        {
          "output_type": "execute_result",
          "data": {
            "text/plain": [
              "tensor([[  0,   0,   0,   0,   0,   0],\n",
              "        [  0,   0,   0,   0,   0,  29],\n",
              "        [  0,   0,   0,  48, 166, 224],\n",
              "        [  0,  93, 244, 249, 253, 187],\n",
              "        [  0, 107, 253, 253, 230,  48],\n",
              "        [  0,   3,  20,  20,  15,   0]], dtype=torch.uint8)"
            ]
          },
          "metadata": {},
          "execution_count": 12
        }
      ]
    },
    {
      "cell_type": "code",
      "source": [
        "# 판다스 데이터프레임으로\n",
        "# 숫자의 값에 따라 색상을\n",
        "# 그라데이션으로 입히는 방법 보여주기\n",
        "img3_t = tensor(img3)\n",
        "df = pd.DataFrame(img3_t[4:15, 4:22])\n",
        "df.style.set_properties(**{'font-size':'6pt'}).background_gradient('Greys')"
      ],
      "metadata": {
        "colab": {
          "base_uri": "https://localhost:8080/",
          "height": 394
        },
        "id": "ciXWqdY5rJR1",
        "outputId": "fb366d31-0df9-47d3-b8cd-3cdb877759eb"
      },
      "execution_count": 13,
      "outputs": [
        {
          "output_type": "execute_result",
          "data": {
            "text/plain": [
              "<pandas.io.formats.style.Styler at 0x7de414054a00>"
            ],
            "text/html": [
              "<style type=\"text/css\">\n",
              "#T_59e4b_row0_col0, #T_59e4b_row0_col1, #T_59e4b_row0_col2, #T_59e4b_row0_col3, #T_59e4b_row0_col4, #T_59e4b_row0_col5, #T_59e4b_row0_col6, #T_59e4b_row0_col7, #T_59e4b_row0_col8, #T_59e4b_row0_col9, #T_59e4b_row0_col10, #T_59e4b_row0_col11, #T_59e4b_row0_col12, #T_59e4b_row0_col13, #T_59e4b_row0_col14, #T_59e4b_row0_col15, #T_59e4b_row0_col16, #T_59e4b_row0_col17, #T_59e4b_row1_col0, #T_59e4b_row1_col1, #T_59e4b_row1_col2, #T_59e4b_row1_col3, #T_59e4b_row1_col4, #T_59e4b_row1_col15, #T_59e4b_row1_col16, #T_59e4b_row1_col17, #T_59e4b_row2_col0, #T_59e4b_row2_col1, #T_59e4b_row2_col2, #T_59e4b_row2_col15, #T_59e4b_row2_col16, #T_59e4b_row2_col17, #T_59e4b_row3_col0, #T_59e4b_row3_col15, #T_59e4b_row3_col16, #T_59e4b_row3_col17, #T_59e4b_row4_col0, #T_59e4b_row4_col6, #T_59e4b_row4_col7, #T_59e4b_row4_col8, #T_59e4b_row4_col9, #T_59e4b_row4_col10, #T_59e4b_row4_col15, #T_59e4b_row4_col16, #T_59e4b_row4_col17, #T_59e4b_row5_col0, #T_59e4b_row5_col5, #T_59e4b_row5_col6, #T_59e4b_row5_col7, #T_59e4b_row5_col8, #T_59e4b_row5_col9, #T_59e4b_row5_col15, #T_59e4b_row5_col16, #T_59e4b_row5_col17, #T_59e4b_row6_col0, #T_59e4b_row6_col1, #T_59e4b_row6_col2, #T_59e4b_row6_col3, #T_59e4b_row6_col4, #T_59e4b_row6_col5, #T_59e4b_row6_col6, #T_59e4b_row6_col7, #T_59e4b_row6_col8, #T_59e4b_row6_col9, #T_59e4b_row6_col14, #T_59e4b_row6_col15, #T_59e4b_row6_col16, #T_59e4b_row6_col17, #T_59e4b_row7_col0, #T_59e4b_row7_col1, #T_59e4b_row7_col2, #T_59e4b_row7_col3, #T_59e4b_row7_col4, #T_59e4b_row7_col5, #T_59e4b_row7_col6, #T_59e4b_row7_col13, #T_59e4b_row7_col14, #T_59e4b_row7_col15, #T_59e4b_row7_col16, #T_59e4b_row7_col17, #T_59e4b_row8_col0, #T_59e4b_row8_col1, #T_59e4b_row8_col2, #T_59e4b_row8_col3, #T_59e4b_row8_col4, #T_59e4b_row8_col13, #T_59e4b_row8_col14, #T_59e4b_row8_col15, #T_59e4b_row8_col16, #T_59e4b_row8_col17, #T_59e4b_row9_col0, #T_59e4b_row9_col1, #T_59e4b_row9_col2, #T_59e4b_row9_col3, #T_59e4b_row9_col4, #T_59e4b_row9_col16, #T_59e4b_row9_col17, #T_59e4b_row10_col0, #T_59e4b_row10_col1, #T_59e4b_row10_col2, #T_59e4b_row10_col3, #T_59e4b_row10_col4, #T_59e4b_row10_col5, #T_59e4b_row10_col6, #T_59e4b_row10_col17 {\n",
              "  font-size: 6pt;\n",
              "  background-color: #ffffff;\n",
              "  color: #000000;\n",
              "}\n",
              "#T_59e4b_row1_col5 {\n",
              "  font-size: 6pt;\n",
              "  background-color: #efefef;\n",
              "  color: #000000;\n",
              "}\n",
              "#T_59e4b_row1_col6, #T_59e4b_row1_col13 {\n",
              "  font-size: 6pt;\n",
              "  background-color: #7c7c7c;\n",
              "  color: #f1f1f1;\n",
              "}\n",
              "#T_59e4b_row1_col7 {\n",
              "  font-size: 6pt;\n",
              "  background-color: #4a4a4a;\n",
              "  color: #f1f1f1;\n",
              "}\n",
              "#T_59e4b_row1_col8, #T_59e4b_row1_col9, #T_59e4b_row1_col10, #T_59e4b_row2_col5, #T_59e4b_row2_col6, #T_59e4b_row2_col7, #T_59e4b_row2_col11, #T_59e4b_row2_col12, #T_59e4b_row2_col13, #T_59e4b_row3_col4, #T_59e4b_row3_col12, #T_59e4b_row3_col13, #T_59e4b_row4_col1, #T_59e4b_row4_col2, #T_59e4b_row4_col3, #T_59e4b_row4_col12, #T_59e4b_row4_col13, #T_59e4b_row5_col12, #T_59e4b_row6_col11, #T_59e4b_row9_col11, #T_59e4b_row10_col11, #T_59e4b_row10_col12, #T_59e4b_row10_col13, #T_59e4b_row10_col14, #T_59e4b_row10_col15, #T_59e4b_row10_col16 {\n",
              "  font-size: 6pt;\n",
              "  background-color: #000000;\n",
              "  color: #f1f1f1;\n",
              "}\n",
              "#T_59e4b_row1_col11 {\n",
              "  font-size: 6pt;\n",
              "  background-color: #606060;\n",
              "  color: #f1f1f1;\n",
              "}\n",
              "#T_59e4b_row1_col12 {\n",
              "  font-size: 6pt;\n",
              "  background-color: #4d4d4d;\n",
              "  color: #f1f1f1;\n",
              "}\n",
              "#T_59e4b_row1_col14 {\n",
              "  font-size: 6pt;\n",
              "  background-color: #bbbbbb;\n",
              "  color: #000000;\n",
              "}\n",
              "#T_59e4b_row2_col3 {\n",
              "  font-size: 6pt;\n",
              "  background-color: #e4e4e4;\n",
              "  color: #000000;\n",
              "}\n",
              "#T_59e4b_row2_col4, #T_59e4b_row8_col6 {\n",
              "  font-size: 6pt;\n",
              "  background-color: #6b6b6b;\n",
              "  color: #f1f1f1;\n",
              "}\n",
              "#T_59e4b_row2_col8, #T_59e4b_row2_col14, #T_59e4b_row3_col14 {\n",
              "  font-size: 6pt;\n",
              "  background-color: #171717;\n",
              "  color: #f1f1f1;\n",
              "}\n",
              "#T_59e4b_row2_col9, #T_59e4b_row3_col11 {\n",
              "  font-size: 6pt;\n",
              "  background-color: #4b4b4b;\n",
              "  color: #f1f1f1;\n",
              "}\n",
              "#T_59e4b_row2_col10, #T_59e4b_row7_col10, #T_59e4b_row8_col8, #T_59e4b_row8_col10, #T_59e4b_row9_col8, #T_59e4b_row9_col10 {\n",
              "  font-size: 6pt;\n",
              "  background-color: #010101;\n",
              "  color: #f1f1f1;\n",
              "}\n",
              "#T_59e4b_row3_col1 {\n",
              "  font-size: 6pt;\n",
              "  background-color: #272727;\n",
              "  color: #f1f1f1;\n",
              "}\n",
              "#T_59e4b_row3_col2 {\n",
              "  font-size: 6pt;\n",
              "  background-color: #0a0a0a;\n",
              "  color: #f1f1f1;\n",
              "}\n",
              "#T_59e4b_row3_col3 {\n",
              "  font-size: 6pt;\n",
              "  background-color: #050505;\n",
              "  color: #f1f1f1;\n",
              "}\n",
              "#T_59e4b_row3_col5 {\n",
              "  font-size: 6pt;\n",
              "  background-color: #333333;\n",
              "  color: #f1f1f1;\n",
              "}\n",
              "#T_59e4b_row3_col6 {\n",
              "  font-size: 6pt;\n",
              "  background-color: #e6e6e6;\n",
              "  color: #000000;\n",
              "}\n",
              "#T_59e4b_row3_col7, #T_59e4b_row3_col10 {\n",
              "  font-size: 6pt;\n",
              "  background-color: #fafafa;\n",
              "  color: #000000;\n",
              "}\n",
              "#T_59e4b_row3_col8 {\n",
              "  font-size: 6pt;\n",
              "  background-color: #fbfbfb;\n",
              "  color: #000000;\n",
              "}\n",
              "#T_59e4b_row3_col9 {\n",
              "  font-size: 6pt;\n",
              "  background-color: #fdfdfd;\n",
              "  color: #000000;\n",
              "}\n",
              "#T_59e4b_row4_col4 {\n",
              "  font-size: 6pt;\n",
              "  background-color: #1b1b1b;\n",
              "  color: #f1f1f1;\n",
              "}\n",
              "#T_59e4b_row4_col5 {\n",
              "  font-size: 6pt;\n",
              "  background-color: #e0e0e0;\n",
              "  color: #000000;\n",
              "}\n",
              "#T_59e4b_row4_col11 {\n",
              "  font-size: 6pt;\n",
              "  background-color: #4e4e4e;\n",
              "  color: #f1f1f1;\n",
              "}\n",
              "#T_59e4b_row4_col14 {\n",
              "  font-size: 6pt;\n",
              "  background-color: #767676;\n",
              "  color: #f1f1f1;\n",
              "}\n",
              "#T_59e4b_row5_col1 {\n",
              "  font-size: 6pt;\n",
              "  background-color: #fcfcfc;\n",
              "  color: #000000;\n",
              "}\n",
              "#T_59e4b_row5_col2, #T_59e4b_row5_col3 {\n",
              "  font-size: 6pt;\n",
              "  background-color: #f6f6f6;\n",
              "  color: #000000;\n",
              "}\n",
              "#T_59e4b_row5_col4, #T_59e4b_row7_col7 {\n",
              "  font-size: 6pt;\n",
              "  background-color: #f8f8f8;\n",
              "  color: #000000;\n",
              "}\n",
              "#T_59e4b_row5_col10, #T_59e4b_row10_col7 {\n",
              "  font-size: 6pt;\n",
              "  background-color: #e8e8e8;\n",
              "  color: #000000;\n",
              "}\n",
              "#T_59e4b_row5_col11 {\n",
              "  font-size: 6pt;\n",
              "  background-color: #222222;\n",
              "  color: #f1f1f1;\n",
              "}\n",
              "#T_59e4b_row5_col13, #T_59e4b_row6_col12 {\n",
              "  font-size: 6pt;\n",
              "  background-color: #090909;\n",
              "  color: #f1f1f1;\n",
              "}\n",
              "#T_59e4b_row5_col14 {\n",
              "  font-size: 6pt;\n",
              "  background-color: #d0d0d0;\n",
              "  color: #000000;\n",
              "}\n",
              "#T_59e4b_row6_col10, #T_59e4b_row7_col11, #T_59e4b_row9_col6 {\n",
              "  font-size: 6pt;\n",
              "  background-color: #060606;\n",
              "  color: #f1f1f1;\n",
              "}\n",
              "#T_59e4b_row6_col13 {\n",
              "  font-size: 6pt;\n",
              "  background-color: #979797;\n",
              "  color: #f1f1f1;\n",
              "}\n",
              "#T_59e4b_row7_col8 {\n",
              "  font-size: 6pt;\n",
              "  background-color: #b6b6b6;\n",
              "  color: #000000;\n",
              "}\n",
              "#T_59e4b_row7_col9 {\n",
              "  font-size: 6pt;\n",
              "  background-color: #252525;\n",
              "  color: #f1f1f1;\n",
              "}\n",
              "#T_59e4b_row7_col12 {\n",
              "  font-size: 6pt;\n",
              "  background-color: #999999;\n",
              "  color: #f1f1f1;\n",
              "}\n",
              "#T_59e4b_row8_col5 {\n",
              "  font-size: 6pt;\n",
              "  background-color: #f9f9f9;\n",
              "  color: #000000;\n",
              "}\n",
              "#T_59e4b_row8_col7 {\n",
              "  font-size: 6pt;\n",
              "  background-color: #101010;\n",
              "  color: #f1f1f1;\n",
              "}\n",
              "#T_59e4b_row8_col9, #T_59e4b_row9_col9 {\n",
              "  font-size: 6pt;\n",
              "  background-color: #020202;\n",
              "  color: #f1f1f1;\n",
              "}\n",
              "#T_59e4b_row8_col11 {\n",
              "  font-size: 6pt;\n",
              "  background-color: #545454;\n",
              "  color: #f1f1f1;\n",
              "}\n",
              "#T_59e4b_row8_col12 {\n",
              "  font-size: 6pt;\n",
              "  background-color: #f1f1f1;\n",
              "  color: #000000;\n",
              "}\n",
              "#T_59e4b_row9_col5 {\n",
              "  font-size: 6pt;\n",
              "  background-color: #f7f7f7;\n",
              "  color: #000000;\n",
              "}\n",
              "#T_59e4b_row9_col7 {\n",
              "  font-size: 6pt;\n",
              "  background-color: #030303;\n",
              "  color: #f1f1f1;\n",
              "}\n",
              "#T_59e4b_row9_col12 {\n",
              "  font-size: 6pt;\n",
              "  background-color: #181818;\n",
              "  color: #f1f1f1;\n",
              "}\n",
              "#T_59e4b_row9_col13 {\n",
              "  font-size: 6pt;\n",
              "  background-color: #303030;\n",
              "  color: #f1f1f1;\n",
              "}\n",
              "#T_59e4b_row9_col14 {\n",
              "  font-size: 6pt;\n",
              "  background-color: #a9a9a9;\n",
              "  color: #f1f1f1;\n",
              "}\n",
              "#T_59e4b_row9_col15 {\n",
              "  font-size: 6pt;\n",
              "  background-color: #fefefe;\n",
              "  color: #000000;\n",
              "}\n",
              "#T_59e4b_row10_col8, #T_59e4b_row10_col9 {\n",
              "  font-size: 6pt;\n",
              "  background-color: #bababa;\n",
              "  color: #000000;\n",
              "}\n",
              "#T_59e4b_row10_col10 {\n",
              "  font-size: 6pt;\n",
              "  background-color: #393939;\n",
              "  color: #f1f1f1;\n",
              "}\n",
              "</style>\n",
              "<table id=\"T_59e4b\" class=\"dataframe\">\n",
              "  <thead>\n",
              "    <tr>\n",
              "      <th class=\"blank level0\" >&nbsp;</th>\n",
              "      <th id=\"T_59e4b_level0_col0\" class=\"col_heading level0 col0\" >0</th>\n",
              "      <th id=\"T_59e4b_level0_col1\" class=\"col_heading level0 col1\" >1</th>\n",
              "      <th id=\"T_59e4b_level0_col2\" class=\"col_heading level0 col2\" >2</th>\n",
              "      <th id=\"T_59e4b_level0_col3\" class=\"col_heading level0 col3\" >3</th>\n",
              "      <th id=\"T_59e4b_level0_col4\" class=\"col_heading level0 col4\" >4</th>\n",
              "      <th id=\"T_59e4b_level0_col5\" class=\"col_heading level0 col5\" >5</th>\n",
              "      <th id=\"T_59e4b_level0_col6\" class=\"col_heading level0 col6\" >6</th>\n",
              "      <th id=\"T_59e4b_level0_col7\" class=\"col_heading level0 col7\" >7</th>\n",
              "      <th id=\"T_59e4b_level0_col8\" class=\"col_heading level0 col8\" >8</th>\n",
              "      <th id=\"T_59e4b_level0_col9\" class=\"col_heading level0 col9\" >9</th>\n",
              "      <th id=\"T_59e4b_level0_col10\" class=\"col_heading level0 col10\" >10</th>\n",
              "      <th id=\"T_59e4b_level0_col11\" class=\"col_heading level0 col11\" >11</th>\n",
              "      <th id=\"T_59e4b_level0_col12\" class=\"col_heading level0 col12\" >12</th>\n",
              "      <th id=\"T_59e4b_level0_col13\" class=\"col_heading level0 col13\" >13</th>\n",
              "      <th id=\"T_59e4b_level0_col14\" class=\"col_heading level0 col14\" >14</th>\n",
              "      <th id=\"T_59e4b_level0_col15\" class=\"col_heading level0 col15\" >15</th>\n",
              "      <th id=\"T_59e4b_level0_col16\" class=\"col_heading level0 col16\" >16</th>\n",
              "      <th id=\"T_59e4b_level0_col17\" class=\"col_heading level0 col17\" >17</th>\n",
              "    </tr>\n",
              "  </thead>\n",
              "  <tbody>\n",
              "    <tr>\n",
              "      <th id=\"T_59e4b_level0_row0\" class=\"row_heading level0 row0\" >0</th>\n",
              "      <td id=\"T_59e4b_row0_col0\" class=\"data row0 col0\" >0</td>\n",
              "      <td id=\"T_59e4b_row0_col1\" class=\"data row0 col1\" >0</td>\n",
              "      <td id=\"T_59e4b_row0_col2\" class=\"data row0 col2\" >0</td>\n",
              "      <td id=\"T_59e4b_row0_col3\" class=\"data row0 col3\" >0</td>\n",
              "      <td id=\"T_59e4b_row0_col4\" class=\"data row0 col4\" >0</td>\n",
              "      <td id=\"T_59e4b_row0_col5\" class=\"data row0 col5\" >0</td>\n",
              "      <td id=\"T_59e4b_row0_col6\" class=\"data row0 col6\" >0</td>\n",
              "      <td id=\"T_59e4b_row0_col7\" class=\"data row0 col7\" >0</td>\n",
              "      <td id=\"T_59e4b_row0_col8\" class=\"data row0 col8\" >0</td>\n",
              "      <td id=\"T_59e4b_row0_col9\" class=\"data row0 col9\" >0</td>\n",
              "      <td id=\"T_59e4b_row0_col10\" class=\"data row0 col10\" >0</td>\n",
              "      <td id=\"T_59e4b_row0_col11\" class=\"data row0 col11\" >0</td>\n",
              "      <td id=\"T_59e4b_row0_col12\" class=\"data row0 col12\" >0</td>\n",
              "      <td id=\"T_59e4b_row0_col13\" class=\"data row0 col13\" >0</td>\n",
              "      <td id=\"T_59e4b_row0_col14\" class=\"data row0 col14\" >0</td>\n",
              "      <td id=\"T_59e4b_row0_col15\" class=\"data row0 col15\" >0</td>\n",
              "      <td id=\"T_59e4b_row0_col16\" class=\"data row0 col16\" >0</td>\n",
              "      <td id=\"T_59e4b_row0_col17\" class=\"data row0 col17\" >0</td>\n",
              "    </tr>\n",
              "    <tr>\n",
              "      <th id=\"T_59e4b_level0_row1\" class=\"row_heading level0 row1\" >1</th>\n",
              "      <td id=\"T_59e4b_row1_col0\" class=\"data row1 col0\" >0</td>\n",
              "      <td id=\"T_59e4b_row1_col1\" class=\"data row1 col1\" >0</td>\n",
              "      <td id=\"T_59e4b_row1_col2\" class=\"data row1 col2\" >0</td>\n",
              "      <td id=\"T_59e4b_row1_col3\" class=\"data row1 col3\" >0</td>\n",
              "      <td id=\"T_59e4b_row1_col4\" class=\"data row1 col4\" >0</td>\n",
              "      <td id=\"T_59e4b_row1_col5\" class=\"data row1 col5\" >29</td>\n",
              "      <td id=\"T_59e4b_row1_col6\" class=\"data row1 col6\" >150</td>\n",
              "      <td id=\"T_59e4b_row1_col7\" class=\"data row1 col7\" >195</td>\n",
              "      <td id=\"T_59e4b_row1_col8\" class=\"data row1 col8\" >254</td>\n",
              "      <td id=\"T_59e4b_row1_col9\" class=\"data row1 col9\" >255</td>\n",
              "      <td id=\"T_59e4b_row1_col10\" class=\"data row1 col10\" >254</td>\n",
              "      <td id=\"T_59e4b_row1_col11\" class=\"data row1 col11\" >176</td>\n",
              "      <td id=\"T_59e4b_row1_col12\" class=\"data row1 col12\" >193</td>\n",
              "      <td id=\"T_59e4b_row1_col13\" class=\"data row1 col13\" >150</td>\n",
              "      <td id=\"T_59e4b_row1_col14\" class=\"data row1 col14\" >96</td>\n",
              "      <td id=\"T_59e4b_row1_col15\" class=\"data row1 col15\" >0</td>\n",
              "      <td id=\"T_59e4b_row1_col16\" class=\"data row1 col16\" >0</td>\n",
              "      <td id=\"T_59e4b_row1_col17\" class=\"data row1 col17\" >0</td>\n",
              "    </tr>\n",
              "    <tr>\n",
              "      <th id=\"T_59e4b_level0_row2\" class=\"row_heading level0 row2\" >2</th>\n",
              "      <td id=\"T_59e4b_row2_col0\" class=\"data row2 col0\" >0</td>\n",
              "      <td id=\"T_59e4b_row2_col1\" class=\"data row2 col1\" >0</td>\n",
              "      <td id=\"T_59e4b_row2_col2\" class=\"data row2 col2\" >0</td>\n",
              "      <td id=\"T_59e4b_row2_col3\" class=\"data row2 col3\" >48</td>\n",
              "      <td id=\"T_59e4b_row2_col4\" class=\"data row2 col4\" >166</td>\n",
              "      <td id=\"T_59e4b_row2_col5\" class=\"data row2 col5\" >224</td>\n",
              "      <td id=\"T_59e4b_row2_col6\" class=\"data row2 col6\" >253</td>\n",
              "      <td id=\"T_59e4b_row2_col7\" class=\"data row2 col7\" >253</td>\n",
              "      <td id=\"T_59e4b_row2_col8\" class=\"data row2 col8\" >234</td>\n",
              "      <td id=\"T_59e4b_row2_col9\" class=\"data row2 col9\" >196</td>\n",
              "      <td id=\"T_59e4b_row2_col10\" class=\"data row2 col10\" >253</td>\n",
              "      <td id=\"T_59e4b_row2_col11\" class=\"data row2 col11\" >253</td>\n",
              "      <td id=\"T_59e4b_row2_col12\" class=\"data row2 col12\" >253</td>\n",
              "      <td id=\"T_59e4b_row2_col13\" class=\"data row2 col13\" >253</td>\n",
              "      <td id=\"T_59e4b_row2_col14\" class=\"data row2 col14\" >233</td>\n",
              "      <td id=\"T_59e4b_row2_col15\" class=\"data row2 col15\" >0</td>\n",
              "      <td id=\"T_59e4b_row2_col16\" class=\"data row2 col16\" >0</td>\n",
              "      <td id=\"T_59e4b_row2_col17\" class=\"data row2 col17\" >0</td>\n",
              "    </tr>\n",
              "    <tr>\n",
              "      <th id=\"T_59e4b_level0_row3\" class=\"row_heading level0 row3\" >3</th>\n",
              "      <td id=\"T_59e4b_row3_col0\" class=\"data row3 col0\" >0</td>\n",
              "      <td id=\"T_59e4b_row3_col1\" class=\"data row3 col1\" >93</td>\n",
              "      <td id=\"T_59e4b_row3_col2\" class=\"data row3 col2\" >244</td>\n",
              "      <td id=\"T_59e4b_row3_col3\" class=\"data row3 col3\" >249</td>\n",
              "      <td id=\"T_59e4b_row3_col4\" class=\"data row3 col4\" >253</td>\n",
              "      <td id=\"T_59e4b_row3_col5\" class=\"data row3 col5\" >187</td>\n",
              "      <td id=\"T_59e4b_row3_col6\" class=\"data row3 col6\" >46</td>\n",
              "      <td id=\"T_59e4b_row3_col7\" class=\"data row3 col7\" >10</td>\n",
              "      <td id=\"T_59e4b_row3_col8\" class=\"data row3 col8\" >8</td>\n",
              "      <td id=\"T_59e4b_row3_col9\" class=\"data row3 col9\" >4</td>\n",
              "      <td id=\"T_59e4b_row3_col10\" class=\"data row3 col10\" >10</td>\n",
              "      <td id=\"T_59e4b_row3_col11\" class=\"data row3 col11\" >194</td>\n",
              "      <td id=\"T_59e4b_row3_col12\" class=\"data row3 col12\" >253</td>\n",
              "      <td id=\"T_59e4b_row3_col13\" class=\"data row3 col13\" >253</td>\n",
              "      <td id=\"T_59e4b_row3_col14\" class=\"data row3 col14\" >233</td>\n",
              "      <td id=\"T_59e4b_row3_col15\" class=\"data row3 col15\" >0</td>\n",
              "      <td id=\"T_59e4b_row3_col16\" class=\"data row3 col16\" >0</td>\n",
              "      <td id=\"T_59e4b_row3_col17\" class=\"data row3 col17\" >0</td>\n",
              "    </tr>\n",
              "    <tr>\n",
              "      <th id=\"T_59e4b_level0_row4\" class=\"row_heading level0 row4\" >4</th>\n",
              "      <td id=\"T_59e4b_row4_col0\" class=\"data row4 col0\" >0</td>\n",
              "      <td id=\"T_59e4b_row4_col1\" class=\"data row4 col1\" >107</td>\n",
              "      <td id=\"T_59e4b_row4_col2\" class=\"data row4 col2\" >253</td>\n",
              "      <td id=\"T_59e4b_row4_col3\" class=\"data row4 col3\" >253</td>\n",
              "      <td id=\"T_59e4b_row4_col4\" class=\"data row4 col4\" >230</td>\n",
              "      <td id=\"T_59e4b_row4_col5\" class=\"data row4 col5\" >48</td>\n",
              "      <td id=\"T_59e4b_row4_col6\" class=\"data row4 col6\" >0</td>\n",
              "      <td id=\"T_59e4b_row4_col7\" class=\"data row4 col7\" >0</td>\n",
              "      <td id=\"T_59e4b_row4_col8\" class=\"data row4 col8\" >0</td>\n",
              "      <td id=\"T_59e4b_row4_col9\" class=\"data row4 col9\" >0</td>\n",
              "      <td id=\"T_59e4b_row4_col10\" class=\"data row4 col10\" >0</td>\n",
              "      <td id=\"T_59e4b_row4_col11\" class=\"data row4 col11\" >192</td>\n",
              "      <td id=\"T_59e4b_row4_col12\" class=\"data row4 col12\" >253</td>\n",
              "      <td id=\"T_59e4b_row4_col13\" class=\"data row4 col13\" >253</td>\n",
              "      <td id=\"T_59e4b_row4_col14\" class=\"data row4 col14\" >156</td>\n",
              "      <td id=\"T_59e4b_row4_col15\" class=\"data row4 col15\" >0</td>\n",
              "      <td id=\"T_59e4b_row4_col16\" class=\"data row4 col16\" >0</td>\n",
              "      <td id=\"T_59e4b_row4_col17\" class=\"data row4 col17\" >0</td>\n",
              "    </tr>\n",
              "    <tr>\n",
              "      <th id=\"T_59e4b_level0_row5\" class=\"row_heading level0 row5\" >5</th>\n",
              "      <td id=\"T_59e4b_row5_col0\" class=\"data row5 col0\" >0</td>\n",
              "      <td id=\"T_59e4b_row5_col1\" class=\"data row5 col1\" >3</td>\n",
              "      <td id=\"T_59e4b_row5_col2\" class=\"data row5 col2\" >20</td>\n",
              "      <td id=\"T_59e4b_row5_col3\" class=\"data row5 col3\" >20</td>\n",
              "      <td id=\"T_59e4b_row5_col4\" class=\"data row5 col4\" >15</td>\n",
              "      <td id=\"T_59e4b_row5_col5\" class=\"data row5 col5\" >0</td>\n",
              "      <td id=\"T_59e4b_row5_col6\" class=\"data row5 col6\" >0</td>\n",
              "      <td id=\"T_59e4b_row5_col7\" class=\"data row5 col7\" >0</td>\n",
              "      <td id=\"T_59e4b_row5_col8\" class=\"data row5 col8\" >0</td>\n",
              "      <td id=\"T_59e4b_row5_col9\" class=\"data row5 col9\" >0</td>\n",
              "      <td id=\"T_59e4b_row5_col10\" class=\"data row5 col10\" >43</td>\n",
              "      <td id=\"T_59e4b_row5_col11\" class=\"data row5 col11\" >224</td>\n",
              "      <td id=\"T_59e4b_row5_col12\" class=\"data row5 col12\" >253</td>\n",
              "      <td id=\"T_59e4b_row5_col13\" class=\"data row5 col13\" >245</td>\n",
              "      <td id=\"T_59e4b_row5_col14\" class=\"data row5 col14\" >74</td>\n",
              "      <td id=\"T_59e4b_row5_col15\" class=\"data row5 col15\" >0</td>\n",
              "      <td id=\"T_59e4b_row5_col16\" class=\"data row5 col16\" >0</td>\n",
              "      <td id=\"T_59e4b_row5_col17\" class=\"data row5 col17\" >0</td>\n",
              "    </tr>\n",
              "    <tr>\n",
              "      <th id=\"T_59e4b_level0_row6\" class=\"row_heading level0 row6\" >6</th>\n",
              "      <td id=\"T_59e4b_row6_col0\" class=\"data row6 col0\" >0</td>\n",
              "      <td id=\"T_59e4b_row6_col1\" class=\"data row6 col1\" >0</td>\n",
              "      <td id=\"T_59e4b_row6_col2\" class=\"data row6 col2\" >0</td>\n",
              "      <td id=\"T_59e4b_row6_col3\" class=\"data row6 col3\" >0</td>\n",
              "      <td id=\"T_59e4b_row6_col4\" class=\"data row6 col4\" >0</td>\n",
              "      <td id=\"T_59e4b_row6_col5\" class=\"data row6 col5\" >0</td>\n",
              "      <td id=\"T_59e4b_row6_col6\" class=\"data row6 col6\" >0</td>\n",
              "      <td id=\"T_59e4b_row6_col7\" class=\"data row6 col7\" >0</td>\n",
              "      <td id=\"T_59e4b_row6_col8\" class=\"data row6 col8\" >0</td>\n",
              "      <td id=\"T_59e4b_row6_col9\" class=\"data row6 col9\" >0</td>\n",
              "      <td id=\"T_59e4b_row6_col10\" class=\"data row6 col10\" >249</td>\n",
              "      <td id=\"T_59e4b_row6_col11\" class=\"data row6 col11\" >253</td>\n",
              "      <td id=\"T_59e4b_row6_col12\" class=\"data row6 col12\" >245</td>\n",
              "      <td id=\"T_59e4b_row6_col13\" class=\"data row6 col13\" >126</td>\n",
              "      <td id=\"T_59e4b_row6_col14\" class=\"data row6 col14\" >0</td>\n",
              "      <td id=\"T_59e4b_row6_col15\" class=\"data row6 col15\" >0</td>\n",
              "      <td id=\"T_59e4b_row6_col16\" class=\"data row6 col16\" >0</td>\n",
              "      <td id=\"T_59e4b_row6_col17\" class=\"data row6 col17\" >0</td>\n",
              "    </tr>\n",
              "    <tr>\n",
              "      <th id=\"T_59e4b_level0_row7\" class=\"row_heading level0 row7\" >7</th>\n",
              "      <td id=\"T_59e4b_row7_col0\" class=\"data row7 col0\" >0</td>\n",
              "      <td id=\"T_59e4b_row7_col1\" class=\"data row7 col1\" >0</td>\n",
              "      <td id=\"T_59e4b_row7_col2\" class=\"data row7 col2\" >0</td>\n",
              "      <td id=\"T_59e4b_row7_col3\" class=\"data row7 col3\" >0</td>\n",
              "      <td id=\"T_59e4b_row7_col4\" class=\"data row7 col4\" >0</td>\n",
              "      <td id=\"T_59e4b_row7_col5\" class=\"data row7 col5\" >0</td>\n",
              "      <td id=\"T_59e4b_row7_col6\" class=\"data row7 col6\" >0</td>\n",
              "      <td id=\"T_59e4b_row7_col7\" class=\"data row7 col7\" >14</td>\n",
              "      <td id=\"T_59e4b_row7_col8\" class=\"data row7 col8\" >101</td>\n",
              "      <td id=\"T_59e4b_row7_col9\" class=\"data row7 col9\" >223</td>\n",
              "      <td id=\"T_59e4b_row7_col10\" class=\"data row7 col10\" >253</td>\n",
              "      <td id=\"T_59e4b_row7_col11\" class=\"data row7 col11\" >248</td>\n",
              "      <td id=\"T_59e4b_row7_col12\" class=\"data row7 col12\" >124</td>\n",
              "      <td id=\"T_59e4b_row7_col13\" class=\"data row7 col13\" >0</td>\n",
              "      <td id=\"T_59e4b_row7_col14\" class=\"data row7 col14\" >0</td>\n",
              "      <td id=\"T_59e4b_row7_col15\" class=\"data row7 col15\" >0</td>\n",
              "      <td id=\"T_59e4b_row7_col16\" class=\"data row7 col16\" >0</td>\n",
              "      <td id=\"T_59e4b_row7_col17\" class=\"data row7 col17\" >0</td>\n",
              "    </tr>\n",
              "    <tr>\n",
              "      <th id=\"T_59e4b_level0_row8\" class=\"row_heading level0 row8\" >8</th>\n",
              "      <td id=\"T_59e4b_row8_col0\" class=\"data row8 col0\" >0</td>\n",
              "      <td id=\"T_59e4b_row8_col1\" class=\"data row8 col1\" >0</td>\n",
              "      <td id=\"T_59e4b_row8_col2\" class=\"data row8 col2\" >0</td>\n",
              "      <td id=\"T_59e4b_row8_col3\" class=\"data row8 col3\" >0</td>\n",
              "      <td id=\"T_59e4b_row8_col4\" class=\"data row8 col4\" >0</td>\n",
              "      <td id=\"T_59e4b_row8_col5\" class=\"data row8 col5\" >11</td>\n",
              "      <td id=\"T_59e4b_row8_col6\" class=\"data row8 col6\" >166</td>\n",
              "      <td id=\"T_59e4b_row8_col7\" class=\"data row8 col7\" >239</td>\n",
              "      <td id=\"T_59e4b_row8_col8\" class=\"data row8 col8\" >253</td>\n",
              "      <td id=\"T_59e4b_row8_col9\" class=\"data row8 col9\" >253</td>\n",
              "      <td id=\"T_59e4b_row8_col10\" class=\"data row8 col10\" >253</td>\n",
              "      <td id=\"T_59e4b_row8_col11\" class=\"data row8 col11\" >187</td>\n",
              "      <td id=\"T_59e4b_row8_col12\" class=\"data row8 col12\" >30</td>\n",
              "      <td id=\"T_59e4b_row8_col13\" class=\"data row8 col13\" >0</td>\n",
              "      <td id=\"T_59e4b_row8_col14\" class=\"data row8 col14\" >0</td>\n",
              "      <td id=\"T_59e4b_row8_col15\" class=\"data row8 col15\" >0</td>\n",
              "      <td id=\"T_59e4b_row8_col16\" class=\"data row8 col16\" >0</td>\n",
              "      <td id=\"T_59e4b_row8_col17\" class=\"data row8 col17\" >0</td>\n",
              "    </tr>\n",
              "    <tr>\n",
              "      <th id=\"T_59e4b_level0_row9\" class=\"row_heading level0 row9\" >9</th>\n",
              "      <td id=\"T_59e4b_row9_col0\" class=\"data row9 col0\" >0</td>\n",
              "      <td id=\"T_59e4b_row9_col1\" class=\"data row9 col1\" >0</td>\n",
              "      <td id=\"T_59e4b_row9_col2\" class=\"data row9 col2\" >0</td>\n",
              "      <td id=\"T_59e4b_row9_col3\" class=\"data row9 col3\" >0</td>\n",
              "      <td id=\"T_59e4b_row9_col4\" class=\"data row9 col4\" >0</td>\n",
              "      <td id=\"T_59e4b_row9_col5\" class=\"data row9 col5\" >16</td>\n",
              "      <td id=\"T_59e4b_row9_col6\" class=\"data row9 col6\" >248</td>\n",
              "      <td id=\"T_59e4b_row9_col7\" class=\"data row9 col7\" >250</td>\n",
              "      <td id=\"T_59e4b_row9_col8\" class=\"data row9 col8\" >253</td>\n",
              "      <td id=\"T_59e4b_row9_col9\" class=\"data row9 col9\" >253</td>\n",
              "      <td id=\"T_59e4b_row9_col10\" class=\"data row9 col10\" >253</td>\n",
              "      <td id=\"T_59e4b_row9_col11\" class=\"data row9 col11\" >253</td>\n",
              "      <td id=\"T_59e4b_row9_col12\" class=\"data row9 col12\" >232</td>\n",
              "      <td id=\"T_59e4b_row9_col13\" class=\"data row9 col13\" >213</td>\n",
              "      <td id=\"T_59e4b_row9_col14\" class=\"data row9 col14\" >111</td>\n",
              "      <td id=\"T_59e4b_row9_col15\" class=\"data row9 col15\" >2</td>\n",
              "      <td id=\"T_59e4b_row9_col16\" class=\"data row9 col16\" >0</td>\n",
              "      <td id=\"T_59e4b_row9_col17\" class=\"data row9 col17\" >0</td>\n",
              "    </tr>\n",
              "    <tr>\n",
              "      <th id=\"T_59e4b_level0_row10\" class=\"row_heading level0 row10\" >10</th>\n",
              "      <td id=\"T_59e4b_row10_col0\" class=\"data row10 col0\" >0</td>\n",
              "      <td id=\"T_59e4b_row10_col1\" class=\"data row10 col1\" >0</td>\n",
              "      <td id=\"T_59e4b_row10_col2\" class=\"data row10 col2\" >0</td>\n",
              "      <td id=\"T_59e4b_row10_col3\" class=\"data row10 col3\" >0</td>\n",
              "      <td id=\"T_59e4b_row10_col4\" class=\"data row10 col4\" >0</td>\n",
              "      <td id=\"T_59e4b_row10_col5\" class=\"data row10 col5\" >0</td>\n",
              "      <td id=\"T_59e4b_row10_col6\" class=\"data row10 col6\" >0</td>\n",
              "      <td id=\"T_59e4b_row10_col7\" class=\"data row10 col7\" >43</td>\n",
              "      <td id=\"T_59e4b_row10_col8\" class=\"data row10 col8\" >98</td>\n",
              "      <td id=\"T_59e4b_row10_col9\" class=\"data row10 col9\" >98</td>\n",
              "      <td id=\"T_59e4b_row10_col10\" class=\"data row10 col10\" >208</td>\n",
              "      <td id=\"T_59e4b_row10_col11\" class=\"data row10 col11\" >253</td>\n",
              "      <td id=\"T_59e4b_row10_col12\" class=\"data row10 col12\" >253</td>\n",
              "      <td id=\"T_59e4b_row10_col13\" class=\"data row10 col13\" >253</td>\n",
              "      <td id=\"T_59e4b_row10_col14\" class=\"data row10 col14\" >253</td>\n",
              "      <td id=\"T_59e4b_row10_col15\" class=\"data row10 col15\" >187</td>\n",
              "      <td id=\"T_59e4b_row10_col16\" class=\"data row10 col16\" >22</td>\n",
              "      <td id=\"T_59e4b_row10_col17\" class=\"data row10 col17\" >0</td>\n",
              "    </tr>\n",
              "  </tbody>\n",
              "</table>\n"
            ]
          },
          "metadata": {},
          "execution_count": 13
        }
      ]
    },
    {
      "cell_type": "markdown",
      "source": [
        "#### 픽셀 유사성"
      ],
      "metadata": {
        "id": "aZRm9eOZsnFE"
      }
    },
    {
      "cell_type": "code",
      "source": [
        "# 텐서 목록으로 구성된 리스트 생성하기\n",
        "seven_tensors = [tensor(Image.open(o)) for o in sevens]\n",
        "three_tensors = [tensor(Image.open(o)) for o in threes]\n",
        "len(three_tensors), len(seven_tensors)"
      ],
      "metadata": {
        "colab": {
          "base_uri": "https://localhost:8080/"
        },
        "id": "76d_ZvWRsm9l",
        "outputId": "12c572e2-c797-4048-d49e-9489965d7cba"
      },
      "execution_count": 14,
      "outputs": [
        {
          "output_type": "execute_result",
          "data": {
            "text/plain": [
              "(6131, 6265)"
            ]
          },
          "metadata": {},
          "execution_count": 14
        }
      ]
    },
    {
      "cell_type": "code",
      "source": [
        "# 텐서 형태 이미지 출력하기\n",
        "show_image(three_tensors[1]);"
      ],
      "metadata": {
        "colab": {
          "base_uri": "https://localhost:8080/",
          "height": 114
        },
        "id": "xe7KWlRrtUYo",
        "outputId": "0e6d8563-2eba-4fdf-a93f-11aa18ac31a0"
      },
      "execution_count": 15,
      "outputs": [
        {
          "output_type": "display_data",
          "data": {
            "text/plain": [
              "<Figure size 100x100 with 1 Axes>"
            ],
            "image/png": "[encoded data removed]"
          },
          "metadata": {}
        }
      ]
    },
    {
      "cell_type": "code",
      "source": [
        "# 3차원 텐서(rank-3 tensor)로 결합하기\n",
        "stacked_sevens = torch.stack(seven_tensors).float()/255\n",
        "stacked_threes = torch.stack(three_tensors).float()/255\n",
        "stacked_threes.shape"
      ],
      "metadata": {
        "colab": {
          "base_uri": "https://localhost:8080/"
        },
        "id": "zeCkiOFMtu_9",
        "outputId": "8612d244-656c-448d-94d1-867b3b3cec3c"
      },
      "execution_count": 16,
      "outputs": [
        {
          "output_type": "execute_result",
          "data": {
            "text/plain": [
              "torch.Size([6131, 28, 28])"
            ]
          },
          "metadata": {},
          "execution_count": 16
        }
      ]
    },
    {
      "cell_type": "code",
      "source": [
        "# 랭크 확인하기\n",
        "len(stacked_threes.shape)"
      ],
      "metadata": {
        "colab": {
          "base_uri": "https://localhost:8080/"
        },
        "id": "UO0tyKB85Fyf",
        "outputId": "b8c9f308-536b-408b-c83c-67025b207874"
      },
      "execution_count": 17,
      "outputs": [
        {
          "output_type": "execute_result",
          "data": {
            "text/plain": [
              "3"
            ]
          },
          "metadata": {},
          "execution_count": 17
        }
      ]
    },
    {
      "cell_type": "code",
      "source": [
        "stacked_threes.ndim"
      ],
      "metadata": {
        "colab": {
          "base_uri": "https://localhost:8080/"
        },
        "id": "mrd2-k2J5dKj",
        "outputId": "1fea7038-b845-4b8a-e326-cfb812852f17"
      },
      "execution_count": 18,
      "outputs": [
        {
          "output_type": "execute_result",
          "data": {
            "text/plain": [
              "3"
            ]
          },
          "metadata": {},
          "execution_count": 18
        }
      ]
    },
    {
      "cell_type": "code",
      "source": [
        "# 0번째 차원의 평균으로 모든 이미지 텐서의 평균 구하기\n",
        "# 0번째 차원 : 이미지를 색인함.\n",
        "mean3 = stacked_threes.mean(0)\n",
        "show_image(mean3);"
      ],
      "metadata": {
        "colab": {
          "base_uri": "https://localhost:8080/",
          "height": 114
        },
        "id": "q2i6JFWs5kLQ",
        "outputId": "7ad0e4fa-11af-4ea6-f05d-0da8c83c84d3"
      },
      "execution_count": 19,
      "outputs": [
        {
          "output_type": "display_data",
          "data": {
            "text/plain": [
              "<Figure size 100x100 with 1 Axes>"
            ],
            "image/png": "[encoded data removed]"
          },
          "metadata": {}
        }
      ]
    },
    {
      "cell_type": "code",
      "source": [
        "mean7 = stacked_sevens.mean(0)\n",
        "show_image(mean7);"
      ],
      "metadata": {
        "colab": {
          "base_uri": "https://localhost:8080/",
          "height": 114
        },
        "id": "p2KvUJRR7M1B",
        "outputId": "e43bd129-2f6a-46a9-e2c3-ca7f05e06a26"
      },
      "execution_count": 20,
      "outputs": [
        {
          "output_type": "display_data",
          "data": {
            "text/plain": [
              "<Figure size 100x100 with 1 Axes>"
            ],
            "image/png": "[encoded data removed]"
          },
          "metadata": {}
        }
      ]
    },
    {
      "cell_type": "markdown",
      "source": [
        "#### 거리 유사성 측정하기"
      ],
      "metadata": {
        "id": "npycfhbJAf0c"
      }
    },
    {
      "cell_type": "code",
      "source": [
        "# 임의로 선택한 숫자3 샘플\n",
        "a_3 = stacked_threes[1]\n",
        "show_image(a_3);"
      ],
      "metadata": {
        "colab": {
          "base_uri": "https://localhost:8080/",
          "height": 114
        },
        "id": "XV8msYcZAfsZ",
        "outputId": "355a960d-8a25-4840-f6b3-2a7b7310fbc8"
      },
      "execution_count": 21,
      "outputs": [
        {
          "output_type": "display_data",
          "data": {
            "text/plain": [
              "<Figure size 100x100 with 1 Axes>"
            ],
            "image/png": "[encoded data removed]"
          },
          "metadata": {}
        }
      ]
    },
    {
      "cell_type": "code",
      "source": [
        "# RMSE, MAD 모두 시행해보기\n",
        "dist_3_abs = (a_3 - mean3).abs().mean()\n",
        "dist_3_sqr = ((a_3 - mean3)**2).mean().sqrt()\n",
        "dist_3_abs, dist_3_sqr"
      ],
      "metadata": {
        "colab": {
          "base_uri": "https://localhost:8080/"
        },
        "id": "tB3K_MZ9A67D",
        "outputId": "0b0b60a0-a471-45f2-f8f0-73eb46b68742"
      },
      "execution_count": 22,
      "outputs": [
        {
          "output_type": "execute_result",
          "data": {
            "text/plain": [
              "(tensor(0.1114), tensor(0.2021))"
            ]
          },
          "metadata": {},
          "execution_count": 22
        }
      ]
    },
    {
      "cell_type": "code",
      "source": [
        "dist_7_abs = (a_3 - mean7).abs().mean()\n",
        "dist_7_sqr = ((a_3 - mean7)**2).mean().sqrt()\n",
        "dist_7_abs, dist_7_sqr"
      ],
      "metadata": {
        "colab": {
          "base_uri": "https://localhost:8080/"
        },
        "id": "DDAxOiFgBVFg",
        "outputId": "6d5f9840-9124-40ce-bc4a-2ee1824bf240"
      },
      "execution_count": 23,
      "outputs": [
        {
          "output_type": "execute_result",
          "data": {
            "text/plain": [
              "(tensor(0.1586), tensor(0.3021))"
            ]
          },
          "metadata": {},
          "execution_count": 23
        }
      ]
    },
    {
      "cell_type": "code",
      "source": [
        "# 손실함수\n",
        "F.l1_loss(a_3.float(), mean7), F.mse_loss(a_3, mean7).sqrt()"
      ],
      "metadata": {
        "colab": {
          "base_uri": "https://localhost:8080/"
        },
        "id": "XUkbOKQsBrTr",
        "outputId": "2d511fde-7938-493d-a8ba-65a7bd7a07dc"
      },
      "execution_count": 24,
      "outputs": [
        {
          "output_type": "execute_result",
          "data": {
            "text/plain": [
              "(tensor(0.1586), tensor(0.3021))"
            ]
          },
          "metadata": {},
          "execution_count": 24
        }
      ]
    },
    {
      "cell_type": "markdown",
      "source": [
        "#### 넘파이 배열과 파이토치 텐서"
      ],
      "metadata": {
        "id": "nhu3EnvWEOQN"
      }
    },
    {
      "cell_type": "code",
      "source": [
        "# 리스트로 배열/텐서 생성하기\n",
        "data = [[1,2,3],[4,5,6]]\n",
        "arr = array(data)\n",
        "tns = tensor(data)"
      ],
      "metadata": {
        "id": "cHkMY3yAEOFu"
      },
      "execution_count": 25,
      "outputs": []
    },
    {
      "cell_type": "code",
      "source": [
        "# 넘파이\n",
        "arr"
      ],
      "metadata": {
        "colab": {
          "base_uri": "https://localhost:8080/"
        },
        "id": "_5Y2v2SqFK6U",
        "outputId": "6594289b-b59e-4395-e048-2fe355faa3c8"
      },
      "execution_count": 26,
      "outputs": [
        {
          "output_type": "execute_result",
          "data": {
            "text/plain": [
              "array([[1, 2, 3],\n",
              "       [4, 5, 6]])"
            ]
          },
          "metadata": {},
          "execution_count": 26
        }
      ]
    },
    {
      "cell_type": "code",
      "source": [
        "# 파이토치\n",
        "tns"
      ],
      "metadata": {
        "colab": {
          "base_uri": "https://localhost:8080/"
        },
        "id": "ZoeoTZOlFNAA",
        "outputId": "847a5876-5768-4662-bcf8-4a055bbafb04"
      },
      "execution_count": 27,
      "outputs": [
        {
          "output_type": "execute_result",
          "data": {
            "text/plain": [
              "tensor([[1, 2, 3],\n",
              "        [4, 5, 6]])"
            ]
          },
          "metadata": {},
          "execution_count": 27
        }
      ]
    },
    {
      "cell_type": "code",
      "source": [
        "tns[1]"
      ],
      "metadata": {
        "colab": {
          "base_uri": "https://localhost:8080/"
        },
        "id": "XVJbu3VkFQ4c",
        "outputId": "f36d55f3-9a68-4ce7-a848-ce30ac153dd2"
      },
      "execution_count": 28,
      "outputs": [
        {
          "output_type": "execute_result",
          "data": {
            "text/plain": [
              "tensor([4, 5, 6])"
            ]
          },
          "metadata": {},
          "execution_count": 28
        }
      ]
    },
    {
      "cell_type": "code",
      "source": [
        "tns[:,1]"
      ],
      "metadata": {
        "colab": {
          "base_uri": "https://localhost:8080/"
        },
        "id": "2J-Eyw14FVfe",
        "outputId": "cf4a7cdd-d329-475c-8219-4c1545df76c0"
      },
      "execution_count": 29,
      "outputs": [
        {
          "output_type": "execute_result",
          "data": {
            "text/plain": [
              "tensor([2, 5])"
            ]
          },
          "metadata": {},
          "execution_count": 29
        }
      ]
    },
    {
      "cell_type": "code",
      "source": [
        "# 행/열의 일부분을 자유롭게 선택할 수 있음\n",
        "tns[1,1:3]"
      ],
      "metadata": {
        "colab": {
          "base_uri": "https://localhost:8080/"
        },
        "id": "oPTCOSIMFi-p",
        "outputId": "ce6f8e2f-f426-47f0-fbf4-df8313309c5a"
      },
      "execution_count": 30,
      "outputs": [
        {
          "output_type": "execute_result",
          "data": {
            "text/plain": [
              "tensor([5, 6])"
            ]
          },
          "metadata": {},
          "execution_count": 30
        }
      ]
    },
    {
      "cell_type": "code",
      "source": [
        "# 표준 연산자\n",
        "tns+1"
      ],
      "metadata": {
        "colab": {
          "base_uri": "https://localhost:8080/"
        },
        "id": "_3vdM0-dFroo",
        "outputId": "3aa804ae-b63a-4632-e794-ded0e093d2fb"
      },
      "execution_count": 31,
      "outputs": [
        {
          "output_type": "execute_result",
          "data": {
            "text/plain": [
              "tensor([[2, 3, 4],\n",
              "        [5, 6, 7]])"
            ]
          },
          "metadata": {},
          "execution_count": 31
        }
      ]
    },
    {
      "cell_type": "code",
      "source": [
        "# 자료형 확인\n",
        "tns.type()"
      ],
      "metadata": {
        "colab": {
          "base_uri": "https://localhost:8080/",
          "height": 35
        },
        "id": "sMVclNfRFvTQ",
        "outputId": "adc28269-11bb-41b9-882d-835ba7e92dd4"
      },
      "execution_count": 32,
      "outputs": [
        {
          "output_type": "execute_result",
          "data": {
            "text/plain": [
              "'torch.LongTensor'"
            ],
            "application/vnd.google.colaboratory.intrinsic+json": {
              "type": "string"
            }
          },
          "metadata": {},
          "execution_count": 32
        }
      ]
    },
    {
      "cell_type": "code",
      "source": [
        "# 자료형 자동으로 바꾸기(정수>부동소수점)\n",
        "tns * 1.5"
      ],
      "metadata": {
        "colab": {
          "base_uri": "https://localhost:8080/"
        },
        "id": "38HguhLjFzwd",
        "outputId": "1a97feea-1a7c-407a-f7a6-599a1fec9cee"
      },
      "execution_count": 33,
      "outputs": [
        {
          "output_type": "execute_result",
          "data": {
            "text/plain": [
              "tensor([[1.5000, 3.0000, 4.5000],\n",
              "        [6.0000, 7.5000, 9.0000]])"
            ]
          },
          "metadata": {},
          "execution_count": 33
        }
      ]
    },
    {
      "cell_type": "markdown",
      "source": [
        "### 브로드캐스팅으로 평가지표 계산하기\n",
        "- 브로드캐스팅 : 더 낮은 랭크의 텐서를 더 높은 텐서와 같은 크기로 자동 확장"
      ],
      "metadata": {
        "id": "SSjWVdqjF_BT"
      }
    },
    {
      "cell_type": "code",
      "source": [
        "valid_3_tens = torch.stack([tensor(Image.open(o)) for o in (path/'valid'/'3').ls()])\n",
        "valid_3_tens = valid_3_tens.float()/255\n",
        "valid_7_tens = torch.stack([tensor(Image.open(o)) for o in (path/'valid'/'7').ls()])\n",
        "valid_7_tens = valid_7_tens.float()/255\n",
        "# 크기(모양) 확인\n",
        "valid_3_tens.shape, valid_7_tens.shape"
      ],
      "metadata": {
        "colab": {
          "base_uri": "https://localhost:8080/"
        },
        "id": "Me3BYt2dF-y7",
        "outputId": "fd73e8ae-4c39-4c24-97a4-e2f3847e1342"
      },
      "execution_count": 34,
      "outputs": [
        {
          "output_type": "execute_result",
          "data": {
            "text/plain": [
              "(torch.Size([1010, 28, 28]), torch.Size([1028, 28, 28]))"
            ]
          },
          "metadata": {},
          "execution_count": 34
        }
      ]
    },
    {
      "cell_type": "code",
      "source": [
        "# 평균절대오차를 계산하는 함수 구현\n",
        "def mnist_distance(a,b) :\n",
        "  return (a-b).abs().mean((-1,-2))\n",
        "\n",
        "mnist_distance(a_3, mean3)"
      ],
      "metadata": {
        "colab": {
          "base_uri": "https://localhost:8080/"
        },
        "id": "ITq-f5dFhyU4",
        "outputId": "80f4398a-c467-433c-efda-8dc6a73ba8dc"
      },
      "execution_count": 35,
      "outputs": [
        {
          "output_type": "execute_result",
          "data": {
            "text/plain": [
              "tensor(0.1114)"
            ]
          },
          "metadata": {},
          "execution_count": 35
        }
      ]
    },
    {
      "cell_type": "code",
      "source": [
        "# 검증용 데이터셋 모두에 대해 거리 적용하기\n",
        "valid_3_dist = mnist_distance(valid_3_tens, mean3)\n",
        "valid_3_dist, valid_3_dist.shape"
      ],
      "metadata": {
        "colab": {
          "base_uri": "https://localhost:8080/"
        },
        "id": "EUmfn3RyjXto",
        "outputId": "eb214493-1e23-41b5-bf33-1fbc529e5277"
      },
      "execution_count": 36,
      "outputs": [
        {
          "output_type": "execute_result",
          "data": {
            "text/plain": [
              "(tensor([0.1590, 0.1102, 0.1366,  ..., 0.1344, 0.1599, 0.1160]),\n",
              " torch.Size([1010]))"
            ]
          },
          "metadata": {},
          "execution_count": 36
        }
      ]
    },
    {
      "cell_type": "code",
      "source": [
        "# 브로드캐스팅 예시\n",
        "tensor([1,2,3]) + tensor(1)"
      ],
      "metadata": {
        "colab": {
          "base_uri": "https://localhost:8080/"
        },
        "id": "fapLAvDKj32F",
        "outputId": "ba9b7bb0-d75e-4c51-8a81-9135e46474d2"
      },
      "execution_count": 37,
      "outputs": [
        {
          "output_type": "execute_result",
          "data": {
            "text/plain": [
              "tensor([2, 3, 4])"
            ]
          },
          "metadata": {},
          "execution_count": 37
        }
      ]
    },
    {
      "cell_type": "code",
      "source": [
        "(valid_3_tens-mean3).shape"
      ],
      "metadata": {
        "colab": {
          "base_uri": "https://localhost:8080/"
        },
        "id": "nBSTrUVFk7KQ",
        "outputId": "0ba04d8b-9292-4246-c96b-2e1480448e2b"
      },
      "execution_count": 38,
      "outputs": [
        {
          "output_type": "execute_result",
          "data": {
            "text/plain": [
              "torch.Size([1010, 28, 28])"
            ]
          },
          "metadata": {},
          "execution_count": 38
        }
      ]
    },
    {
      "cell_type": "code",
      "source": [
        "# is_3() 구현하기\n",
        "def is_3(x) :\n",
        "  return mnist_distance(x, mean3) < mnist_distance(x, mean7)"
      ],
      "metadata": {
        "id": "dxxTFWk_lvIl"
      },
      "execution_count": 39,
      "outputs": []
    },
    {
      "cell_type": "code",
      "source": [
        "# 실험해보기\n",
        "is_3(a_3), is_3(a_3).float()"
      ],
      "metadata": {
        "colab": {
          "base_uri": "https://localhost:8080/"
        },
        "id": "jvzhAZJBl8k7",
        "outputId": "7a7eb61e-881d-49aa-9096-2d0fd8fbf9fd"
      },
      "execution_count": 40,
      "outputs": [
        {
          "output_type": "execute_result",
          "data": {
            "text/plain": [
              "(tensor(True), tensor(1.))"
            ]
          },
          "metadata": {},
          "execution_count": 40
        }
      ]
    },
    {
      "cell_type": "code",
      "source": [
        "# 검증용 데이터셋에서 실험\n",
        "is_3(valid_3_tens)"
      ],
      "metadata": {
        "colab": {
          "base_uri": "https://localhost:8080/"
        },
        "id": "BSy0gCkCmHvC",
        "outputId": "b06c1753-f64b-4c01-90c7-88a18d8b9f3c"
      },
      "execution_count": 41,
      "outputs": [
        {
          "output_type": "execute_result",
          "data": {
            "text/plain": [
              "tensor([ True,  True,  True,  ...,  True, False,  True])"
            ]
          },
          "metadata": {},
          "execution_count": 41
        }
      ]
    },
    {
      "cell_type": "code",
      "source": [
        "# 정확도 계산하기\n",
        "accuracy_3s = is_3(valid_3_tens).float().mean()\n",
        "accuracy_7s = (1 - is_3(valid_7_tens).float()).mean()\n",
        "\n",
        "accuracy_3s, accuracy_7s, (accuracy_3s+accuracy_7s)/2"
      ],
      "metadata": {
        "colab": {
          "base_uri": "https://localhost:8080/"
        },
        "id": "7Sp-DAc2owb3",
        "outputId": "84dfe9f0-4efa-4de7-86ed-4ac6b0f12a2e"
      },
      "execution_count": 42,
      "outputs": [
        {
          "output_type": "execute_result",
          "data": {
            "text/plain": [
              "(tensor(0.9168), tensor(0.9854), tensor(0.9511))"
            ]
          },
          "metadata": {},
          "execution_count": 42
        }
      ]
    },
    {
      "cell_type": "markdown",
      "source": [
        "### 확률적 경사 하강법"
      ],
      "metadata": {
        "id": "I27z4b2tpVdC"
      }
    },
    {
      "cell_type": "code",
      "source": [
        "# 숫자 3이 될 확률\n",
        "def pr_three(x,w) :\n",
        "  return (x*w).sum()"
      ],
      "metadata": {
        "id": "pGYyfEZJpUAk"
      },
      "execution_count": 43,
      "outputs": []
    },
    {
      "cell_type": "markdown",
      "source": [
        "#### 간단한 예시"
      ],
      "metadata": {
        "id": "kl6WurpZskil"
      }
    },
    {
      "cell_type": "code",
      "source": [
        "# 2차 함수 정의\n",
        "def f(x) :\n",
        "  return x**2"
      ],
      "metadata": {
        "id": "JsJ2k9rSsh6P"
      },
      "execution_count": 44,
      "outputs": []
    },
    {
      "cell_type": "code",
      "source": [
        "# 그래프 그리기\n",
        "plot_function(f, 'x', 'x**2')"
      ],
      "metadata": {
        "colab": {
          "base_uri": "https://localhost:8080/",
          "height": 396
        },
        "id": "tLjJG729srCB",
        "outputId": "53342344-5f36-4c23-850a-c259261eaeb3"
      },
      "execution_count": 45,
      "outputs": [
        {
          "output_type": "display_data",
          "data": {
            "text/plain": [
              "<Figure size 600x400 with 1 Axes>"
            ],
            "image/png": "[encoded data removed]"
          },
          "metadata": {}
        }
      ]
    },
    {
      "cell_type": "code",
      "source": [
        "# 임의의 파라미터 값을 선택하고 손실값을 계산\n",
        "plot_function(f, 'x', 'x**2')\n",
        "plt.scatter(-1.5, f(-1.5), color='red');"
      ],
      "metadata": {
        "colab": {
          "base_uri": "https://localhost:8080/",
          "height": 396
        },
        "id": "DxHtwLW4sxh0",
        "outputId": "a3e7ae71-3502-4d6c-b56e-0864c0c6d3eb"
      },
      "execution_count": 46,
      "outputs": [
        {
          "output_type": "display_data",
          "data": {
            "text/plain": [
              "<Figure size 600x400 with 1 Axes>"
            ],
            "image/png": "[encoded data removed]"
          },
          "metadata": {}
        }
      ]
    },
    {
      "cell_type": "markdown",
      "source": [
        "#### 파이토치 자동미분"
      ],
      "metadata": {
        "id": "FK07DIS_zYJ8"
      }
    },
    {
      "cell_type": "code",
      "source": [
        "xt = tensor(3.).requires_grad_()"
      ],
      "metadata": {
        "id": "OWmadsAdzYB6"
      },
      "execution_count": 47,
      "outputs": []
    },
    {
      "cell_type": "code",
      "source": [
        "yt = f(xt)\n",
        "yt"
      ],
      "metadata": {
        "colab": {
          "base_uri": "https://localhost:8080/"
        },
        "id": "vSO5fX1A0wir",
        "outputId": "868a21c0-8d11-438a-dbba-313950778e4d"
      },
      "execution_count": 48,
      "outputs": [
        {
          "output_type": "execute_result",
          "data": {
            "text/plain": [
              "tensor(9., grad_fn=<PowBackward0>)"
            ]
          },
          "metadata": {},
          "execution_count": 48
        }
      ]
    },
    {
      "cell_type": "code",
      "source": [
        "# 그레디언트 계산\n",
        "yt.backward()"
      ],
      "metadata": {
        "id": "p-J5Qiw0010i"
      },
      "execution_count": 49,
      "outputs": []
    },
    {
      "cell_type": "code",
      "source": [
        "# 계산된 그레디언트 확인\n",
        "xt.grad"
      ],
      "metadata": {
        "colab": {
          "base_uri": "https://localhost:8080/"
        },
        "id": "sfLiucSW0_pN",
        "outputId": "27fcc253-8836-4622-a9ad-2cb2b671b649"
      },
      "execution_count": 50,
      "outputs": [
        {
          "output_type": "execute_result",
          "data": {
            "text/plain": [
              "tensor(6.)"
            ]
          },
          "metadata": {},
          "execution_count": 50
        }
      ]
    },
    {
      "cell_type": "code",
      "source": [
        "# 벡터를 입력해서 그레디언트 구하기\n",
        "xt = tensor([3.,4.,10.]).requires_grad_()\n",
        "xt"
      ],
      "metadata": {
        "colab": {
          "base_uri": "https://localhost:8080/"
        },
        "id": "fyeHWfNn1JtY",
        "outputId": "472cbf0d-1cf3-46fe-97ca-15f5647dc984"
      },
      "execution_count": 51,
      "outputs": [
        {
          "output_type": "execute_result",
          "data": {
            "text/plain": [
              "tensor([ 3.,  4., 10.], requires_grad=True)"
            ]
          },
          "metadata": {},
          "execution_count": 51
        }
      ]
    },
    {
      "cell_type": "code",
      "source": [
        "# 벡터가 입력되었을 때 스칼라값을 출력하는 함수\n",
        "def f(x) :\n",
        "  return (x**2).sum()"
      ],
      "metadata": {
        "id": "xZbNpGz55SYh"
      },
      "execution_count": 52,
      "outputs": []
    },
    {
      "cell_type": "code",
      "source": [
        "yt = f(xt)\n",
        "yt"
      ],
      "metadata": {
        "colab": {
          "base_uri": "https://localhost:8080/"
        },
        "id": "aEVc58io5hPU",
        "outputId": "ac6d2867-96b1-4e92-a980-983dae601ef2"
      },
      "execution_count": 53,
      "outputs": [
        {
          "output_type": "execute_result",
          "data": {
            "text/plain": [
              "tensor(125., grad_fn=<SumBackward0>)"
            ]
          },
          "metadata": {},
          "execution_count": 53
        }
      ]
    },
    {
      "cell_type": "code",
      "source": [
        "# 그레디언트 구하기\n",
        "yt.backward()\n",
        "xt.grad"
      ],
      "metadata": {
        "colab": {
          "base_uri": "https://localhost:8080/"
        },
        "id": "3-krSPgL5zTr",
        "outputId": "a3a91689-fab3-4390-ccd5-10b8a49405b7"
      },
      "execution_count": 54,
      "outputs": [
        {
          "output_type": "execute_result",
          "data": {
            "text/plain": [
              "tensor([ 6.,  8., 20.])"
            ]
          },
          "metadata": {},
          "execution_count": 54
        }
      ]
    },
    {
      "cell_type": "markdown",
      "source": [
        "#### SGD를 활용해보기"
      ],
      "metadata": {
        "id": "O_qNU2-N6GW1"
      }
    },
    {
      "cell_type": "code",
      "source": [
        "# 20초 동안 매초에 수작업으로 속력을 측정\n",
        "time = torch.arange(0,20).float();\n",
        "time"
      ],
      "metadata": {
        "colab": {
          "base_uri": "https://localhost:8080/"
        },
        "id": "TguKgodD6GQu",
        "outputId": "e84e2968-6539-4447-a828-a1e0547d4fb5"
      },
      "execution_count": 128,
      "outputs": [
        {
          "output_type": "execute_result",
          "data": {
            "text/plain": [
              "tensor([ 0.,  1.,  2.,  3.,  4.,  5.,  6.,  7.,  8.,  9., 10., 11., 12., 13., 14., 15., 16., 17., 18., 19.])"
            ]
          },
          "metadata": {},
          "execution_count": 128
        }
      ]
    },
    {
      "cell_type": "code",
      "source": [
        "# 임의의 노이즈 추가\n",
        "speed = torch.randn(20) * 3 + 0.75 * (time-9.5)**2 + 1\n",
        "plt.scatter(time, speed);"
      ],
      "metadata": {
        "colab": {
          "base_uri": "https://localhost:8080/",
          "height": 434
        },
        "id": "nUZcbxxZbKlf",
        "outputId": "20392777-901e-4865-cf21-86e8b1f362a0"
      },
      "execution_count": 129,
      "outputs": [
        {
          "output_type": "display_data",
          "data": {
            "text/plain": [
              "<Figure size 640x480 with 1 Axes>"
            ],
            "image/png": "[encoded data removed]"
          },
          "metadata": {}
        }
      ]
    },
    {
      "cell_type": "code",
      "source": [
        "# 모든 파라미터는 하나의 함수 인자로 담기\n",
        "def f(t, params) :\n",
        "  a,b,c = params\n",
        "  return a*(t**2) + (b*t) + c"
      ],
      "metadata": {
        "id": "0rI2FfkJba3C"
      },
      "execution_count": 130,
      "outputs": []
    },
    {
      "cell_type": "code",
      "source": [
        "# 손실 함수 정의\n",
        "def mse(preds, targets) :\n",
        "  return ((preds-targets)**2).mean().sqrt()"
      ],
      "metadata": {
        "id": "Shsfw4yFdkzx"
      },
      "execution_count": 131,
      "outputs": []
    },
    {
      "cell_type": "markdown",
      "source": [
        "##### 1. 파라미터 초기화"
      ],
      "metadata": {
        "id": "yaa4cUbJduRE"
      }
    },
    {
      "cell_type": "code",
      "source": [
        "params = torch.randn(3).requires_grad_()"
      ],
      "metadata": {
        "id": "SO3Y8jCMduHd"
      },
      "execution_count": 132,
      "outputs": []
    },
    {
      "cell_type": "markdown",
      "source": [
        "##### 2. 예측 계산"
      ],
      "metadata": {
        "id": "ZcdKpUmgd_s7"
      }
    },
    {
      "cell_type": "code",
      "source": [
        "preds = f(time, params)"
      ],
      "metadata": {
        "id": "3YI8-yOTdyHN"
      },
      "execution_count": 133,
      "outputs": []
    },
    {
      "cell_type": "code",
      "source": [
        "# 예측과 실제 타깃의 유사도를 그래프로 그리는 함수\n",
        "def show_preds(preds, ax=None) :\n",
        "  if ax is None :\n",
        "    ax=plt.subplots()[1]\n",
        "  ax.scatter(time, speed)\n",
        "  ax.scatter(time, to_np(preds), color='red')\n",
        "  ax.set_ylim(-300,100)"
      ],
      "metadata": {
        "id": "dC4Y4pKXeJh-"
      },
      "execution_count": 134,
      "outputs": []
    },
    {
      "cell_type": "code",
      "source": [
        "show_preds(preds)"
      ],
      "metadata": {
        "colab": {
          "base_uri": "https://localhost:8080/",
          "height": 441
        },
        "id": "wB9Hvl7SeXxS",
        "outputId": "7f174511-37da-4f40-83fb-0bbfa56f488d"
      },
      "execution_count": 135,
      "outputs": [
        {
          "output_type": "display_data",
          "data": {
            "text/plain": [
              "<Figure size 640x480 with 1 Axes>"
            ],
            "image/png": "[encoded data removed]"
          },
          "metadata": {}
        }
      ]
    },
    {
      "cell_type": "markdown",
      "source": [
        "##### 3. 손실 계산"
      ],
      "metadata": {
        "id": "6q71jpMrkQDM"
      }
    },
    {
      "cell_type": "code",
      "source": [
        "loss = mse(preds, speed)\n",
        "loss"
      ],
      "metadata": {
        "colab": {
          "base_uri": "https://localhost:8080/"
        },
        "id": "tyjrqwv5kP8L",
        "outputId": "ce8b945a-c727-47bf-b3cc-2897fa5af0d1"
      },
      "execution_count": 136,
      "outputs": [
        {
          "output_type": "execute_result",
          "data": {
            "text/plain": [
              "tensor(150.7024, grad_fn=<SqrtBackward0>)"
            ]
          },
          "metadata": {},
          "execution_count": 136
        }
      ]
    },
    {
      "cell_type": "markdown",
      "source": [
        "##### 4. 그레디언트 계산"
      ],
      "metadata": {
        "id": "j6QFkFWNklJE"
      }
    },
    {
      "cell_type": "code",
      "source": [
        "loss.backward()\n",
        "params.grad"
      ],
      "metadata": {
        "colab": {
          "base_uri": "https://localhost:8080/"
        },
        "id": "fvZj9SoyklBq",
        "outputId": "eb90ca08-0fc1-4837-fcc3-995d0d9ca332"
      },
      "execution_count": 137,
      "outputs": [
        {
          "output_type": "execute_result",
          "data": {
            "text/plain": [
              "tensor([165.0637,  10.6510,   0.6726])"
            ]
          },
          "metadata": {},
          "execution_count": 137
        }
      ]
    },
    {
      "cell_type": "code",
      "source": [
        "# 학습률 적용 : 계산된 그레디언트로 파라미터 개선\n",
        "params.grad * 1e-5"
      ],
      "metadata": {
        "colab": {
          "base_uri": "https://localhost:8080/"
        },
        "id": "mdxz1LveksTh",
        "outputId": "882e38c0-2cab-4d71-9d3b-370f34851e7f"
      },
      "execution_count": 138,
      "outputs": [
        {
          "output_type": "execute_result",
          "data": {
            "text/plain": [
              "tensor([1.6506e-03, 1.0651e-04, 6.7257e-06])"
            ]
          },
          "metadata": {},
          "execution_count": 138
        }
      ]
    },
    {
      "cell_type": "code",
      "source": [
        "params"
      ],
      "metadata": {
        "colab": {
          "base_uri": "https://localhost:8080/"
        },
        "id": "GEGIrucFk5sw",
        "outputId": "cc77ef94-09bf-4b5e-b376-ece7d14b3447"
      },
      "execution_count": 139,
      "outputs": [
        {
          "output_type": "execute_result",
          "data": {
            "text/plain": [
              "tensor([ 0.9652,  1.0090, -0.0337], requires_grad=True)"
            ]
          },
          "metadata": {},
          "execution_count": 139
        }
      ]
    },
    {
      "cell_type": "markdown",
      "source": [
        "##### 5. 가중치를 한 단계 계산하기"
      ],
      "metadata": {
        "id": "BrXzvefJlJKX"
      }
    },
    {
      "cell_type": "code",
      "source": [
        "lr = 1e-5\n",
        "params.data -= lr * params.grad.data\n",
        "params.grad = None"
      ],
      "metadata": {
        "id": "vzgO7W5yk9P4"
      },
      "execution_count": 140,
      "outputs": []
    },
    {
      "cell_type": "code",
      "source": [
        "# 손실 개선 확인하기\n",
        "preds = f(time, params)\n",
        "mse(preds, speed)"
      ],
      "metadata": {
        "colab": {
          "base_uri": "https://localhost:8080/"
        },
        "id": "6dJH3ofrmVbl",
        "outputId": "48f52650-e1fb-42b6-bc7a-14bfe3ed78ae"
      },
      "execution_count": 141,
      "outputs": [
        {
          "output_type": "execute_result",
          "data": {
            "text/plain": [
              "tensor(150.4288, grad_fn=<SqrtBackward0>)"
            ]
          },
          "metadata": {},
          "execution_count": 141
        }
      ]
    },
    {
      "cell_type": "code",
      "source": [
        "show_preds(preds)"
      ],
      "metadata": {
        "colab": {
          "base_uri": "https://localhost:8080/",
          "height": 441
        },
        "id": "BoZ7csgdmen5",
        "outputId": "262d65ea-90f9-441d-985c-012e38cba060"
      },
      "execution_count": 142,
      "outputs": [
        {
          "output_type": "display_data",
          "data": {
            "text/plain": [
              "<Figure size 640x480 with 1 Axes>"
            ],
            "image/png": "[encoded data removed]"
          },
          "metadata": {}
        }
      ]
    },
    {
      "cell_type": "code",
      "source": [
        "# 모든 과정을 담은 함수 만들기\n",
        "def apply_step(params, prn=True) :\n",
        "  preds = f(time, params)\n",
        "  loss = mse(preds, speed)\n",
        "  loss.backward()\n",
        "  params.data -= params.grad.data\n",
        "  params.grad = None\n",
        "  if prn :\n",
        "    print(loss.item())\n",
        "  return preds"
      ],
      "metadata": {
        "id": "BI44rCr6m0Ca"
      },
      "execution_count": 143,
      "outputs": []
    },
    {
      "cell_type": "markdown",
      "source": [
        "##### 6. 과정 반복하기"
      ],
      "metadata": {
        "id": "pOZxADZbnUGw"
      }
    },
    {
      "cell_type": "code",
      "source": [
        "for i in range(10) :\n",
        "  apply_step(params)"
      ],
      "metadata": {
        "colab": {
          "base_uri": "https://localhost:8080/"
        },
        "id": "nbrACaiPnT_a",
        "outputId": "0987a2b1-e743-429c-eb19-931ff54d409c"
      },
      "execution_count": 144,
      "outputs": [
        {
          "output_type": "stream",
          "name": "stdout",
          "text": [
            "150.4287872314453\n",
            "27651.572265625\n",
            "598.7077026367188\n",
            "27623.44921875\n",
            "626.8016357421875\n",
            "27597.81640625\n",
            "652.4073486328125\n",
            "27574.17578125\n",
            "676.0311889648438\n",
            "27552.171875\n"
          ]
        }
      ]
    },
    {
      "cell_type": "code",
      "source": [
        "# 시각화\n",
        "_, axs = plt.subplots(1,4, figsize=(12,3))\n",
        "for ax in axs :\n",
        "  show_preds(apply_step(params, False), ax)\n",
        "plt.tight_layout()"
      ],
      "metadata": {
        "colab": {
          "base_uri": "https://localhost:8080/",
          "height": 300
        },
        "id": "5efUO8vApAw2",
        "outputId": "9732cfee-d6a7-4032-cfed-c4377a9a4f3e"
      },
      "execution_count": 146,
      "outputs": [
        {
          "output_type": "display_data",
          "data": {
            "text/plain": [
              "<Figure size 1200x300 with 4 Axes>"
            ],
            "image/png": "[encoded data removed]"
          },
          "metadata": {}
        }
      ]
    },
    {
      "cell_type": "markdown",
      "source": [
        "### MNIST 손실함수"
      ],
      "metadata": {
        "id": "ofQbCB9sp0T1"
      }
    },
    {
      "cell_type": "code",
      "source": [
        "train_x = torch.cat([stacked_threes, stacked_sevens]).view(-1, 28*28)"
      ],
      "metadata": {
        "id": "4CsX2jVKp0Mv"
      },
      "execution_count": 149,
      "outputs": []
    },
    {
      "cell_type": "code",
      "source": [
        "# 각 이미지의 레이블(3:1, 7:0)\n",
        "train_y = tensor([1]*len(threes) + [0]*len(sevens)).unsqueeze(1)\n",
        "train_x.shape, train_y.shape"
      ],
      "metadata": {
        "colab": {
          "base_uri": "https://localhost:8080/"
        },
        "id": "fMTjiR0stbCj",
        "outputId": "8959b007-407c-4de9-9804-a2f48d13e82f"
      },
      "execution_count": 161,
      "outputs": [
        {
          "output_type": "execute_result",
          "data": {
            "text/plain": [
              "(torch.Size([12396, 784]), torch.Size([12396, 1]))"
            ]
          },
          "metadata": {},
          "execution_count": 161
        }
      ]
    },
    {
      "cell_type": "code",
      "source": [
        "# zip()함수를 list와 함께 사용하면 튜플을 간단히 구성할 수 있음.\n",
        "dset = list(zip(train_x, train_y))\n",
        "x, y = dset[0]\n",
        "x.shape, y"
      ],
      "metadata": {
        "colab": {
          "base_uri": "https://localhost:8080/"
        },
        "id": "GO6XEvK7t6CT",
        "outputId": "9e731e45-b40e-40b4-c447-9c0eeb6f5a67"
      },
      "execution_count": 163,
      "outputs": [
        {
          "output_type": "execute_result",
          "data": {
            "text/plain": [
              "(torch.Size([784]), tensor([1]))"
            ]
          },
          "metadata": {},
          "execution_count": 163
        }
      ]
    },
    {
      "cell_type": "code",
      "source": [
        "# 검증용 데이터\n",
        "valid_x = torch.cat([valid_3_tens, valid_7_tens]).view(-1, 28*28)\n",
        "valid_y = tensor([1]*len(valid_3_tens) + [0]*len(valid_7_tens)).unsqueeze(1)\n",
        "valid_x.shape, valid_y.shape"
      ],
      "metadata": {
        "colab": {
          "base_uri": "https://localhost:8080/"
        },
        "id": "imwA9qSbuy6V",
        "outputId": "1f584e27-b0f1-415c-c55a-1ac90e1d9435"
      },
      "execution_count": 164,
      "outputs": [
        {
          "output_type": "execute_result",
          "data": {
            "text/plain": [
              "(torch.Size([2038, 784]), torch.Size([2038, 1]))"
            ]
          },
          "metadata": {},
          "execution_count": 164
        }
      ]
    },
    {
      "cell_type": "code",
      "source": [
        "valid_dset = list(zip(valid_x, valid_y))"
      ],
      "metadata": {
        "id": "O2upVNQ2vxP4"
      },
      "execution_count": 165,
      "outputs": []
    },
    {
      "cell_type": "code",
      "source": [
        "# 각 픽셀에 임의로 초기화된 가중치가 필요함\n",
        "def init_params(size, std=1.0) :\n",
        "  return (torch.randn(size)*std).requires_grad_()\n",
        "\n",
        "weights = init_params((28*28,1))"
      ],
      "metadata": {
        "id": "6wdNeMOiv5O4"
      },
      "execution_count": 167,
      "outputs": []
    },
    {
      "cell_type": "code",
      "source": [],
      "metadata": {
        "id": "HT_LuDIvwWro"
      },
      "execution_count": null,
      "outputs": []
    }
  ]
}